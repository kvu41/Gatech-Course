{
 "cells": [
  {
   "cell_type": "markdown",
   "metadata": {},
   "source": [
    "# Code for problem 1 "
   ]
  },
  {
   "cell_type": "code",
   "execution_count": 13,
   "metadata": {},
   "outputs": [],
   "source": [
    "import sys\n",
    "\n",
    "\n",
    "from numpy import zeros, float32\n",
    "#  pgmpy\n",
    "import pgmpy\n",
    "from pgmpy.models import BayesianModel\n",
    "from pgmpy.factors.discrete import TabularCPD\n",
    "from pgmpy.inference import VariableElimination\n",
    "\n",
    "\n",
    "\n"
   ]
  },
  {
   "cell_type": "code",
   "execution_count": 14,
   "metadata": {},
   "outputs": [],
   "source": [
    "def make_power_plant_net():\n",
    "    \"\"\"Create a Bayes Net representation of the above power plant problem. \"\"\"\n",
    "  \n",
    "    BayesNet = BayesianModel()\n",
    "    nodes = ['G', 'H', 'C', 'S', 'W', 'I']\n",
    "    BayesNet.add_nodes_from(nodes)\n",
    "    \n",
    "    edges = [('G', 'H'), ('C', 'H'), ('C', 'W'), ('H', 'W'), ('H', 'S'), ('W', 'S'), ('W', 'I')]\n",
    "    BayesNet.add_edges_from(edges)\n",
    "    \n",
    "    return BayesNet"
   ]
  },
  {
   "cell_type": "code",
   "execution_count": 33,
   "metadata": {},
   "outputs": [],
   "source": [
    "\n",
    "def set_probability(bayes_net):\n",
    "    \"\"\"Set probability distribution for each node in the power plant system.\"\"\"\n",
    "    \n",
    "    # TODO: set the probability distribution for each node\n",
    "    cpd_G = TabularCPD('G', 2, values =[[0.8 , 0.2]])\n",
    "    cpd_C = TabularCPD('C', 2, values =[[0.6 , 0.4]])\n",
    "    cpd_I = TabularCPD('I', 2, values =[[0.3 , 0.7], \\\n",
    "                                       [0.7,0.3]], evidence =['W'], evidence_card =[2])\n",
    "\n",
    "\n",
    "    cpd_H = TabularCPD('H', 2, values =[[0.9 , 0.55, 0.5, 0.45],\\\n",
    "                                          [0.1 , 0.45, 0.5, 0.55]], evidence =['G', 'C'], evidence_card =[2,2])\n",
    "    cpd_S = TabularCPD('S', 2, values =[[0.8, 0.55, 0.5, 0.3],\\\n",
    "                                          [0.2, 0.45, 0.5, 0.7]], evidence =['H', 'W'], evidence_card =[2,2])\n",
    "    cpd_W = TabularCPD('W', 2, values =[[0.9, 0.55, 0.5, 0.45],\\\n",
    "                                          [0.1, 0.45, 0.5, 0.55]], evidence =['H', 'C'], evidence_card =[2,2])\n",
    "    \n",
    "    bayes_net.add_cpds(cpd_G,cpd_C,cpd_I,cpd_H,cpd_S,cpd_W )\n",
    "    \n",
    "    return bayes_net"
   ]
  },
  {
   "cell_type": "code",
   "execution_count": 34,
   "metadata": {},
   "outputs": [],
   "source": [
    "bayes_net = make_power_plant_net()"
   ]
  },
  {
   "cell_type": "code",
   "execution_count": 35,
   "metadata": {},
   "outputs": [],
   "source": [
    "bayes_net = set_probability(bayes_net)"
   ]
  },
  {
   "cell_type": "code",
   "execution_count": 38,
   "metadata": {},
   "outputs": [],
   "source": [
    "\n",
    "def get_N6_prob_N4(bayes_net):\n",
    "    \n",
    "    solver = VariableElimination(bayes_net)\n",
    "    conditional_prob = solver.query(variables=['I'],evidence={'G':1, 'H':0, 'W':0}, joint=False)\n",
    "    N6_N4_prob = conditional_prob['I'].values\n",
    "    return N6_N4_prob[0]\n"
   ]
  },
  {
   "cell_type": "code",
   "execution_count": 39,
   "metadata": {},
   "outputs": [
    {
     "name": "stderr",
     "output_type": "stream",
     "text": [
      "Finding Elimination Order: : 100%|██████████| 2/2 [00:00<00:00, 1026.63it/s]\n",
      "Eliminating: C: 100%|██████████| 2/2 [00:00<00:00, 341.06it/s]\n"
     ]
    },
    {
     "data": {
      "text/plain": [
       "0.3"
      ]
     },
     "execution_count": 39,
     "metadata": {},
     "output_type": "execute_result"
    }
   ],
   "source": [
    "get_N6_prob_N4(bayes_net)"
   ]
  },
  {
   "cell_type": "code",
   "execution_count": 40,
   "metadata": {},
   "outputs": [],
   "source": [
    "def get_N5_prob(bayes_net):\n",
    "    \n",
    "    # TODO: finish this function\n",
    "    solver = VariableElimination(bayes_net)\n",
    "    conditional_prob = solver.query(variables=['S'],evidence={'C':0, 'H':1}, joint=False)\n",
    "    N5_prob = conditional_prob['S'].values\n",
    "    return N5_prob[1]"
   ]
  },
  {
   "cell_type": "code",
   "execution_count": 41,
   "metadata": {},
   "outputs": [
    {
     "name": "stderr",
     "output_type": "stream",
     "text": [
      "Finding Elimination Order: : 100%|██████████| 3/3 [00:00<00:00, 1024.17it/s]\n",
      "Eliminating: W: 100%|██████████| 3/3 [00:00<00:00, 204.64it/s]\n"
     ]
    },
    {
     "data": {
      "text/plain": [
       "0.6"
      ]
     },
     "execution_count": 41,
     "metadata": {},
     "output_type": "execute_result"
    }
   ],
   "source": [
    "get_N5_prob(bayes_net)"
   ]
  },
  {
   "cell_type": "code",
   "execution_count": 42,
   "metadata": {},
   "outputs": [],
   "source": [
    "def get_S(bayes_net):\n",
    "    \n",
    "    # TODO: finish this function\n",
    "    solver = VariableElimination(bayes_net)\n",
    "    conditional_prob = solver.query(variables=['S'], joint=False)\n",
    "    N5_prob = conditional_prob['S'].values\n",
    "    return N5_prob[1]"
   ]
  },
  {
   "cell_type": "code",
   "execution_count": 44,
   "metadata": {},
   "outputs": [
    {
     "name": "stderr",
     "output_type": "stream",
     "text": [
      "Finding Elimination Order: : 100%|██████████| 5/5 [00:00<00:00, 1705.00it/s]\n",
      "Eliminating: C: 100%|██████████| 5/5 [00:00<00:00, 341.35it/s]\n"
     ]
    },
    {
     "data": {
      "text/plain": [
       "0.35643"
      ]
     },
     "execution_count": 44,
     "metadata": {},
     "output_type": "execute_result"
    }
   ],
   "source": [
    "get_S(bayes_net)"
   ]
  },
  {
   "cell_type": "code",
   "execution_count": 46,
   "metadata": {},
   "outputs": [],
   "source": [
    "def get_I(bayes_net):\n",
    "    \n",
    "    # TODO: finish this function\n",
    "    solver = VariableElimination(bayes_net)\n",
    "    conditional_prob = solver.query(variables=['I'], joint=False)\n",
    "    N5_prob = conditional_prob['I'].values\n",
    "    return N5_prob[1]"
   ]
  },
  {
   "cell_type": "code",
   "execution_count": 47,
   "metadata": {},
   "outputs": [
    {
     "name": "stderr",
     "output_type": "stream",
     "text": [
      "Finding Elimination Order: : 100%|██████████| 5/5 [00:00<00:00, 1707.36it/s]\n",
      "Eliminating: H: 100%|██████████| 5/5 [00:00<00:00, 365.67it/s]\n"
     ]
    },
    {
     "data": {
      "text/plain": [
       "0.5792"
      ]
     },
     "execution_count": 47,
     "metadata": {},
     "output_type": "execute_result"
    }
   ],
   "source": [
    "get_I(bayes_net)"
   ]
  },
  {
   "cell_type": "code",
   "execution_count": 48,
   "metadata": {},
   "outputs": [
    {
     "data": {
      "text/plain": [
       "0.22277000000000002"
      ]
     },
     "execution_count": 48,
     "metadata": {},
     "output_type": "execute_result"
    }
   ],
   "source": [
    "0.5792 - 0.35643"
   ]
  },
  {
   "cell_type": "code",
   "execution_count": 49,
   "metadata": {},
   "outputs": [
    {
     "name": "stderr",
     "output_type": "stream",
     "text": [
      "Finding Elimination Order: : 100%|██████████| 5/5 [00:00<00:00, 1707.22it/s]\n",
      "Eliminating: H: 100%|██████████| 5/5 [00:00<00:00, 320.00it/s]\n",
      "Finding Elimination Order: : 100%|██████████| 5/5 [00:00<00:00, 2561.88it/s]\n",
      "Eliminating: C: 100%|██████████| 5/5 [00:00<00:00, 341.31it/s]\n"
     ]
    },
    {
     "data": {
      "text/plain": [
       "0.22277000000000002"
      ]
     },
     "execution_count": 49,
     "metadata": {},
     "output_type": "execute_result"
    }
   ],
   "source": [
    "get_I(bayes_net) - get_S(bayes_net)"
   ]
  },
  {
   "cell_type": "code",
   "execution_count": null,
   "metadata": {},
   "outputs": [],
   "source": []
  }
 ],
 "metadata": {
  "kernelspec": {
   "display_name": "Python 3",
   "language": "python",
   "name": "python3"
  },
  "language_info": {
   "codemirror_mode": {
    "name": "ipython",
    "version": 3
   },
   "file_extension": ".py",
   "mimetype": "text/x-python",
   "name": "python",
   "nbconvert_exporter": "python",
   "pygments_lexer": "ipython3",
   "version": "3.7.4"
  }
 },
 "nbformat": 4,
 "nbformat_minor": 2
}
