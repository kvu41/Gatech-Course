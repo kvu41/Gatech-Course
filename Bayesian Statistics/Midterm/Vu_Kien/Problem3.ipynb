{
 "cells": [
  {
   "cell_type": "code",
   "execution_count": 23,
   "metadata": {},
   "outputs": [],
   "source": [
    "import numpy as np\n",
    "import matplotlib.pyplot as plt\n",
    "import numpy.random as rand"
   ]
  },
  {
   "cell_type": "code",
   "execution_count": 24,
   "metadata": {},
   "outputs": [],
   "source": [
    "rand.seed(0)\n",
    "def m1(mu_1):\n",
    "    f = 42*0.18**2 + 43*(0.65-mu_1)**2\n",
    "    return f\n",
    "def m2(mu_2):\n",
    "    f = 11*0.14**2 +12*(0.54-mu_2)**2\n",
    "    return f"
   ]
  },
  {
   "cell_type": "code",
   "execution_count": 25,
   "metadata": {},
   "outputs": [],
   "source": [
    "def normal_1(tau):\n",
    "    mu = (27.98*tau+0.6)/(43*tau+1)\n",
    "    sigma = 1/(43*tau +1)\n",
    "    f = rand.normal(mu, sigma, 1)\n",
    "    return f\n",
    "def normal_2(tau):\n",
    "    mu=(6.48*tau+0.6)/(12*tau+1)\n",
    "    sigma = 1/(12*tau +1)\n",
    "    f= rand.normal(mu,sigma,1)\n",
    "    return f\n",
    "def gamma_1(mu):\n",
    "    alpha = 41.5\n",
    "    beta = float(0.5+0.5*m1(mu))\n",
    "    f = rand.gamma(alpha, beta)\n",
    "    return f\n",
    "def gamma_2(mu):\n",
    "    alpha = 26\n",
    "    beta = float(0.5 + 0.5*m2(mu))\n",
    "    f = rand.gamma(alpha, beta)\n",
    "    return f\n",
    "    "
   ]
  },
  {
   "cell_type": "code",
   "execution_count": 26,
   "metadata": {},
   "outputs": [],
   "source": [
    "## Initialization\n",
    "mu_1 =0\n",
    "mu_2 = 0\n",
    "tau_1 =10\n",
    "tau_2 = 10\n",
    "for i in range(0,1000):\n",
    "    mu_1 = normal_1(tau_1)\n",
    "    mu_2 = normal_2(tau_2)\n",
    "    tau_1 = gamma_1(mu_1)\n",
    "    tau_2 = gamma_2(mu_2)"
   ]
  },
  {
   "cell_type": "code",
   "execution_count": 27,
   "metadata": {},
   "outputs": [],
   "source": [
    "result_1 = np.array([])\n",
    "result_2 = np.array([])\n",
    "result_diff = np.array([])\n"
   ]
  },
  {
   "cell_type": "code",
   "execution_count": 30,
   "metadata": {},
   "outputs": [
    {
     "name": "stdout",
     "output_type": "stream",
     "text": [
      "1.0\n",
      "After 11000 simulations, Bayesian Estimator for µ_1 is 0.650674563363189\n",
      "After 11000 simulations, Bayesian Estimator for µ_2 is 0.540355006109903\n",
      "95% credible set for µ_1 - µ_2 is [0.09609863038507038, 0.10800045665842561]\n"
     ]
    }
   ],
   "source": [
    "count = 0\n",
    "for i in range(10000):\n",
    "    mu_1 = normal_1(tau_1)\n",
    "    mu_2 = normal_2(tau_2)\n",
    "    tau_1 = gamma_1(mu_1)\n",
    "    tau_2 = gamma_2(mu_2)\n",
    "    if mu_1 >mu_2:\n",
    "        count +=1\n",
    "        result_1 = np.append(result_1, np.array(mu_1), 0)\n",
    "        result_2 = np.append(result_2, np.array(mu_2), 0)\n",
    "        result_diff = np.append(result_diff, np.array(mu_1-mu_2), 0)\n",
    "        \n",
    "print(count/10000)\n",
    "estimate_1 = np.mean(result_1)\n",
    "estimate_2 = np.mean(result_2)\n",
    "    \n",
    "result_sort = np.sort(result_diff)\n",
    "print(\"After 11000 simulations, Bayesian Estimator for µ_1 is\", estimate_1)\n",
    "print(\"After 11000 simulations, Bayesian Estimator for µ_2 is\", estimate_2)\n",
    "print(\"95% credible set for µ_1 - µ_2 is\" ,[result_sort[249], result_sort[9749]])\n",
    "    "
   ]
  },
  {
   "cell_type": "code",
   "execution_count": null,
   "metadata": {},
   "outputs": [],
   "source": []
  }
 ],
 "metadata": {
  "kernelspec": {
   "display_name": "Python 3",
   "language": "python",
   "name": "python3"
  },
  "language_info": {
   "codemirror_mode": {
    "name": "ipython",
    "version": 3
   },
   "file_extension": ".py",
   "mimetype": "text/x-python",
   "name": "python",
   "nbconvert_exporter": "python",
   "pygments_lexer": "ipython3",
   "version": "3.7.4"
  }
 },
 "nbformat": 4,
 "nbformat_minor": 2
}
