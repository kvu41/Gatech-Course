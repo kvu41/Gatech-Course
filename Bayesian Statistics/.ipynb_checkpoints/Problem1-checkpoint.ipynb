{
 "cells": [
  {
   "cell_type": "markdown",
   "metadata": {},
   "source": [
    "# Code for problem 1 "
   ]
  },
  {
   "cell_type": "code",
   "execution_count": 1,
   "metadata": {},
   "outputs": [],
   "source": [
    "import sys\n",
    "\n",
    "\n",
    "from numpy import zeros, float32\n",
    "#  pgmpy\n",
    "import pgmpy\n",
    "from pgmpy.models import BayesianModel\n",
    "from pgmpy.factors.discrete import TabularCPD\n",
    "from pgmpy.inference import VariableElimination\n",
    "\n",
    "\n",
    "\n"
   ]
  },
  {
   "cell_type": "code",
   "execution_count": 2,
   "metadata": {},
   "outputs": [],
   "source": [
    "def make_power_plant_net():\n",
    "    \"\"\"Create a Bayes Net representation of the above power plant problem. \"\"\"\n",
    "  \n",
    "    BayesNet = BayesianModel()\n",
    "    nodes = ['N1', 'N2', 'N3', 'N4', 'N5', 'N6']\n",
    "    BayesNet.add_nodes_from(nodes)\n",
    "    \n",
    "    edges = [('N1', 'N2'), ('N1', 'N3'), ('N2', 'N5'), ('N3', 'N4'), ('N5', 'N6'), ('N4', 'N6')]\n",
    "    BayesNet.add_edges_from(edges)\n",
    "    \n",
    "    return BayesNet"
   ]
  },
  {
   "cell_type": "code",
   "execution_count": 3,
   "metadata": {},
   "outputs": [],
   "source": [
    "\n",
    "def set_probability(bayes_net):\n",
    "    \"\"\"Set probability distribution for each node in the power plant system.\"\"\"\n",
    "    \n",
    "    # TODO: set the probability distribution for each node\n",
    "    cpd_N1 = TabularCPD('N1', 2, values =[[0.1 , 0.9]])\n",
    "    cpd_N2 = TabularCPD('N2', 2, values =[[0.05 , 0.1],\\\n",
    "                                          [0.95 , 0.9]], evidence =['N1'], evidence_card =[2] )\n",
    "    cpd_N3 = TabularCPD('N3', 2, values =[[0.05 , 0.1],\\\n",
    "                                          [0.95 , 0.9]], evidence =['N1'], evidence_card =[2] )\n",
    "    cpd_N4 = TabularCPD('N4', 2, values =[[0.05 , 0.1],\\\n",
    "                                          [0.95 , 0.9]], evidence =['N3'], evidence_card =[2] )\n",
    "    cpd_N5 = TabularCPD('N5', 2, values =[[0.05 , 0.1],\\\n",
    "                                          [0.95 , 0.9]], evidence =['N2'], evidence_card =[2] )\n",
    "    cpd_N6 = TabularCPD('N6', 2, values =[[0.05 , 0.1, 0.1, 0.1],\\\n",
    "                                          [0.95 , 0.9, 0.9, 0.9]], evidence =['N4', 'N5'], evidence_card =[2, 2] )\n",
    "    bayes_net.add_cpds(cpd_N1,cpd_N2,cpd_N3,cpd_N4,cpd_N5,cpd_N6 )\n",
    "    \n",
    "    return bayes_net"
   ]
  },
  {
   "cell_type": "code",
   "execution_count": 4,
   "metadata": {},
   "outputs": [],
   "source": [
    "bayes_net = make_power_plant_net()"
   ]
  },
  {
   "cell_type": "code",
   "execution_count": 5,
   "metadata": {},
   "outputs": [],
   "source": [
    "bayes_net = set_probability(bayes_net)"
   ]
  },
  {
   "cell_type": "code",
   "execution_count": 6,
   "metadata": {},
   "outputs": [],
   "source": [
    "def get_N6_prob(bayes_net):\n",
    "    \"\"\"Calculate the marginal\"\"\"\n",
    "    \n",
    "    solver = VariableElimination(bayes_net)\n",
    "    conditional_prob = solver.query(variables=['N6'],  joint=False)\n",
    "    prob = conditional_prob['N6'].values\n",
    "    N6_prob = prob[1]\n",
    "    return N6_prob"
   ]
  },
  {
   "cell_type": "code",
   "execution_count": 7,
   "metadata": {},
   "outputs": [
    {
     "name": "stderr",
     "output_type": "stream",
     "text": [
      "Finding Elimination Order: : 100%|██████████| 5/5 [00:00<00:00, 1712.52it/s]\n",
      "Eliminating: N4: 100%|██████████| 5/5 [00:00<00:00, 243.78it/s]\n"
     ]
    },
    {
     "data": {
      "text/plain": [
       "0.90045365625"
      ]
     },
     "execution_count": 7,
     "metadata": {},
     "output_type": "execute_result"
    }
   ],
   "source": [
    "get_N6_prob(bayes_net)"
   ]
  },
  {
   "cell_type": "code",
   "execution_count": 8,
   "metadata": {},
   "outputs": [
    {
     "data": {
      "text/plain": [
       "'probability that N6 will fire is 0.900453'"
      ]
     },
     "execution_count": 8,
     "metadata": {},
     "output_type": "execute_result"
    }
   ],
   "source": [
    "\"\"\"probability that N6 will fire is 0.900453\"\"\""
   ]
  },
  {
   "cell_type": "code",
   "execution_count": 9,
   "metadata": {},
   "outputs": [],
   "source": [
    "\n",
    "def get_N6_prob_N4(bayes_net):\n",
    "    \n",
    "    solver = VariableElimination(bayes_net)\n",
    "    conditional_prob = solver.query(variables=['N6'],evidence={'N4':0}, joint=False)\n",
    "    N6_N4_prob = conditional_prob['N6'].values\n",
    "    return N6_N4_prob[1]\n"
   ]
  },
  {
   "cell_type": "code",
   "execution_count": 10,
   "metadata": {},
   "outputs": [
    {
     "name": "stderr",
     "output_type": "stream",
     "text": [
      "Finding Elimination Order: : 100%|██████████| 4/4 [00:00<00:00, 2046.25it/s]\n",
      "Eliminating: N2: 100%|██████████| 4/4 [00:00<00:00, 409.60it/s]\n"
     ]
    },
    {
     "data": {
      "text/plain": [
       "0.9047627952755906"
      ]
     },
     "execution_count": 10,
     "metadata": {},
     "output_type": "execute_result"
    }
   ],
   "source": [
    "get_N6_prob_N4(bayes_net)"
   ]
  },
  {
   "cell_type": "code",
   "execution_count": 11,
   "metadata": {},
   "outputs": [
    {
     "data": {
      "text/plain": [
       "'probability that N6 will fire if N4 did not fire is 0.9047627'"
      ]
     },
     "execution_count": 11,
     "metadata": {},
     "output_type": "execute_result"
    }
   ],
   "source": [
    "\"\"\"probability that N6 will fire if N4 did not fire is 0.9047627\"\"\""
   ]
  },
  {
   "cell_type": "code",
   "execution_count": 12,
   "metadata": {},
   "outputs": [],
   "source": [
    "def get_N5_prob(bayes_net):\n",
    "    \n",
    "    # TODO: finish this function\n",
    "    solver = VariableElimination(bayes_net)\n",
    "    conditional_prob = solver.query(variables=['N2'],evidence={'N6':0}, joint=False)\n",
    "    N5_prob = conditional_prob['N2'].values\n",
    "    return N5_prob[1]"
   ]
  },
  {
   "cell_type": "code",
   "execution_count": 13,
   "metadata": {},
   "outputs": [
    {
     "name": "stderr",
     "output_type": "stream",
     "text": [
      "Finding Elimination Order: : 100%|██████████| 4/4 [00:00<00:00, 2047.75it/s]\n",
      "Eliminating: N1: 100%|██████████| 4/4 [00:00<00:00, 341.33it/s]\n"
     ]
    },
    {
     "data": {
      "text/plain": [
       "0.9047940296652031"
      ]
     },
     "execution_count": 13,
     "metadata": {},
     "output_type": "execute_result"
    }
   ],
   "source": [
    "get_N5_prob(bayes_net)"
   ]
  },
  {
   "cell_type": "code",
   "execution_count": 14,
   "metadata": {},
   "outputs": [
    {
     "data": {
      "text/plain": [
       "'Probability that N5 received stimulus if N6 did not fire is 0.904794'"
      ]
     },
     "execution_count": 14,
     "metadata": {},
     "output_type": "execute_result"
    }
   ],
   "source": [
    "\"\"\"Probability that N5 received stimulus if N6 did not fire is 0.904794\"\"\""
   ]
  },
  {
   "cell_type": "code",
   "execution_count": 15,
   "metadata": {},
   "outputs": [
    {
     "name": "stdout",
     "output_type": "stream",
     "text": [
      "Requirement already satisfied: nbconvert in c:\\users\\jack\\anaconda3\\lib\\site-packages (5.6.0)\n",
      "Requirement already satisfied: entrypoints>=0.2.2 in c:\\users\\jack\\anaconda3\\lib\\site-packages (from nbconvert) (0.3)\n",
      "Requirement already satisfied: testpath in c:\\users\\jack\\anaconda3\\lib\\site-packages (from nbconvert) (0.4.2)\n",
      "Requirement already satisfied: nbformat>=4.4 in c:\\users\\jack\\anaconda3\\lib\\site-packages (from nbconvert) (4.4.0)\n",
      "Requirement already satisfied: traitlets>=4.2 in c:\\users\\jack\\anaconda3\\lib\\site-packages (from nbconvert) (4.3.3)\n",
      "Requirement already satisfied: jupyter-core in c:\\users\\jack\\anaconda3\\lib\\site-packages (from nbconvert) (4.5.0)\n",
      "Requirement already satisfied: pandocfilters>=1.4.1 in c:\\users\\jack\\anaconda3\\lib\\site-packages (from nbconvert) (1.4.2)\n",
      "Requirement already satisfied: mistune<2,>=0.8.1 in c:\\users\\jack\\anaconda3\\lib\\site-packages (from nbconvert) (0.8.4)\n",
      "Requirement already satisfied: jinja2>=2.4 in c:\\users\\jack\\anaconda3\\lib\\site-packages (from nbconvert) (2.10.3)\n",
      "Requirement already satisfied: bleach in c:\\users\\jack\\anaconda3\\lib\\site-packages (from nbconvert) (3.1.0)\n",
      "Requirement already satisfied: defusedxml in c:\\users\\jack\\anaconda3\\lib\\site-packages (from nbconvert) (0.6.0)\n",
      "Requirement already satisfied: pygments in c:\\users\\jack\\anaconda3\\lib\\site-packages (from nbconvert) (2.4.2)\n",
      "Requirement already satisfied: jsonschema!=2.5.0,>=2.4 in c:\\users\\jack\\anaconda3\\lib\\site-packages (from nbformat>=4.4->nbconvert) (3.0.2)\n",
      "Requirement already satisfied: ipython-genutils in c:\\users\\jack\\anaconda3\\lib\\site-packages (from nbformat>=4.4->nbconvert) (0.2.0)\n",
      "Requirement already satisfied: six in c:\\users\\jack\\anaconda3\\lib\\site-packages (from traitlets>=4.2->nbconvert) (1.12.0)\n",
      "Requirement already satisfied: decorator in c:\\users\\jack\\anaconda3\\lib\\site-packages (from traitlets>=4.2->nbconvert) (4.4.0)\n",
      "Requirement already satisfied: MarkupSafe>=0.23 in c:\\users\\jack\\anaconda3\\lib\\site-packages (from jinja2>=2.4->nbconvert) (1.1.1)\n",
      "Requirement already satisfied: webencodings in c:\\users\\jack\\anaconda3\\lib\\site-packages (from bleach->nbconvert) (0.5.1)\n",
      "Requirement already satisfied: attrs>=17.4.0 in c:\\users\\jack\\anaconda3\\lib\\site-packages (from jsonschema!=2.5.0,>=2.4->nbformat>=4.4->nbconvert) (19.2.0)\n",
      "Requirement already satisfied: setuptools in c:\\users\\jack\\anaconda3\\lib\\site-packages (from jsonschema!=2.5.0,>=2.4->nbformat>=4.4->nbconvert) (41.4.0)\n",
      "Requirement already satisfied: pyrsistent>=0.14.0 in c:\\users\\jack\\anaconda3\\lib\\site-packages (from jsonschema!=2.5.0,>=2.4->nbformat>=4.4->nbconvert) (0.15.4)\n",
      "Note: you may need to restart the kernel to use updated packages.\n"
     ]
    }
   ],
   "source": [
    "#pip install nbconvert"
   ]
  },
  {
   "cell_type": "code",
   "execution_count": null,
   "metadata": {},
   "outputs": [],
   "source": []
  }
 ],
 "metadata": {
  "kernelspec": {
   "display_name": "Python 3",
   "language": "python",
   "name": "python3"
  },
  "language_info": {
   "codemirror_mode": {
    "name": "ipython",
    "version": 3
   },
   "file_extension": ".py",
   "mimetype": "text/x-python",
   "name": "python",
   "nbconvert_exporter": "python",
   "pygments_lexer": "ipython3",
   "version": "3.7.4"
  }
 },
 "nbformat": 4,
 "nbformat_minor": 2
}
