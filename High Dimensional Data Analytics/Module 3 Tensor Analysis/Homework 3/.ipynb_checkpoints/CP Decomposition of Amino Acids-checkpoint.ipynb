{
 "cells": [
  {
   "cell_type": "markdown",
   "metadata": {},
   "source": [
    "# CANDECOMP/PARAFAC (CP) Decomposition - Python Implementation\n"
   ]
  },
  {
   "cell_type": "markdown",
   "metadata": {},
   "source": [
    "Information from five laboratory-made samples is collected. Each sample contains different\n",
    "amounts of tyrosine, tryptophan and phenylanine dissolved in phosphate buffered water.\n",
    "The samples were measured by fluorescence (emission 250-450 nm, excitation 240-300 nm,\n",
    "1 nm intervals) on a spectrofluorometer. The array to be decomposed is then 5 \u0002 201 \u0002 61,\n",
    "it can be found as X in the file aminoacid.mat. Ideally, these data should be describable\n",
    "with three CP decomposition components, because each individual amino acid gives rank\n",
    "one contribution to the data."
   ]
  },
  {
   "cell_type": "code",
   "execution_count": 6,
   "metadata": {},
   "outputs": [
    {
     "name": "stdout",
     "output_type": "stream",
     "text": [
      "Requirement already up-to-date: tensorly in c:\\users\\jack\\anaconda3\\lib\\site-packages (0.4.5)\n",
      "Requirement already satisfied, skipping upgrade: numpy in c:\\users\\jack\\anaconda3\\lib\\site-packages (from tensorly) (1.16.5)\n",
      "Requirement already satisfied, skipping upgrade: nose in c:\\users\\jack\\anaconda3\\lib\\site-packages (from tensorly) (1.3.7)\n",
      "Requirement already satisfied, skipping upgrade: scipy in c:\\users\\jack\\anaconda3\\lib\\site-packages (from tensorly) (1.3.1)\n",
      "Note: you may need to restart the kernel to use updated packages.\n"
     ]
    }
   ],
   "source": [
    "pip install -U tensorly\n"
   ]
  },
  {
   "cell_type": "code",
   "execution_count": 23,
   "metadata": {},
   "outputs": [],
   "source": [
    "import numpy as np\n",
    "import pandas as pd\n",
    "import math\n",
    "import scipy.io as sio\n",
    "import random\n",
    "\n",
    "from tensortools.operations import unfold as tt_unfold, khatri_rao\n",
    "import tensorly as tl\n",
    "from tensorly import unfold as tl_unfold\n",
    "from tensorly.decomposition import parafac\n",
    "\n"
   ]
  },
  {
   "cell_type": "code",
   "execution_count": 24,
   "metadata": {},
   "outputs": [],
   "source": [
    "#\" Import .mat datafile using scipy.io\"\n",
    "df = sio.loadmat('aminoacid.mat')"
   ]
  },
  {
   "cell_type": "code",
   "execution_count": 25,
   "metadata": {},
   "outputs": [],
   "source": [
    "\"Getting X as numpy array from weird Matlab Object structure-.-\"\n",
    "X = df['X'][0][0][0]"
   ]
  },
  {
   "cell_type": "code",
   "execution_count": 26,
   "metadata": {},
   "outputs": [],
   "source": [
    "\"Concentration matrix of 3 amino acids: tyrosine, tryptophan, and phenylanine in 5 differenct lab samples\"\n",
    "Y = df['Y']\n",
    "np.random.seed(10)"
   ]
  },
  {
   "cell_type": "code",
   "execution_count": 52,
   "metadata": {},
   "outputs": [],
   "source": [
    "def cp_decomposition(X,rank = 3, max_iter =1000):\n",
    "    \n",
    "    \n",
    "    #Initializing random factor matrices for rank 3 \n",
    "    A = np.random.rand(X.shape[0], rank)\n",
    "    B = np.random.rand(X.shape[1],rank)\n",
    "    C = np.random.rand(X.shape[2],rank)\n",
    "    \n",
    "    \n",
    "    count = 0\n",
    "    \n",
    "   \n",
    "\n",
    "\n",
    "    while count < max_iter:\n",
    "        \n",
    "   \n",
    "        V = np.matmul(B.T,B)*np.matmul(C.T,C)\n",
    "        X1 = tl_unfold(X, mode = 0)\n",
    "        A_khatri_rao =khatri_rao((C,B))\n",
    "        A_inverse = np.linalg.inv(np.matmul(V.T,V))\n",
    "        A_new = np.matmul(np.matmul(np.matmul(X1, A_khatri_rao), A_inverse), V.T)\n",
    "        A_new[:,0] = A_new[:,0]/np.linalg.norm(A_new[:,0])\n",
    "        A_new[:,1] = A_new[:,1]/np.linalg.norm(A_new[:,1])\n",
    "        A_new[:,2] = A_new[:,2]/np.linalg.norm(A_new[:,2])\n",
    "        \n",
    "        \n",
    "        A = A_new\n",
    "        \n",
    "       \n",
    "        \n",
    "            \n",
    "        \n",
    "        \n",
    "        U = np.matmul(A.T,A)*np.matmul(C.T,C)\n",
    "        X2 = tl_unfold(X, mode = 1)\n",
    "        B_khatri_rao =khatri_rao((C,A))\n",
    "        B_inverse = np.linalg.inv(np.matmul(U.T,U))\n",
    "        B_new = np.matmul(np.matmul(np.matmul(X2, B_khatri_rao), B_inverse), U.T)\n",
    "        \n",
    "        \n",
    "        B_new[:,0] = B_new[:,0]/np.linalg.norm(B_new[:,0])\n",
    "        B_new[:,1] = B_new[:,1]/np.linalg.norm(B_new[:,1])\n",
    "        B_new[:,2] = B_new[:,2]/np.linalg.norm(B_new[:,2])\n",
    "        \n",
    "        B = B_new\n",
    "        \n",
    "        \n",
    "       \n",
    "        \n",
    "        \n",
    "        K = np.matmul(A.T,A)*np.matmul(B.T,B)\n",
    "        X3 = tl_unfold(X, mode = 2)\n",
    "        C_khatri_rao =khatri_rao((B,A))\n",
    "        C_inverse = np.linalg.inv(np.matmul(K.T,K))\n",
    "        C_new = np.matmul(np.matmul(np.matmul(X3, C_khatri_rao), C_inverse), K.T)\n",
    "        \n",
    "        \n",
    "        \n",
    "        C_new[:,0] = C_new[:,0]/np.linalg.norm(C_new[:,0])\n",
    "        C_new[:,1] = C_new[:,1]/np.linalg.norm(C_new[:,1])\n",
    "        C_new[:,2] = C_new[:,2]/np.linalg.norm(C_new[:,2])\n",
    "        \n",
    "        C= C_new\n",
    "        \n",
    "       \n",
    "        \n",
    "        \n",
    "        \n",
    "        \n",
    "        \n",
    "        \n",
    "        \n",
    "        \n",
    "        \n",
    "        count +=1\n",
    "        \n",
    "        \n",
    "        \n",
    "    return  A, B, C\n",
    "        \n",
    "        \n",
    "        \n",
    "        \n",
    "\n",
    "        \n",
    "        \n",
    "        \n",
    "        \n",
    "            \n",
    "            \n",
    "        \n",
    "        "
   ]
  },
  {
   "cell_type": "code",
   "execution_count": 53,
   "metadata": {},
   "outputs": [],
   "source": [
    "(A,B,C) = cp_decomposition(X, rank =3)"
   ]
  },
  {
   "cell_type": "code",
   "execution_count": 55,
   "metadata": {},
   "outputs": [],
   "source": [
    "def decompose_three_way(tensor, rank, max_iter=501, verbose=False):\n",
    "\n",
    "    # a = np.random.random((rank, tensor.shape[0]))\n",
    "    b = np.random.random((rank, tensor.shape[1]))\n",
    "    c = np.random.random((rank, tensor.shape[2]))\n",
    "\n",
    "    for epoch in range(max_iter):\n",
    "        # optimize a\n",
    "        input_a = khatri_rao([b.T, c.T])\n",
    "        target_a = tl.unfold(tensor, mode=0).T\n",
    "        a = np.linalg.solve(input_a.T.dot(input_a), input_a.T.dot(target_a))\n",
    "\n",
    "        # optimize b\n",
    "        input_b = khatri_rao([a.T, c.T])\n",
    "        target_b = tl.unfold(tensor, mode=1).T\n",
    "        b = np.linalg.solve(input_b.T.dot(input_b), input_b.T.dot(target_b))\n",
    "\n",
    "        # optimize c\n",
    "        input_c = khatri_rao([a.T, b.T])\n",
    "        target_c = tl.unfold(tensor, mode=2).T\n",
    "        c = np.linalg.solve(input_c.T.dot(input_c), input_c.T.dot(target_c))\n",
    "\n",
    "        if verbose and epoch % int(max_iter * .2) == 0:\n",
    "            res_a = np.square(input_a.dot(a) - target_a)\n",
    "            res_b = np.square(input_b.dot(b) - target_b)\n",
    "            res_c = np.square(input_c.dot(c) - target_c)\n",
    "            print(\"Epoch:\", epoch, \"| Loss (C):\", res_a.mean(), \"| Loss (B):\", res_b.mean(), \"| Loss (C):\", res_c.mean())\n",
    "\n",
    "    return a.T, b.T, c.T"
   ]
  },
  {
   "cell_type": "code",
   "execution_count": 63,
   "metadata": {},
   "outputs": [
    {
     "name": "stdout",
     "output_type": "stream",
     "text": [
      "Epoch: 0 | Loss (C): 26798.31458584679 | Loss (B): 19933.993854870278 | Loss (C): 11332.516604399252\n",
      "Epoch: 100 | Loss (C): 23.572645272876585 | Loss (B): 23.57263207324112 | Loss (C): 23.572631770239315\n",
      "Epoch: 200 | Loss (C): 23.572461946429318 | Loss (B): 23.572461946425754 | Loss (C): 23.572461946425673\n",
      "Epoch: 300 | Loss (C): 23.57246194637982 | Loss (B): 23.572461946379825 | Loss (C): 23.572461946379832\n",
      "Epoch: 400 | Loss (C): 23.57246194637983 | Loss (B): 23.57246194637983 | Loss (C): 23.57246194637983\n",
      "Epoch: 500 | Loss (C): 23.57246194637983 | Loss (B): 23.572461946379825 | Loss (C): 23.572461946379825\n"
     ]
    }
   ],
   "source": [
    "(A1,B1,C1) = decompose_three_way(X, rank =3, verbose = True)"
   ]
  },
  {
   "cell_type": "code",
   "execution_count": 58,
   "metadata": {},
   "outputs": [
    {
     "data": {
      "text/plain": [
       "array([[ 2.38192545e+02, -2.15011150e-01,  8.58134200e-01],\n",
       "       [ 1.22385165e+00,  3.17366873e-02, -1.38358330e+02],\n",
       "       [ 4.20124829e+00,  9.45797161e+01, -1.55912917e+00],\n",
       "       [ 1.37941583e+02,  4.11636204e+01, -5.57419626e+01],\n",
       "       [ 7.84485219e+01,  3.57805483e+01, -4.62315954e+01]])"
      ]
     },
     "execution_count": 58,
     "metadata": {},
     "output_type": "execute_result"
    }
   ],
   "source": [
    "A1"
   ]
  },
  {
   "cell_type": "code",
   "execution_count": 59,
   "metadata": {},
   "outputs": [],
   "source": [
    "A1[:,0] = A1[:,0]/np.linalg.norm(A1[:,0])"
   ]
  },
  {
   "cell_type": "code",
   "execution_count": 60,
   "metadata": {},
   "outputs": [
    {
     "data": {
      "text/plain": [
       "array([0.83212474, 0.00427552, 0.01467704, 0.48189839, 0.27405961])"
      ]
     },
     "execution_count": 60,
     "metadata": {},
     "output_type": "execute_result"
    }
   ],
   "source": [
    "A1[:,0]"
   ]
  },
  {
   "cell_type": "code",
   "execution_count": 61,
   "metadata": {},
   "outputs": [],
   "source": [
    "Y[:,0] = Y[:,0]/np.linalg.norm(Y[:,0])"
   ]
  },
  {
   "cell_type": "code",
   "execution_count": 62,
   "metadata": {},
   "outputs": [
    {
     "data": {
      "text/plain": [
       "array([0.82801382, 0.        , 0.        , 0.48998571, 0.27259331])"
      ]
     },
     "execution_count": 62,
     "metadata": {},
     "output_type": "execute_result"
    }
   ],
   "source": [
    "Y[:,0]"
   ]
  },
  {
   "cell_type": "code",
   "execution_count": null,
   "metadata": {},
   "outputs": [],
   "source": []
  }
 ],
 "metadata": {
  "kernelspec": {
   "display_name": "Python 3",
   "language": "python",
   "name": "python3"
  },
  "language_info": {
   "codemirror_mode": {
    "name": "ipython",
    "version": 3
   },
   "file_extension": ".py",
   "mimetype": "text/x-python",
   "name": "python",
   "nbconvert_exporter": "python",
   "pygments_lexer": "ipython3",
   "version": "3.7.4"
  }
 },
 "nbformat": 4,
 "nbformat_minor": 2
}
