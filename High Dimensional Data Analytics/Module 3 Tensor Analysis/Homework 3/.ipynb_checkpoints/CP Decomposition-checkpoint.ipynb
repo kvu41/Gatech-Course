{
 "cells": [
  {
   "cell_type": "code",
   "execution_count": 1,
   "metadata": {},
   "outputs": [],
   "source": [
    "import numpy as np\n",
    "import pandas as pd\n",
    "import math\n",
    "import scipy.io as sio\n",
    "import random\n",
    "\n",
    "from tensortools.operations import unfold as tt_unfold, khatri_rao\n",
    "import tensorly as tl\n",
    "from tensorly import unfold as tl_unfold\n",
    "from tensorly.decomposition import parafac"
   ]
  },
  {
   "cell_type": "code",
   "execution_count": 2,
   "metadata": {},
   "outputs": [],
   "source": [
    "#\" Import .mat datafile using scipy.io\"\n",
    "df = sio.loadmat('aminoacid.mat')"
   ]
  },
  {
   "cell_type": "code",
   "execution_count": 3,
   "metadata": {},
   "outputs": [],
   "source": [
    "\"Getting X as numpy array from weird Matlab Object structure-.-\"\n",
    "X = df['X'][0][0][0]"
   ]
  },
  {
   "cell_type": "code",
   "execution_count": 4,
   "metadata": {},
   "outputs": [],
   "source": [
    "\"Concentration matrix of 3 amino acids: tyrosine, tryptophan, and phenylanine in 5 differenct lab samples\"\n",
    "Y = df['Y']\n",
    "np.random.seed(10)"
   ]
  },
  {
   "cell_type": "code",
   "execution_count": 11,
   "metadata": {},
   "outputs": [],
   "source": [
    "def cp_decomposition(tensor, rank, max_iter=501, verbose=False):\n",
    "\n",
    "    a = np.random.random((rank, tensor.shape[0]))\n",
    "    b = np.random.random((rank, tensor.shape[1]))\n",
    "    c = np.random.random((rank, tensor.shape[2]))\n",
    "\n",
    "    for epoch in range(max_iter):\n",
    "        # optimize a\n",
    "        input_a = khatri_rao([b.T, c.T])\n",
    "        X0 = tl.unfold(tensor, mode=0).T\n",
    "        a = np.linalg.solve(input_a.T.dot(input_a), input_a.T.dot(X0))\n",
    "\n",
    "        # optimize b\n",
    "        input_b = khatri_rao([a.T, c.T])\n",
    "        X1 = tl.unfold(tensor, mode=1).T\n",
    "        b = np.linalg.solve(input_b.T.dot(input_b), input_b.T.dot(X1))\n",
    "\n",
    "        # optimize c\n",
    "        input_c = khatri_rao([a.T, b.T])\n",
    "        X2 = tl.unfold(tensor, mode=2).T\n",
    "        c = np.linalg.solve(input_c.T.dot(input_c), input_c.T.dot(X2))\n",
    "\n",
    "        if verbose and epoch % int(max_iter * .2) == 0:\n",
    "            res_a = np.square(input_a.dot(a) - X0)\n",
    "            res_b = np.square(input_b.dot(b) - X1)\n",
    "            res_c = np.square(input_c.dot(c) - X2)\n",
    "            print(\"Epoch:\", epoch, \"| Loss (C):\", res_a.mean(), \"| Loss (B):\", res_b.mean(), \"| Loss (C):\", res_c.mean())\n",
    "\n",
    "    return a.T, b.T, c.T"
   ]
  },
  {
   "cell_type": "code",
   "execution_count": 12,
   "metadata": {},
   "outputs": [],
   "source": [
    "(A, B, C)= cp_decomposition(X, rank =3)"
   ]
  },
  {
   "cell_type": "code",
   "execution_count": 14,
   "metadata": {},
   "outputs": [],
   "source": [
    "Y[:,0] = Y[:,0]/np.linalg.norm(Y[:,0])\n",
    "Y[:,1] = Y[:,1]/np.linalg.norm(Y[:,1])\n",
    "Y[:,2] = Y[:,2]/np.linalg.norm(Y[:,2])"
   ]
  },
  {
   "cell_type": "code",
   "execution_count": 15,
   "metadata": {},
   "outputs": [],
   "source": [
    "A[:,0] = A[:,0]/np.linalg.norm(A[:,0])\n",
    "A[:,1] = A[:,1]/np.linalg.norm(A[:,1])\n",
    "A[:,2] = A[:,2]/np.linalg.norm(A[:,2])"
   ]
  },
  {
   "cell_type": "code",
   "execution_count": 16,
   "metadata": {},
   "outputs": [
    {
     "data": {
      "text/plain": [
       "array([[0.82801382, 0.        , 0.        ],\n",
       "       [0.        , 0.88500912, 0.        ],\n",
       "       [0.        , 0.        , 0.88928899],\n",
       "       [0.48998571, 0.36198869, 0.3507751 ],\n",
       "       [0.27259331, 0.29278497, 0.29346537]])"
      ]
     },
     "execution_count": 16,
     "metadata": {},
     "output_type": "execute_result"
    }
   ],
   "source": [
    "Y"
   ]
  },
  {
   "cell_type": "code",
   "execution_count": 17,
   "metadata": {},
   "outputs": [
    {
     "data": {
      "text/plain": [
       "array([[ 8.32124738e-01, -5.49468608e-03, -1.96934471e-03],\n",
       "       [ 4.27552103e-03,  8.85916902e-01,  2.90684818e-04],\n",
       "       [ 1.46770447e-02,  9.98320003e-03,  8.66280948e-01],\n",
       "       [ 4.81898387e-01,  3.56919216e-01,  3.77028623e-01],\n",
       "       [ 2.74059609e-01,  2.96023750e-01,  3.27723623e-01]])"
      ]
     },
     "execution_count": 17,
     "metadata": {},
     "output_type": "execute_result"
    }
   ],
   "source": [
    "A"
   ]
  },
  {
   "cell_type": "code",
   "execution_count": 18,
   "metadata": {},
   "outputs": [
    {
     "data": {
      "text/plain": [
       "' The 5x3 score matrix A gotten cp_decomposition algorithm is close to the concentration matrix Y'"
      ]
     },
     "execution_count": 18,
     "metadata": {},
     "output_type": "execute_result"
    }
   ],
   "source": [
    "\"\"\" The 5x3 score matrix A gotten cp_decomposition algorithm is close to the concentration matrix Y\"\"\""
   ]
  },
  {
   "cell_type": "code",
   "execution_count": 20,
   "metadata": {},
   "outputs": [],
   "source": [
    "emission_range = range(250,451, 1)"
   ]
  },
  {
   "cell_type": "code",
   "execution_count": 21,
   "metadata": {},
   "outputs": [],
   "source": [
    "excitation_range = range(240,301,1)"
   ]
  },
  {
   "cell_type": "code",
   "execution_count": 22,
   "metadata": {},
   "outputs": [],
   "source": [
    "import matplotlib.pyplot as plt\n",
    "%matplotlib inline"
   ]
  },
  {
   "cell_type": "code",
   "execution_count": 24,
   "metadata": {},
   "outputs": [
    {
     "data": {
      "text/plain": [
       "Text(0, 0.5, 'Signal')"
      ]
     },
     "execution_count": 24,
     "metadata": {},
     "output_type": "execute_result"
    },
    {
     "data": {
      "image/png": "[encoded data removed]",
      "text/plain": [
       "<Figure size 432x288 with 1 Axes>"
      ]
     },
     "metadata": {
      "needs_background": "light"
     },
     "output_type": "display_data"
    }
   ],
   "source": [
    "plt.plot(emission_range, B[:,0], color=\"green\", linewidth =2, label =\"Tyrosine\")\n",
    "plt.plot(emission_range, B[:,1], color = \"blue\", linewidth =2, label =\"Tryptophan\")\n",
    "plt.plot(emission_range, B[:,2], color = \"red\", linewidth =2, label =\"phenylanine\")\n",
    "plt.xlabel(\"Emission (nm)\")\n",
    "plt.ylabel(\"Signal\")\n"
   ]
  },
  {
   "cell_type": "code",
   "execution_count": 25,
   "metadata": {},
   "outputs": [
    {
     "data": {
      "text/plain": [
       "Text(0, 0.5, 'Signal')"
      ]
     },
     "execution_count": 25,
     "metadata": {},
     "output_type": "execute_result"
    },
    {
     "data": {
      "image/png": "[encoded data removed]",
      "text/plain": [
       "<Figure size 432x288 with 1 Axes>"
      ]
     },
     "metadata": {
      "needs_background": "light"
     },
     "output_type": "display_data"
    }
   ],
   "source": [
    "plt.plot(excitation_range, C[:,0], color=\"green\", linewidth =2, label =\"Tyrosine\")\n",
    "plt.plot(excitation_range, C[:,1], color = \"blue\", linewidth =2, label =\"Tryptophan\")\n",
    "plt.plot(excitation_range, C[:,2], color = \"red\", linewidth =2, label =\"phenylanine\")\n",
    "plt.xlabel(\"Excitation (nm)\")\n",
    "plt.ylabel(\"Signal\")"
   ]
  },
  {
   "cell_type": "code",
   "execution_count": 26,
   "metadata": {},
   "outputs": [
    {
     "data": {
      "text/plain": [
       "'By decomposing information of 5 tests containing diffrent amount of tyrosine, tryptophan, and phenylanine,\\nwe can seperate out the unique emission and excitation spectrum of each amino acid on spectrofluorometer'"
      ]
     },
     "execution_count": 26,
     "metadata": {},
     "output_type": "execute_result"
    }
   ],
   "source": [
    "\"\"\"By decomposing information of 5 tests containing diffrent amount of tyrosine, tryptophan, and phenylanine,\n",
    "we can seperate out the unique emission and excitation spectrum of each amino acid on spectrofluorometer\"\"\""
   ]
  },
  {
   "cell_type": "code",
   "execution_count": null,
   "metadata": {},
   "outputs": [],
   "source": []
  }
 ],
 "metadata": {
  "kernelspec": {
   "display_name": "Python 3",
   "language": "python",
   "name": "python3"
  },
  "language_info": {
   "codemirror_mode": {
    "name": "ipython",
    "version": 3
   },
   "file_extension": ".py",
   "mimetype": "text/x-python",
   "name": "python",
   "nbconvert_exporter": "python",
   "pygments_lexer": "ipython3",
   "version": "3.7.4"
  }
 },
 "nbformat": 4,
 "nbformat_minor": 2
}
