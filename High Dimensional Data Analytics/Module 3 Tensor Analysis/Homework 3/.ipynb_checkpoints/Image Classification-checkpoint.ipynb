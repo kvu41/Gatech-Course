{
 "cells": [
  {
   "cell_type": "markdown",
   "metadata": {},
   "source": [
    "# Cats/Birds Image Classification using Random Forest on Image core Tensors and Sobel-Dectected Edge Images"
   ]
  },
  {
   "cell_type": "markdown",
   "metadata": {},
   "source": [
    "The goal of this problem is image classification. There are two classes: cats and birds. You\n",
    "are given 28 training images, train1.jpg through train28.jpg. The first 14 images correspond\n",
    "to cats, and the remaining images correspond to birds. The labels for the images can be\n",
    "found in the file train_lab.mat\n",
    "For each image on the training sample, use Tucker decomposition with\n",
    "R1 = 10;R2 = 10;R3 = 3. Use the core tensor of the images to train a random forest\n",
    "with 100 trees\n"
   ]
  },
  {
   "cell_type": "code",
   "execution_count": 1,
   "metadata": {},
   "outputs": [],
   "source": [
    "import pandas as pd\n",
    "import numpy as np\n",
    "import matplotlib.pyplot as plt\n",
    "import random\n",
    "import os\n",
    "import cv2\n",
    "from sklearn.metrics import roc_curve\n",
    "from sklearn.ensemble import RandomForestClassifier\n",
    "import scipy.io as sio\n",
    "from tensorly.decomposition import tucker\n",
    "from sklearn.metrics import accuracy_score\n",
    "import matplotlib.pyplot as plt\n",
    "%matplotlib inline"
   ]
  },
  {
   "cell_type": "code",
   "execution_count": 2,
   "metadata": {},
   "outputs": [],
   "source": [
    "\"\"\" Loading Images path and labels\"\"\"\n",
    "IMAGE_PATH ='C:\\\\Users\\\\Jack\\\\Desktop\\\\High Dimensional Data Analytics\\\\Module 3 Tensor Analysis\\\\Homework 3\\\\' \n",
    "train_labels = sio.loadmat(IMAGE_PATH +'train_lab.mat')\n",
    "Y_train = np.array(train_labels['train'])\n",
    "eval_labels = sio.loadmat(IMAGE_PATH +'test_lab.mat')\n",
    "Y_eval = np.array(eval_labels['test'])"
   ]
  },
  {
   "cell_type": "code",
   "execution_count": 3,
   "metadata": {},
   "outputs": [],
   "source": [
    "#Tucker Decomposition ranks \n",
    "\n",
    "train_images =[]\n",
    "train_cores = []\n",
    "sobel_cores = []\n",
    "for filename in os.listdir(IMAGE_PATH + \"train\\\\\"):\n",
    "    image = cv2.imread(IMAGE_PATH+\"train\\\\\" + filename)\n",
    "    image = image.astype(float)\n",
    "    train_images.append(image)\n",
    "    #Tucker decomposition\n",
    "    (core, factors) = tucker(image, ranks = [10,10,3])\n",
    "    core = core.flatten()\n",
    "    train_cores.append(core)\n",
    "    #Sobel edge detection\n",
    "    im_gray = cv2.imread(IMAGE_PATH+\"train\\\\\" + \"train1.jpg\", cv2.IMREAD_GRAYSCALE)\n",
    "    im_bw = cv2.threshold(im_gray, 150, 255, cv2.THRESH_BINARY)[1]\n",
    "    \n",
    "    bw_ix= cv2.Sobel(im_bw, cv2.CV_64F,1,0,ksize =1)\n",
    "    bw_iy= cv2.Sobel(im_bw, cv2.CV_64F,0,1,ksize =1)\n",
    "    bw = bw_ix +bw_iy\n",
    "    bw= bw.astype(float)\n",
    "    (bw_core, bw_facs) = tucker(bw, ranks =[10,10])\n",
    "    bw_core = bw_core.flatten()\n",
    "    sobel_cores.append(bw_core)\n",
    "    \n",
    "    \n",
    "train_images= np.array(train_images)\n",
    "train_cores = np.array(train_cores)\n",
    "sobel_cores = np.array(sobel_cores)\n",
    "\n",
    "    "
   ]
  },
  {
   "cell_type": "code",
   "execution_count": 4,
   "metadata": {},
   "outputs": [],
   "source": [
    "\n",
    "eval_images =[]\n",
    "eval_cores =[]\n",
    "sobel_evals =[]\n",
    "for filename in os.listdir(IMAGE_PATH + \"test\\\\\"):\n",
    "    image = cv2.imread(IMAGE_PATH+\"test\\\\\" + filename)\n",
    "    image = image.astype(float)\n",
    "    eval_images.append(image)\n",
    "    \n",
    "    #Tucker Decomposition\n",
    "    (core, factors) = tucker(image, ranks=[10,10,3])\n",
    "    core = core.flatten()\n",
    "    eval_cores.append(core)\n",
    "    #Sobel Edge Detection\n",
    "    \n",
    "    \n",
    "    im_gray = cv2.imread(IMAGE_PATH+\"train\\\\\" + \"train1.jpg\", cv2.IMREAD_GRAYSCALE)\n",
    "    im_bw = cv2.threshold(im_gray, 150, 255, cv2.THRESH_BINARY)[1]\n",
    "    \n",
    "    bw_ix= cv2.Sobel(im_bw, cv2.CV_64F,1,0,ksize =1)\n",
    "    bw_iy= cv2.Sobel(im_bw, cv2.CV_64F,0,1,ksize =1)\n",
    "    bw = bw_ix +bw_iy\n",
    "    bw= bw.astype(float)\n",
    "    (bw_core, bw_facs) = tucker(bw, ranks =[10,10])\n",
    "    bw_core = bw_core.flatten()\n",
    "    sobel_evals.append(bw_core)\n",
    "    \n",
    "eval_images= np.array(eval_images)\n",
    "eval_cores = np.array(eval_cores)\n",
    "sobel_evals = np.array(sobel_evals)\n"
   ]
  },
  {
   "cell_type": "code",
   "execution_count": 5,
   "metadata": {},
   "outputs": [],
   "source": [
    "## Performing Random Forest\n",
    "\n",
    "core_model= RandomForestClassifier(n_estimators =100, max_depth =6)\n",
    "sobel_model = RandomForestClassifier(n_estimators =100, max_depth =6)"
   ]
  },
  {
   "cell_type": "code",
   "execution_count": 6,
   "metadata": {},
   "outputs": [
    {
     "name": "stdout",
     "output_type": "stream",
     "text": [
      "Accuracy Score of Tucker Decomposition Core Tensor on Original Image 0.6666666666666666\n"
     ]
    },
    {
     "name": "stderr",
     "output_type": "stream",
     "text": [
      "C:\\Users\\Jack\\Anaconda3\\lib\\site-packages\\ipykernel_launcher.py:1: DataConversionWarning: A column-vector y was passed when a 1d array was expected. Please change the shape of y to (n_samples,), for example using ravel().\n",
      "  \"\"\"Entry point for launching an IPython kernel.\n"
     ]
    }
   ],
   "source": [
    "core_model.fit(train_cores, Y_train)\n",
    "y_predict = core_model.predict(eval_cores)\n",
    "print(\"Accuracy Score of Tucker Decomposition Core Tensor on Original Image\", accuracy_score(Y_eval, y_predict))"
   ]
  },
  {
   "cell_type": "code",
   "execution_count": 7,
   "metadata": {},
   "outputs": [
    {
     "name": "stdout",
     "output_type": "stream",
     "text": [
      "Accuracy Score of Tucker Decomposition Core Tensor on Original Image 0.4166666666666667\n"
     ]
    },
    {
     "name": "stderr",
     "output_type": "stream",
     "text": [
      "C:\\Users\\Jack\\Anaconda3\\lib\\site-packages\\ipykernel_launcher.py:1: DataConversionWarning: A column-vector y was passed when a 1d array was expected. Please change the shape of y to (n_samples,), for example using ravel().\n",
      "  \"\"\"Entry point for launching an IPython kernel.\n"
     ]
    }
   ],
   "source": [
    "sobel_model.fit(sobel_cores, Y_train)\n",
    "y_predict_sobels = sobel_model.predict(sobel_evals)\n",
    "print(\"Accuracy Score of Tucker Decomposition Core Tensor on Original Image\", accuracy_score(Y_eval, y_predict_sobels))"
   ]
  },
  {
   "cell_type": "code",
   "execution_count": null,
   "metadata": {},
   "outputs": [],
   "source": []
  },
  {
   "cell_type": "code",
   "execution_count": null,
   "metadata": {},
   "outputs": [],
   "source": []
  }
 ],
 "metadata": {
  "kernelspec": {
   "display_name": "Python 3",
   "language": "python",
   "name": "python3"
  },
  "language_info": {
   "codemirror_mode": {
    "name": "ipython",
    "version": 3
   },
   "file_extension": ".py",
   "mimetype": "text/x-python",
   "name": "python",
   "nbconvert_exporter": "python",
   "pygments_lexer": "ipython3",
   "version": "3.7.4"
  }
 },
 "nbformat": 4,
 "nbformat_minor": 2
}
