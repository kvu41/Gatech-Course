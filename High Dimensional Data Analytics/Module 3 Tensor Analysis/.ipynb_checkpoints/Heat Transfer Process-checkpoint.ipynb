{
 "cells": [
  {
   "cell_type": "code",
   "execution_count": 1,
   "metadata": {},
   "outputs": [],
   "source": [
    "import pandas as pd\n",
    "import numpy as np\n",
    "import matplotlib.pyplot as plt\n",
    "import random\n",
    "import os\n",
    "import cv2\n",
    "from sklearn.metrics import roc_curve\n",
    "from sklearn.ensemble import RandomForestClassifier\n",
    "import scipy.io as sio\n",
    "from tensorly.decomposition import tucker,parafac\n",
    "from sklearn.metrics import accuracy_score\n",
    "import matplotlib.pyplot as plt\n",
    "%matplotlib inline\n",
    "from scipy.spatial.distance import cdist"
   ]
  },
  {
   "cell_type": "code",
   "execution_count": 2,
   "metadata": {},
   "outputs": [],
   "source": [
    "# Loading data\n",
    "df = sio.loadmat(\"./Homework 3/heatT.mat\")"
   ]
  },
  {
   "cell_type": "code",
   "execution_count": 3,
   "metadata": {},
   "outputs": [],
   "source": [
    "#Material 1\n",
    "X1= df['T1'][0][0][0]\n"
   ]
  },
  {
   "cell_type": "code",
   "execution_count": 4,
   "metadata": {},
   "outputs": [],
   "source": [
    "#Material 2\n",
    "X2 =df['T2'][0][0][0]"
   ]
  },
  {
   "cell_type": "code",
   "execution_count": 5,
   "metadata": {},
   "outputs": [],
   "source": [
    "#Material 3\n",
    "X3 = df['T3'][0][0][0]"
   ]
  },
  {
   "cell_type": "code",
   "execution_count": 6,
   "metadata": {
    "scrolled": true
   },
   "outputs": [],
   "source": [
    "AIC = []\n",
    "for i in range(1,10):\n",
    "    aic =0\n",
    "    (errors, facs) = parafac(X1, rank =i)\n",
    "    constructed_X1 = np.zeros((21,21,10))\n",
    "    for j in range(0,i):\n",
    "        constructed_X1 += np.outer(np.outer(facs[0][:, j], facs[1][:,j]), facs[2][:,j]).reshape((21,21,10))\n",
    "    error = X1 - constructed_X1\n",
    "    aic = 2*np.linalg.norm(error)**2 + 2*51*j\n",
    "    AIC.append(aic)\n",
    "    \n",
    "    \n",
    "\n"
   ]
  },
  {
   "cell_type": "code",
   "execution_count": 21,
   "metadata": {},
   "outputs": [],
   "source": [
    "AIC2 = []\n",
    "for i in range(1,10):\n",
    "    aic =0\n",
    "    (errors, facs) = parafac(X2, rank =i)\n",
    "    constructed_X2 = np.zeros((21,21,10))\n",
    "    for j in range(0,i):\n",
    "        constructed_X2 += np.outer(np.outer(facs[0][:, j], facs[1][:,j]), facs[2][:,j]).reshape((21,21,10))\n",
    "    error = X2 - constructed_X2\n",
    "    aic = 2*np.linalg.norm(error)**2 + 2*51*j\n",
    "    AIC2.append(aic)"
   ]
  },
  {
   "cell_type": "code",
   "execution_count": 9,
   "metadata": {},
   "outputs": [],
   "source": [
    "x_range = range(1,10)"
   ]
  },
  {
   "cell_type": "code",
   "execution_count": 11,
   "metadata": {},
   "outputs": [
    {
     "data": {
      "text/plain": [
       "Text(0, 0.5, 'AIC')"
      ]
     },
     "execution_count": 11,
     "metadata": {},
     "output_type": "execute_result"
    },
    {
     "data": {
      "image/png": "[encoded data removed]",
      "text/plain": [
       "<Figure size 432x288 with 1 Axes>"
      ]
     },
     "metadata": {
      "needs_background": "light"
     },
     "output_type": "display_data"
    }
   ],
   "source": [
    "import matplotlib.pyplot as plt\n",
    "plt.plot(x_range, AIC, linewidth = 2, color ='blue')\n",
    "plt.xlabel(\"Rank\")\n",
    "plt.ylabel(\"AIC\")"
   ]
  },
  {
   "cell_type": "code",
   "execution_count": 12,
   "metadata": {},
   "outputs": [
    {
     "data": {
      "text/plain": [
       "' Based on AIC graph, rank 2 is optimal for heatT CP tensor decomposition'"
      ]
     },
     "execution_count": 12,
     "metadata": {},
     "output_type": "execute_result"
    }
   ],
   "source": [
    "\"\"\" Based on AIC graph, rank 2 is optimal for heatT CP tensor decomposition\"\"\""
   ]
  },
  {
   "cell_type": "code",
   "execution_count": 22,
   "metadata": {},
   "outputs": [
    {
     "data": {
      "text/plain": [
       "Text(0, 0.5, 'AIC')"
      ]
     },
     "execution_count": 22,
     "metadata": {},
     "output_type": "execute_result"
    },
    {
     "data": {
      "image/png": "[encoded data removed]",
      "text/plain": [
       "<Figure size 432x288 with 1 Axes>"
      ]
     },
     "metadata": {
      "needs_background": "light"
     },
     "output_type": "display_data"
    }
   ],
   "source": [
    "import matplotlib.pyplot as plt\n",
    "plt.plot(x_range, AIC2, linewidth = 2, color ='red')\n",
    "plt.xlabel(\"Rank\")\n",
    "plt.ylabel(\"AIC\")"
   ]
  },
  {
   "cell_type": "code",
   "execution_count": 123,
   "metadata": {},
   "outputs": [],
   "source": [
    "(err1, X1_facs) = parafac(X1, rank =2)\n",
    "(err2, X2_facs) = parafac(X2, rank =2)\n",
    "(err3, X3_facs) = parafac(X3, rank =2)"
   ]
  },
  {
   "cell_type": "code",
   "execution_count": 124,
   "metadata": {},
   "outputs": [],
   "source": [
    "from tensorly.tenalg import kronecker\n",
    "\n",
    "\n",
    "## calculating difference\n",
    "difference_X1X3 = 0\n",
    "difference_X2X3 =0\n",
    "for i in range(0,2):\n",
    "    diff_x1x3 = kronecker([np.matmul(X1_facs[0][:,i], X1_facs[1][:,i].T), X1_facs[2][:,i]])-kronecker([np.matmul(X3_facs[0][:,i], X3_facs[1][:,i].T), X3_facs[2][:,i]])\n",
    "    difference_X1X3 += np.linalg.norm(diff_x1x3)\n",
    "    diff_x2x3 = kronecker([np.matmul(X2_facs[0][:,i], X2_facs[1][:,i].T), X2_facs[2][:,i]])-kronecker([np.matmul(X3_facs[0][:,i], X3_facs[1][:,i].T), X3_facs[2][:,i]])\n",
    "    difference_X2X3 += np.linalg.norm(diff_x2x3)"
   ]
  },
  {
   "cell_type": "code",
   "execution_count": 125,
   "metadata": {},
   "outputs": [],
   "source": [
    "difference_X1X3 = difference_X1X3/2\n",
    "difference_X2X3 = difference_X2X3/2\n"
   ]
  },
  {
   "cell_type": "code",
   "execution_count": 126,
   "metadata": {},
   "outputs": [
    {
     "data": {
      "text/plain": [
       "2.6365886945819748"
      ]
     },
     "execution_count": 126,
     "metadata": {},
     "output_type": "execute_result"
    }
   ],
   "source": [
    "difference_X1X3"
   ]
  },
  {
   "cell_type": "code",
   "execution_count": 127,
   "metadata": {},
   "outputs": [
    {
     "data": {
      "text/plain": [
       "5.080464837948341"
      ]
     },
     "execution_count": 127,
     "metadata": {},
     "output_type": "execute_result"
    }
   ],
   "source": [
    "difference_X2X3"
   ]
  },
  {
   "cell_type": "code",
   "execution_count": 20,
   "metadata": {},
   "outputs": [
    {
     "data": {
      "text/plain": [
       "\" X3 (Material 3) is belong to Material 1's group\""
      ]
     },
     "execution_count": 20,
     "metadata": {},
     "output_type": "execute_result"
    }
   ],
   "source": [
    "\"\"\" X3 (Material 3) is belong to Material 1's group\"\"\""
   ]
  },
  {
   "cell_type": "code",
   "execution_count": 90,
   "metadata": {},
   "outputs": [],
   "source": [
    "## Tucker decomposition\n",
    "from tensorly.tucker_tensor import tucker_to_tensor\n",
    "AIC = []\n",
    "for i in range(1,21):\n",
    "    for j in range(1,21):\n",
    "        for k in range(1,10):\n",
    "            \n",
    "            core_x1, facs1 = tucker(X1, [i,j,k])\n",
    "            T1 = tucker_to_tensor((core_x1, facs1))\n",
    "            error_x1 = X1 - T1\n",
    "            \n",
    "            aic = 2*np.linalg.norm(error_x1)**2 + 2 * (i+j+k)\n",
    "            \n",
    "            AIC.append(([i,j,k], aic))\n",
    "            "
   ]
  },
  {
   "cell_type": "code",
   "execution_count": 145,
   "metadata": {},
   "outputs": [],
   "source": [
    "from tensorly.decomposition import tucker\n",
    "(core_x1, facs1) = tucker(X1, [3,4,3])\n",
    "(core_x2, facs2) = tucker(X2, [3,4,3])\n",
    "(core_x3, facs3) = tucker(X3, [3,4,3])"
   ]
  },
  {
   "cell_type": "code",
   "execution_count": 146,
   "metadata": {},
   "outputs": [],
   "source": [
    "Frobnorm_X1X3 = np.linalg.norm((core_x1-core_x3))\n",
    "Frobnorm_X2X3 = np.linalg.norm((core_x2-core_x3))"
   ]
  },
  {
   "cell_type": "code",
   "execution_count": 147,
   "metadata": {},
   "outputs": [
    {
     "data": {
      "text/plain": [
       "2.4419332289363305"
      ]
     },
     "execution_count": 147,
     "metadata": {},
     "output_type": "execute_result"
    }
   ],
   "source": [
    "Frobnorm_X1X3"
   ]
  },
  {
   "cell_type": "code",
   "execution_count": 148,
   "metadata": {},
   "outputs": [
    {
     "data": {
      "text/plain": [
       "9.692309180359109"
      ]
     },
     "execution_count": 148,
     "metadata": {},
     "output_type": "execute_result"
    }
   ],
   "source": [
    "Frobnorm_X2X3"
   ]
  },
  {
   "cell_type": "code",
   "execution_count": 136,
   "metadata": {},
   "outputs": [
    {
     "data": {
      "text/plain": [
       "\" X3 (Material 3) is belong to Material 1's group\""
      ]
     },
     "execution_count": 136,
     "metadata": {},
     "output_type": "execute_result"
    }
   ],
   "source": [
    "\"\"\" X3 (Material 3) is belong to Material 1's group\"\"\""
   ]
  },
  {
   "cell_type": "code",
   "execution_count": null,
   "metadata": {},
   "outputs": [],
   "source": []
  }
 ],
 "metadata": {
  "kernelspec": {
   "display_name": "Python 3",
   "language": "python",
   "name": "python3"
  },
  "language_info": {
   "codemirror_mode": {
    "name": "ipython",
    "version": 3
   },
   "file_extension": ".py",
   "mimetype": "text/x-python",
   "name": "python",
   "nbconvert_exporter": "python",
   "pygments_lexer": "ipython3",
   "version": "3.7.4"
  }
 },
 "nbformat": 4,
 "nbformat_minor": 2
}
