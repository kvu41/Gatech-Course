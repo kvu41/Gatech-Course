{
 "cells": [
  {
   "cell_type": "code",
   "execution_count": 3,
   "metadata": {},
   "outputs": [],
   "source": [
    "import numpy as np\n",
    "import matplotlib.pyplot as plt\n",
    "import scipy as sp\n",
    "import pandas as pd\n",
    "%matplotlib inline"
   ]
  },
  {
   "cell_type": "code",
   "execution_count": 4,
   "metadata": {},
   "outputs": [],
   "source": [
    "pd.set_option('display.max_rows', 10)"
   ]
  },
  {
   "cell_type": "code",
   "execution_count": 5,
   "metadata": {},
   "outputs": [],
   "source": [
    "df = pd.read_csv ('X1.csv', header =None)"
   ]
  },
  {
   "cell_type": "code",
   "execution_count": 6,
   "metadata": {},
   "outputs": [],
   "source": [
    "y = df.mean(axis = 0)"
   ]
  },
  {
   "cell_type": "code",
   "execution_count": 7,
   "metadata": {},
   "outputs": [],
   "source": [
    "Xs = np.linspace(0,50,51)"
   ]
  },
  {
   "cell_type": "code",
   "execution_count": 22,
   "metadata": {},
   "outputs": [],
   "source": [
    "\"\"\" Spline with 8 knots\"\"\"\n",
    "assert len(Xs)==len(y)\n",
    "knot = np.linspace(0,50,10)"
   ]
  },
  {
   "cell_type": "code",
   "execution_count": 23,
   "metadata": {
    "scrolled": true
   },
   "outputs": [],
   "source": [
    "h1 = lambda x: 1\n",
    "h2 = lambda x: x\n",
    "h3 = lambda x: x**2\n",
    "h4 = lambda x: x**3\n",
    "h5 = lambda x: (x-knot[1])**3 if x > knot[1] else 0\n",
    "h6 = lambda x: (x-knot[2])**3 if x > knot[2] else 0\n",
    "h7 = lambda x: (x-knot[3])**3 if x > knot[3] else 0\n",
    "h8 = lambda x: (x-knot[4])**3 if x > knot[4] else 0\n",
    "h9 = lambda x: (x-knot[5])**3 if x > knot[5] else 0\n",
    "h10 = lambda x: (x-knot[6])**3 if x > knot[6] else 0\n",
    "h11 = lambda x: (x-knot[7])**3 if x > knot[7] else 0\n",
    "h12 = lambda x: (x-knot[8])**3 if x > knot[8] else 0\n",
    "\n",
    "def h(x):\n",
    "    return np.array([h1(x), h2(x), h3(x), h4(x), h5(x), h6(x), h7(x), h8(x), h9(x), h10(x), h11(x), h12(x)])\n",
    "H=[]\n",
    "for x in Xs:\n",
    "    H.append(h(x))\n",
    "\n",
    "\n",
    "\n",
    "            \n"
   ]
  },
  {
   "cell_type": "code",
   "execution_count": 24,
   "metadata": {},
   "outputs": [],
   "source": [
    "H = np.array(H)"
   ]
  },
  {
   "cell_type": "code",
   "execution_count": 25,
   "metadata": {},
   "outputs": [],
   "source": [
    "gamma = np.dot(H.transpose(), H)"
   ]
  },
  {
   "cell_type": "code",
   "execution_count": 26,
   "metadata": {},
   "outputs": [],
   "source": [
    "sigma = np.linalg.inv(gamma)"
   ]
  },
  {
   "cell_type": "code",
   "execution_count": 27,
   "metadata": {},
   "outputs": [],
   "source": [
    "alpha = np.dot(sigma, H.transpose())"
   ]
  },
  {
   "cell_type": "code",
   "execution_count": 28,
   "metadata": {},
   "outputs": [],
   "source": [
    "beta = np.dot(alpha, y)"
   ]
  },
  {
   "cell_type": "code",
   "execution_count": 29,
   "metadata": {},
   "outputs": [
    {
     "data": {
      "text/plain": [
       "array([ 3.36381511e+00, -1.20866656e+00,  2.96801730e-02,  3.80846416e-03,\n",
       "       -6.11238183e-03, -2.75479643e-03,  3.88079980e-03,  3.80701155e-03,\n",
       "       -1.21037445e-04, -3.55360399e-03, -1.11241720e-03,  1.38520336e-03])"
      ]
     },
     "execution_count": 29,
     "metadata": {},
     "output_type": "execute_result"
    }
   ],
   "source": [
    "beta"
   ]
  },
  {
   "cell_type": "code",
   "execution_count": 30,
   "metadata": {},
   "outputs": [],
   "source": [
    "y_pred = np.dot(H, beta)"
   ]
  },
  {
   "cell_type": "code",
   "execution_count": 31,
   "metadata": {},
   "outputs": [],
   "source": [
    "assert len(y_pred)== len(y)"
   ]
  },
  {
   "cell_type": "code",
   "execution_count": 32,
   "metadata": {},
   "outputs": [],
   "source": [
    "\"\"\" Smoothing Spline\"\"\"\n",
    "import csaps\n",
    "import math\n",
    "sp = csaps.UnivariateCubicSmoothingSpline(Xs,y, smooth =0.01)"
   ]
  },
  {
   "cell_type": "code",
   "execution_count": 57,
   "metadata": {},
   "outputs": [],
   "source": [
    "\"\"\" Bspline with 8 knots and M =3\"\"\"\n",
    "knot = np.linspace(0,50,8, endpoint = True)"
   ]
  },
  {
   "cell_type": "code",
   "execution_count": 58,
   "metadata": {},
   "outputs": [],
   "source": [
    "knot = np.append([0,0,0], knot)\n",
    "knot = np.append(knot, [50,50,50])"
   ]
  },
  {
   "cell_type": "code",
   "execution_count": 59,
   "metadata": {},
   "outputs": [],
   "source": [
    "tck =[knot, [Xs,y], 3]"
   ]
  },
  {
   "cell_type": "code",
   "execution_count": 60,
   "metadata": {},
   "outputs": [],
   "source": [
    "u3=np.linspace(0,50,100,endpoint=True)\n",
    "out = interpolate.splev(u3,tck) "
   ]
  },
  {
   "cell_type": "code",
   "execution_count": 61,
   "metadata": {},
   "outputs": [],
   "source": [
    "\"\"\" Kernel Regression with Gaussian Kernel\"\"\"\n",
    "import math\n",
    "import numpy as np\n",
    "from scipy import interpolate\n",
    "c = 1/np.sqrt(2*math.pi)\n",
    "z = 10\n",
    "y_x = []\n",
    "for i in range(0,51):\n",
    "    nom =0\n",
    "    det =0\n",
    "    for j in range(0,51):\n",
    "        k = c*np.exp(-(Xs[i]-Xs[j])**2/z**2)\n",
    "        nom += k**y[j]\n",
    "        det +=k\n",
    "    f=nom/det\n",
    "    y_x.append(f)\n",
    "    "
   ]
  },
  {
   "cell_type": "code",
   "execution_count": 63,
   "metadata": {},
   "outputs": [
    {
     "data": {
      "image/png": "[encoded data removed]",
      "text/plain": [
       "<Figure size 432x288 with 1 Axes>"
      ]
     },
     "metadata": {
      "needs_background": "light"
     },
     "output_type": "display_data"
    }
   ],
   "source": [
    "\"\"\" Plotting 4 methods against mean function\"\"\"\n",
    "plt.plot(Xs,y,'k--',label='Mean curve',marker='o',markerfacecolor='red')\n",
    "plt.plot(out[0],out[1],'b',linewidth=2.0,label='B-spline curve')\n",
    "plt.plot(Xs, y_pred, label ='B-spline', marker ='.', markerfacecolor ='blue')\n",
    "plt.plot(Xs, sp(Xs), label ='Smoothing Spline with alpha = 0.01', marker ='v', markerfacecolor = 'black')\n",
    "plt.plot(Xs, y_x, label ='Kernel Method', marker ='H')\n",
    "plt.legend(loc='best')\n",
    "plt.axis([min(Xs)-1, max(Xs)+1, min(y)-1, max(y)+1])\n",
    "plt.title('Cubic B-spline curve evaluation')\n",
    "plt.show()"
   ]
  },
  {
   "cell_type": "markdown",
   "metadata": {},
   "source": [
    "\"\"\" Based on the mean square error, Spline, Bspline and Kernel methods have good fit whiile Smoothing Spline has the worst fit.\n",
    "It is probably due to the fact that hyperparameter alpha in Smoothing Spline has not tuned yet. \"\"\""
   ]
  }
 ],
 "metadata": {
  "kernelspec": {
   "display_name": "Python 3",
   "language": "python",
   "name": "python3"
  },
  "language_info": {
   "codemirror_mode": {
    "name": "ipython",
    "version": 3
   },
   "file_extension": ".py",
   "mimetype": "text/x-python",
   "name": "python",
   "nbconvert_exporter": "python",
   "pygments_lexer": "ipython3",
   "version": "3.7.4"
  }
 },
 "nbformat": 4,
 "nbformat_minor": 2
}
