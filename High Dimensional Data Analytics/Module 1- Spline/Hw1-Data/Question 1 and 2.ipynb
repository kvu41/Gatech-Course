{
 "cells": [
  {
   "cell_type": "markdown",
   "metadata": {},
   "source": [
    "# Question 1\n"
   ]
  },
  {
   "cell_type": "markdown",
   "metadata": {},
   "source": [
    "$f(x) = \\beta_{0} + \\beta_{1}x +\\beta_{2}x^{2} +\\beta_{3}x^{3}+\\beta_{4}(x-\\xi)^{3}           $"
   ]
  },
  {
   "cell_type": "markdown",
   "metadata": {},
   "source": [
    "$ f(x) =  \\beta_{0}\\xi^{3} + (\\beta_{1} +3\\beta_{4}\\xi^{2})x ++ (\\beta_{2}-3\\beta_{4}\\xi)x^{2} +(\\beta_{3}+\\beta_{4})x^{3}  $"
   ]
  },
  {
   "cell_type": "markdown",
   "metadata": {},
   "source": [
    "$ f_{1}(x) = a_{1} +b_{1}x +c_{1}x^{2}+d_{1}x^{3} $"
   ]
  },
  {
   "cell_type": "markdown",
   "metadata": {},
   "source": [
    "$f(x) = f_{1}(x) ∀ x < \\xi$\n",
    "Therefore"
   ]
  }
 ],
 "metadata": {
  "kernelspec": {
   "display_name": "Python 3",
   "language": "python",
   "name": "python3"
  },
  "language_info": {
   "codemirror_mode": {
    "name": "ipython",
    "version": 3
   },
   "file_extension": ".py",
   "mimetype": "text/x-python",
   "name": "python",
   "nbconvert_exporter": "python",
   "pygments_lexer": "ipython3",
   "version": "3.7.4"
  }
 },
 "nbformat": 4,
 "nbformat_minor": 2
}
