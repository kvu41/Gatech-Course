{
 "cells": [
  {
   "cell_type": "code",
   "execution_count": 1,
   "metadata": {},
   "outputs": [],
   "source": [
    "import cv2\n",
    "import numpy as np\n",
    "import matplotlib.pyplot as plt\n",
    "import math\n",
    "%matplotlib inline"
   ]
  },
  {
   "cell_type": "code",
   "execution_count": 2,
   "metadata": {},
   "outputs": [],
   "source": [
    "f = cv2.imread('FlowerN.jpg')\n",
    "f = cv2.cvtColor(f, cv2.COLOR_BGR2GRAY)"
   ]
  },
  {
   "cell_type": "code",
   "execution_count": 3,
   "metadata": {},
   "outputs": [],
   "source": [
    "\"\"\" Gassian filter\"\"\"\n",
    "h=1/1115 *np.array(([1,4,7,10,7,4,1],[4,12,26,33,26,12,4],[7,26,55,71,55,26,7],\n",
    "                    [10,33,71,91,71,33,10],[7,26,55,71,55,26,7],[4,12,26,33,26,12,4],[1,4,7,10,7,4,1]))"
   ]
  },
  {
   "cell_type": "code",
   "execution_count": 4,
   "metadata": {},
   "outputs": [],
   "source": [
    "S= cv2.filter2D(f,-1,h)"
   ]
  },
  {
   "cell_type": "code",
   "execution_count": 6,
   "metadata": {},
   "outputs": [],
   "source": [
    "cv2.imshow('Gassian smoothing image', S)\n",
    "cv2.waitKey(0)\n",
    "cv2.destroyAllWindows()"
   ]
  },
  {
   "cell_type": "code",
   "execution_count": 29,
   "metadata": {},
   "outputs": [],
   "source": [
    "G= np.zeros(([S.shape[0], S.shape[1]]))\n",
    "theta = np.zeros((S.shape[0], S.shape[1]))\n",
    "pad = 1\n",
    "S = cv2.copyMakeBorder(S, pad, pad, pad, pad,\n",
    "cv2.BORDER_REPLICATE)"
   ]
  },
  {
   "cell_type": "code",
   "execution_count": 30,
   "metadata": {},
   "outputs": [
    {
     "name": "stderr",
     "output_type": "stream",
     "text": [
      "C:\\Users\\Jack\\Anaconda3\\lib\\site-packages\\ipykernel_launcher.py:6: RuntimeWarning: invalid value encountered in double_scalars\n",
      "  \n",
      "C:\\Users\\Jack\\Anaconda3\\lib\\site-packages\\ipykernel_launcher.py:4: RuntimeWarning: overflow encountered in ubyte_scalars\n",
      "  after removing the cwd from sys.path.\n",
      "C:\\Users\\Jack\\Anaconda3\\lib\\site-packages\\ipykernel_launcher.py:6: RuntimeWarning: divide by zero encountered in double_scalars\n",
      "  \n",
      "C:\\Users\\Jack\\Anaconda3\\lib\\site-packages\\ipykernel_launcher.py:3: RuntimeWarning: overflow encountered in ubyte_scalars\n",
      "  This is separate from the ipykernel package so we can avoid doing imports until\n"
     ]
    }
   ],
   "source": [
    "for i in range(G.shape[0]):\n",
    "    for j in range(G.shape[1]):\n",
    "        dsdx = 0.5*(S[i+1,j]-S[i,j]+S[i+1,j+1]-S[i,j+1])\n",
    "        dsdy = 0.5*(S[i,j+1]-S[i,j]+S[i+1,j+1]-S[i+1,j])\n",
    "        G[i,j]= math.sqrt((dsdx)**2+(dsdy)**2)\n",
    "        theta[i,j]= np.arctan((dsdy)/(dsdx))"
   ]
  },
  {
   "cell_type": "code",
   "execution_count": 33,
   "metadata": {},
   "outputs": [
    {
     "data": {
      "text/plain": [
       "(490, 747)"
      ]
     },
     "execution_count": 33,
     "metadata": {},
     "output_type": "execute_result"
    }
   ],
   "source": [
    "theta = np.nan_to_num(theta)"
   ]
  },
  {
   "cell_type": "code",
   "execution_count": 34,
   "metadata": {},
   "outputs": [],
   "source": [
    "phi= np.zeros((theta.shape[0], theta.shape[1]))"
   ]
  },
  {
   "cell_type": "code",
   "execution_count": 37,
   "metadata": {},
   "outputs": [],
   "source": [
    "p = np.pi\n",
    "for i in range(1,G.shape[0]-1):\n",
    "    for j in range(1,G.shape[1]-1):\n",
    "        if theta[i][j]>= -1/8*p and theta[i][j]<1/8*p:\n",
    "            theta[i][j]=0\n",
    "            if G[i][j]>=G[i,j-1] and G[i][j]>=G[i][j+1]:\n",
    "                phi[i][j] =G[i][j]\n",
    "        elif theta[i][j]>= 1/8*p and theta[i][j]<3/8*p:\n",
    "            theta[i][j]=0.25*p\n",
    "            if G[i][j]>=G[i+1,j-1] and G[i][j]>=G[i-1][j+1]:\n",
    "                phi[i][j]=G[i][j]\n",
    "        elif theta[i][j]>= -3/8*p and theta[i][j]<-1/8*p:\n",
    "            theta[i][j]=-0.25*p\n",
    "            if G[i][j]>=G[i-1,j-1] and G[i][j]>=G[i+1][j+1]:\n",
    "                phi[i][j]=G[i][j]\n",
    "        elif theta[i][j]>= -3/8*p and theta[i][j]<-1/8*p:\n",
    "            theta[i][j]=0.5*p\n",
    "            if G[i][j]>=G[i-1,j] and G[i][j]>=G[i+1][j]:\n",
    "                phi[i][j]=G[i][j]\n",
    "        elif theta[i][j]>= -1/2*p and theta[i][j]<-3/8*p:\n",
    "            theta[i][j]=0.5*p\n",
    "            if G[i][j]>=G[i-1,j] and G[i][j]>=G[i+1][j]:\n",
    "                phi[i][j]=G[i][j]"
   ]
  },
  {
   "cell_type": "code",
   "execution_count": 50,
   "metadata": {},
   "outputs": [],
   "source": [
    "cv2.imshow('Edge Detection', phi)\n",
    "cv2.waitKey(0)\n",
    "cv2.destroyAllWindows()"
   ]
  },
  {
   "cell_type": "code",
   "execution_count": 65,
   "metadata": {},
   "outputs": [],
   "source": [
    "E = np.zeros((phi.shape[0],phi.shape[1]))\n",
    "t1 =5\n",
    "t2 = 50\n",
    "for i in range(1,E.shape[0]-1):\n",
    "    for j in range(1, E.shape[1]-1):\n",
    "        if phi[i][j] >=t2 and E[i][j]==0:\n",
    "            E[i,j]=1\n",
    "        elif phi[i][j]>=t1 and E[i][j]==0:\n",
    "            for (k,l) in [(i-1, j-1), (i-1,j),(i-1,j+1),(i,j-1),(i,j+1),(i+1,j-1),(i+1,j),(i+1,j+1)]:\n",
    "                if E[k][l]==1:\n",
    "                    E[i][j]=1\n",
    "                \n"
   ]
  },
  {
   "cell_type": "code",
   "execution_count": 66,
   "metadata": {},
   "outputs": [],
   "source": [
    "cv2.imshow('Edge Detection', E)\n",
    "cv2.waitKey(0)\n",
    "cv2.destroyAllWindows()"
   ]
  },
  {
   "cell_type": "code",
   "execution_count": null,
   "metadata": {},
   "outputs": [],
   "source": []
  }
 ],
 "metadata": {
  "kernelspec": {
   "display_name": "Python 3",
   "language": "python",
   "name": "python3"
  },
  "language_info": {
   "codemirror_mode": {
    "name": "ipython",
    "version": 3
   },
   "file_extension": ".py",
   "mimetype": "text/x-python",
   "name": "python",
   "nbconvert_exporter": "python",
   "pygments_lexer": "ipython3",
   "version": "3.7.4"
  }
 },
 "nbformat": 4,
 "nbformat_minor": 2
}
