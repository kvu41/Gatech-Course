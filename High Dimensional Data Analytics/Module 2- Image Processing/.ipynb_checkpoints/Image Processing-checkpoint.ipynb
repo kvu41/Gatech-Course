{
 "cells": [
  {
   "cell_type": "code",
   "execution_count": 1,
   "metadata": {},
   "outputs": [],
   "source": [
    "import numpy as np\n",
    "import cv2"
   ]
  },
  {
   "cell_type": "code",
   "execution_count": 2,
   "metadata": {},
   "outputs": [],
   "source": [
    "\"\"\"Reading image from OpenCV library\"\"\"\n",
    "img = cv2.imread('FlowerN.jpg')"
   ]
  },
  {
   "cell_type": "code",
   "execution_count": 3,
   "metadata": {},
   "outputs": [],
   "source": [
    "\"\"\"Convert to gray scale image using OpenCV\"\"\"\n",
    "gray = cv2.cvtColor(img, cv2.COLOR_BGR2GRAY)\n"
   ]
  },
  {
   "cell_type": "code",
   "execution_count": 4,
   "metadata": {},
   "outputs": [],
   "source": [
    "#cv2.imshow('Original image',img)\n",
    "#cv2.imshow('Gray image', gray)"
   ]
  },
  {
   "cell_type": "code",
   "execution_count": 5,
   "metadata": {},
   "outputs": [],
   "source": [
    "#cv2.waitKey(0)\n",
    "#cv2.destroyAllWindows()"
   ]
  },
  {
   "cell_type": "code",
   "execution_count": 6,
   "metadata": {},
   "outputs": [],
   "source": [
    "\"\"\"Transform image to black and white image with threshold of 0.6\"\"\"\n",
    "(thresh, b2w) = cv2.threshold(gray, 0.6*255, 255, cv2.THRESH_BINARY)"
   ]
  },
  {
   "cell_type": "code",
   "execution_count": 7,
   "metadata": {},
   "outputs": [],
   "source": [
    "#cv2.imshow('Black and White Image', b2w)\n"
   ]
  },
  {
   "cell_type": "code",
   "execution_count": 8,
   "metadata": {},
   "outputs": [],
   "source": [
    "#cv2.waitKey(0)\n",
    "#cv2.destroyAllWindows()"
   ]
  },
  {
   "cell_type": "code",
   "execution_count": 9,
   "metadata": {},
   "outputs": [
    {
     "name": "stdout",
     "output_type": "stream",
     "text": [
      "New size of the reshaped image is:  (244, 372)\n"
     ]
    }
   ],
   "source": [
    "\"\"\"Reshape image to 1/4 of its original image\"\"\"\n",
    "image = cv2.resize(img, None, fx = 0.5, fy =0.5)\n",
    "print('New size of the reshaped image is: ', (image.shape[0], image.shape[1]))"
   ]
  },
  {
   "cell_type": "code",
   "execution_count": 10,
   "metadata": {},
   "outputs": [
    {
     "data": {
      "text/plain": [
       "<Figure size 640x480 with 1 Axes>"
      ]
     },
     "metadata": {},
     "output_type": "display_data"
    }
   ],
   "source": [
    "\"\"\"Image Histogram\"\"\"\n",
    "import matplotlib.pyplot as plt\n",
    "hist = cv2.calcHist([img],[0],None,[256],[0,256])\n",
    "plt.subplot(224)\n",
    "plt.plot(hist)\n",
    "plt.show()"
   ]
  },
  {
   "cell_type": "code",
   "execution_count": 11,
   "metadata": {},
   "outputs": [],
   "source": [
    "\"\"\"Thresholding\"\"\"\n",
    "\n",
    "g2bw = np.zeros((gray.shape[0], gray.shape[1]))\n",
    "for i in range(gray.shape[0]):\n",
    "    for j in range(gray.shape[1]):\n",
    "        if gray[i][j] <= 160:\n",
    "            g2bw[i][j]=0\n",
    "        else:\n",
    "            g2bw[i][j]=255"
   ]
  },
  {
   "cell_type": "code",
   "execution_count": 12,
   "metadata": {},
   "outputs": [
    {
     "data": {
      "image/png": "[encoded data removed]",
      "text/plain": [
       "<Figure size 432x288 with 1 Axes>"
      ]
     },
     "metadata": {
      "needs_background": "light"
     },
     "output_type": "display_data"
    }
   ],
   "source": [
    "plt.hist(gray.ravel(),256,[0,256])\n",
    "plt.hist(g2bw.ravel(),256,[0,256])\n",
    "plt.show()"
   ]
  },
  {
   "cell_type": "code",
   "execution_count": 13,
   "metadata": {},
   "outputs": [
    {
     "data": {
      "text/plain": [
       "' Show gray image and thresholded image'"
      ]
     },
     "execution_count": 13,
     "metadata": {},
     "output_type": "execute_result"
    }
   ],
   "source": [
    "\"\"\" Show gray image and thresholded image\"\"\"\n",
    "#cv2.imshow('Thresholding Image', g2bw)\n",
    "#cv2.imshow('Gray Scale Image', gray)\n"
   ]
  },
  {
   "cell_type": "code",
   "execution_count": 14,
   "metadata": {},
   "outputs": [],
   "source": [
    "#cv2.waitKey(0)\n",
    "#cv2.destroyAllWindows()"
   ]
  },
  {
   "cell_type": "code",
   "execution_count": 15,
   "metadata": {},
   "outputs": [],
   "source": [
    "\"\"\"Histogram shifting by s = 50\"\"\"\n",
    "shifted_gray = gray +50\n",
    "for i in range(shifted_gray.shape[0]):\n",
    "    for j in range(shifted_gray.shape[1]):\n",
    "        if shifted_gray[i][j]>255:\n",
    "            shifted_gray[i][j]=255\n",
    "        if shifted_gray[i][j]<25:\n",
    "            shifted_gray[i][j]=25"
   ]
  },
  {
   "cell_type": "code",
   "execution_count": 16,
   "metadata": {},
   "outputs": [],
   "source": [
    "#cv2.imshow('Shifted Image', shifted_gray)\n",
    "#cv2.imshow('Gray Scale Image', gray)\n",
    "#cv2.waitKey(0)\n",
    "#cv2.destroyAllWindows()"
   ]
  },
  {
   "cell_type": "code",
   "execution_count": 17,
   "metadata": {},
   "outputs": [
    {
     "data": {
      "image/png": "[encoded data removed]",
      "text/plain": [
       "<Figure size 432x288 with 1 Axes>"
      ]
     },
     "metadata": {
      "needs_background": "light"
     },
     "output_type": "display_data"
    }
   ],
   "source": [
    "plt.hist(gray.ravel(),256,[0,256])\n",
    "plt.hist(shifted_gray.ravel(),256,[0,256])\n",
    "\n",
    "plt.show()"
   ]
  },
  {
   "cell_type": "code",
   "execution_count": 18,
   "metadata": {},
   "outputs": [],
   "source": [
    "\"\"\" Histogram Stretching \"\"\"\n",
    "lambdas = 205\n",
    "maximum = gray.max()\n",
    "minimum = gray.min()\n",
    "st_gray = (gray-minimum)/(maximum-minimum) * 205"
   ]
  },
  {
   "cell_type": "code",
   "execution_count": 19,
   "metadata": {},
   "outputs": [
    {
     "data": {
      "image/png": "[encoded data removed]",
      "text/plain": [
       "<Figure size 432x288 with 1 Axes>"
      ]
     },
     "metadata": {
      "needs_background": "light"
     },
     "output_type": "display_data"
    }
   ],
   "source": [
    "plt.hist(gray.ravel(),256,[0,256])\n",
    "plt.hist(st_gray.ravel(),256,[0,256])\n",
    "\n",
    "plt.show()"
   ]
  },
  {
   "cell_type": "code",
   "execution_count": 20,
   "metadata": {},
   "outputs": [],
   "source": [
    "#cv2.imshow('Stretched Image', st_gray)\n",
    "#cv2.imshow('Gray Scale Image', gray)\n",
    "#cv2.waitKey(0)\n",
    "#cv2.destroyAllWindows()"
   ]
  },
  {
   "cell_type": "code",
   "execution_count": 21,
   "metadata": {},
   "outputs": [
    {
     "name": "stderr",
     "output_type": "stream",
     "text": [
      "C:\\Users\\Jack\\Anaconda3\\lib\\site-packages\\ipykernel_launcher.py:3: RuntimeWarning: divide by zero encountered in log\n",
      "  This is separate from the ipykernel package so we can avoid doing imports until\n"
     ]
    }
   ],
   "source": [
    "\"\"\"Log Transformation\"\"\" \n",
    "c = 40\n",
    "log_tr = c*np.log(gray+1)"
   ]
  },
  {
   "cell_type": "code",
   "execution_count": 22,
   "metadata": {},
   "outputs": [
    {
     "data": {
      "image/png": "[encoded data removed]",
      "text/plain": [
       "<Figure size 432x288 with 1 Axes>"
      ]
     },
     "metadata": {
      "needs_background": "light"
     },
     "output_type": "display_data"
    }
   ],
   "source": [
    "plt.hist(gray.ravel(),256,[0,256])\n",
    "plt.hist(log_tr.ravel(),256,[0,256])\n",
    "\n",
    "plt.show()"
   ]
  },
  {
   "cell_type": "code",
   "execution_count": 23,
   "metadata": {},
   "outputs": [],
   "source": [
    "#cv2.imshow('Log-transformed image', np.float32(log_tr))\n",
    "#cv2.imshow('Gray Scale Image', gray)\n",
    "#cv2.waitKey(0)\n",
    "#cv2.destroyAllWindows()"
   ]
  },
  {
   "cell_type": "code",
   "execution_count": 24,
   "metadata": {},
   "outputs": [],
   "source": [
    "\"\"\"Power-law transformation\"\"\"\n",
    "gamma = 1.4\n",
    "cc = 0.1\n",
    "pl_tr = cc*gray**gamma\n",
    "pl_tr = np.float32(pl_tr)"
   ]
  },
  {
   "cell_type": "code",
   "execution_count": 25,
   "metadata": {},
   "outputs": [
    {
     "data": {
      "image/png": "[encoded data removed]",
      "text/plain": [
       "<Figure size 432x288 with 1 Axes>"
      ]
     },
     "metadata": {
      "needs_background": "light"
     },
     "output_type": "display_data"
    }
   ],
   "source": [
    "plt.hist(gray.ravel(),256,[0,256])\n",
    "plt.hist(pl_tr.ravel(),256,[0,256])\n",
    "\n",
    "plt.show()"
   ]
  },
  {
   "cell_type": "code",
   "execution_count": 26,
   "metadata": {},
   "outputs": [],
   "source": [
    "#cv2.imshow('Power law-transformed image', pl_tr)\n",
    "#cv2.imshow('Gray Scale Image', gray)\n",
    "#cv2.waitKey(0)\n",
    "#cv2.destroyAllWindows()"
   ]
  },
  {
   "cell_type": "code",
   "execution_count": 27,
   "metadata": {},
   "outputs": [
    {
     "data": {
      "text/plain": [
       "' These transformations are used for feature segmentation'"
      ]
     },
     "execution_count": 27,
     "metadata": {},
     "output_type": "execute_result"
    }
   ],
   "source": [
    "\"\"\" These transformations are used for feature segmentation\"\"\""
   ]
  },
  {
   "cell_type": "code",
   "execution_count": 22,
   "metadata": {},
   "outputs": [],
   "source": [
    "\"\"\"Convolution\"\"\"\n",
    "\n",
    "\"\"\"Image Blurring Convolutional mask\"\"\"\n",
    "k1 = 1/256*np.array(([1,4,6,4,1],[4,16,24,16,4],[6,24,36,24,6],[4,16,24,16,4],[1,4,6,4,1]))\n",
    "\"\"\" Image sharpening Convolutional mask\"\"\"\n",
    "k2=np.array(([-1,-1,-1],[-1,9,-1],[-1,-1,-1]))\n",
    "\"\"\"Image embossing Convolutional mask\"\"\"\n",
    "k3=np.array(([-1,-1,-1,-1,0],[-1,-1,-1,0,1],[-1,-1,0,1,1],[-1,0,1,1,1],[0,1,1,1,1]))\n",
    "\"\"\"Edge detection convolutional mask\"\"\"\n",
    "k4=np.array(([-1,0,0,0,0],[0,-2,0,0,0],[0,0,6,0,0],[0,0,0,-2,0],[0,0,0,0,-1]))"
   ]
  },
  {
   "cell_type": "code",
   "execution_count": 23,
   "metadata": {},
   "outputs": [],
   "source": [
    "\"\"\"Convolution function\"\"\"\n",
    "blurred_img = cv2.filter2D(img,-1,k1 )\n",
    "sharpened_img = cv2.filter2D(img,-1,k2 )\n",
    "embossed_img = cv2.filter2D(img,-1,k3)\n",
    "edge_detection = cv2.filter2D(img,-1,k4)"
   ]
  },
  {
   "cell_type": "code",
   "execution_count": 24,
   "metadata": {},
   "outputs": [],
   "source": [
    "cv2.imshow('Original Image', img)\n",
    "cv2.imshow('blurred_img', blurred_img)\n",
    "cv2.imshow('sharpend_img', sharpened_img)\n",
    "cv2.imshow('embossed_img', embossed_img)\n",
    "cv2.imshow('edge_detection', edge_detection)\n",
    "\n",
    "\n",
    "cv2.waitKey(0)\n",
    "cv2.destroyAllWindows()"
   ]
  },
  {
   "cell_type": "code",
   "execution_count": 30,
   "metadata": {},
   "outputs": [],
   "source": [
    "\"\"\"Image thresholding using Otsu's method\n",
    "\"\"\"\n",
    "\n",
    "threshold,b2w = cv2.threshold(gray,0,255,cv2.THRESH_BINARY+cv2.THRESH_OTSU)"
   ]
  },
  {
   "cell_type": "code",
   "execution_count": 31,
   "metadata": {},
   "outputs": [],
   "source": [
    "\"\"\"Otsu's threshold for this image is 126.0\"\"\"\n",
    "cv2.imshow('Black and White image', b2w)\n",
    "cv2.waitKey(0)\n",
    "cv2.destroyAllWindows()"
   ]
  },
  {
   "cell_type": "code",
   "execution_count": 16,
   "metadata": {},
   "outputs": [],
   "source": [
    "\"\"\"Image Segmentation using K-means\"\"\"\n",
    "import numpy as np\n",
    "import cv2\n",
    "\n",
    "\n",
    "Z = img.reshape((-1,3))\n",
    "\n",
    "# convert to np.float32\n",
    "Z = np.float32(Z)\n",
    "\n",
    "# define criteria, number of clusters(K) and apply kmeans()\n",
    "criteria = (cv2.TERM_CRITERIA_EPS + cv2.TERM_CRITERIA_MAX_ITER, 10, 1.0)\n",
    "K = 5\n",
    "ret,label,center=cv2.kmeans(Z,K,None,criteria,10,cv2.KMEANS_RANDOM_CENTERS)\n",
    "\n",
    "# Now convert back into uint8, and make original image\n",
    "center = np.uint8(center)\n",
    "res = center[label.flatten()]\n",
    "res2 = res.reshape((img.shape))\n",
    "\n",
    "cv2.imshow('res2',res2)\n",
    "cv2.waitKey(0)\n",
    "cv2.destroyAllWindows()"
   ]
  },
  {
   "cell_type": "code",
   "execution_count": 17,
   "metadata": {},
   "outputs": [],
   "source": [
    "\"\"\"Sobel method for edge detection\"\"\"\n",
    "mx= np.array(([-1,0,1],[-2,0,2],[-1,0,1]))"
   ]
  },
  {
   "cell_type": "code",
   "execution_count": 18,
   "metadata": {},
   "outputs": [],
   "source": [
    "my = mx.T"
   ]
  },
  {
   "cell_type": "code",
   "execution_count": 41,
   "metadata": {},
   "outputs": [],
   "source": [
    "fx= cv2.filter2D(img,-1,mx)\n",
    "fy=cv2.filter2D(img,-1,my)\n",
    "\n",
    "\n",
    "f = np.multiply(fx,fx)+np.multiply(fy,fy)\n",
    "kf = f\n",
    "threshold = 160\n",
    "for i in range(f.shape[0]):\n",
    "    for j in range(f.shape[1]):\n",
    "        for k in range(f.shape[2]):\n",
    "            if kf[i][j][k] < threshold:\n",
    "                kf[i][j][k] =0\n",
    "\n"
   ]
  },
  {
   "cell_type": "code",
   "execution_count": 42,
   "metadata": {},
   "outputs": [],
   "source": [
    "cv2.imshow('fx',fx)\n",
    "cv2.imshow('fy',fy)\n",
    "cv2.imshow('f', kf)\n",
    "\n",
    "cv2.waitKey(0)\n",
    "cv2.destroyAllWindows()"
   ]
  },
  {
   "cell_type": "code",
   "execution_count": null,
   "metadata": {},
   "outputs": [],
   "source": []
  }
 ],
 "metadata": {
  "kernelspec": {
   "display_name": "Python 3",
   "language": "python",
   "name": "python3"
  },
  "language_info": {
   "codemirror_mode": {
    "name": "ipython",
    "version": 3
   },
   "file_extension": ".py",
   "mimetype": "text/x-python",
   "name": "python",
   "nbconvert_exporter": "python",
   "pygments_lexer": "ipython3",
   "version": "3.7.4"
  }
 },
 "nbformat": 4,
 "nbformat_minor": 2
}
