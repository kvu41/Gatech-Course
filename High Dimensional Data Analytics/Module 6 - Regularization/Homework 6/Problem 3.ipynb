{
 "cells": [
  {
   "cell_type": "markdown",
   "metadata": {},
   "source": [
    "# Various Regression Models\n"
   ]
  },
  {
   "cell_type": "code",
   "execution_count": 1,
   "metadata": {},
   "outputs": [],
   "source": [
    "import numpy as np\n",
    "import pandas as pd\n",
    "import matplotlib.pyplot as plt\n"
   ]
  },
  {
   "cell_type": "code",
   "execution_count": 2,
   "metadata": {},
   "outputs": [],
   "source": [
    "train = pd.read_csv('train.air.csv')"
   ]
  },
  {
   "cell_type": "code",
   "execution_count": 3,
   "metadata": {},
   "outputs": [
    {
     "data": {
      "text/html": [
       "<div>\n",
       "<style scoped>\n",
       "    .dataframe tbody tr th:only-of-type {\n",
       "        vertical-align: middle;\n",
       "    }\n",
       "\n",
       "    .dataframe tbody tr th {\n",
       "        vertical-align: top;\n",
       "    }\n",
       "\n",
       "    .dataframe thead th {\n",
       "        text-align: right;\n",
       "    }\n",
       "</style>\n",
       "<table border=\"1\" class=\"dataframe\">\n",
       "  <thead>\n",
       "    <tr style=\"text-align: right;\">\n",
       "      <th></th>\n",
       "      <th>CO</th>\n",
       "      <th>C6H6</th>\n",
       "      <th>NMHC</th>\n",
       "      <th>Nox</th>\n",
       "      <th>NO2</th>\n",
       "      <th>O3</th>\n",
       "      <th>T</th>\n",
       "      <th>RH</th>\n",
       "      <th>AH</th>\n",
       "    </tr>\n",
       "  </thead>\n",
       "  <tbody>\n",
       "    <tr>\n",
       "      <td>0</td>\n",
       "      <td>2.6</td>\n",
       "      <td>11.9</td>\n",
       "      <td>1046</td>\n",
       "      <td>166</td>\n",
       "      <td>113</td>\n",
       "      <td>1268</td>\n",
       "      <td>13.6</td>\n",
       "      <td>48.9</td>\n",
       "      <td>0.7578</td>\n",
       "    </tr>\n",
       "    <tr>\n",
       "      <td>1</td>\n",
       "      <td>2.0</td>\n",
       "      <td>9.4</td>\n",
       "      <td>955</td>\n",
       "      <td>103</td>\n",
       "      <td>92</td>\n",
       "      <td>972</td>\n",
       "      <td>13.3</td>\n",
       "      <td>47.7</td>\n",
       "      <td>0.7255</td>\n",
       "    </tr>\n",
       "    <tr>\n",
       "      <td>2</td>\n",
       "      <td>2.2</td>\n",
       "      <td>9.0</td>\n",
       "      <td>939</td>\n",
       "      <td>131</td>\n",
       "      <td>114</td>\n",
       "      <td>1074</td>\n",
       "      <td>11.9</td>\n",
       "      <td>54.0</td>\n",
       "      <td>0.7502</td>\n",
       "    </tr>\n",
       "    <tr>\n",
       "      <td>3</td>\n",
       "      <td>1.6</td>\n",
       "      <td>6.5</td>\n",
       "      <td>836</td>\n",
       "      <td>131</td>\n",
       "      <td>116</td>\n",
       "      <td>1110</td>\n",
       "      <td>11.2</td>\n",
       "      <td>59.6</td>\n",
       "      <td>0.7888</td>\n",
       "    </tr>\n",
       "    <tr>\n",
       "      <td>4</td>\n",
       "      <td>1.2</td>\n",
       "      <td>3.6</td>\n",
       "      <td>690</td>\n",
       "      <td>62</td>\n",
       "      <td>77</td>\n",
       "      <td>733</td>\n",
       "      <td>11.3</td>\n",
       "      <td>56.8</td>\n",
       "      <td>0.7603</td>\n",
       "    </tr>\n",
       "    <tr>\n",
       "      <td>...</td>\n",
       "      <td>...</td>\n",
       "      <td>...</td>\n",
       "      <td>...</td>\n",
       "      <td>...</td>\n",
       "      <td>...</td>\n",
       "      <td>...</td>\n",
       "      <td>...</td>\n",
       "      <td>...</td>\n",
       "      <td>...</td>\n",
       "    </tr>\n",
       "    <tr>\n",
       "      <td>5548</td>\n",
       "      <td>3.9</td>\n",
       "      <td>13.6</td>\n",
       "      <td>1102</td>\n",
       "      <td>523</td>\n",
       "      <td>187</td>\n",
       "      <td>1583</td>\n",
       "      <td>18.2</td>\n",
       "      <td>36.3</td>\n",
       "      <td>0.7487</td>\n",
       "    </tr>\n",
       "    <tr>\n",
       "      <td>5549</td>\n",
       "      <td>2.4</td>\n",
       "      <td>11.4</td>\n",
       "      <td>1027</td>\n",
       "      <td>353</td>\n",
       "      <td>179</td>\n",
       "      <td>1269</td>\n",
       "      <td>24.3</td>\n",
       "      <td>23.7</td>\n",
       "      <td>0.7119</td>\n",
       "    </tr>\n",
       "    <tr>\n",
       "      <td>5550</td>\n",
       "      <td>2.4</td>\n",
       "      <td>12.4</td>\n",
       "      <td>1063</td>\n",
       "      <td>293</td>\n",
       "      <td>175</td>\n",
       "      <td>1092</td>\n",
       "      <td>26.9</td>\n",
       "      <td>18.3</td>\n",
       "      <td>0.6406</td>\n",
       "    </tr>\n",
       "    <tr>\n",
       "      <td>5551</td>\n",
       "      <td>2.1</td>\n",
       "      <td>9.5</td>\n",
       "      <td>961</td>\n",
       "      <td>235</td>\n",
       "      <td>156</td>\n",
       "      <td>770</td>\n",
       "      <td>28.3</td>\n",
       "      <td>13.5</td>\n",
       "      <td>0.5139</td>\n",
       "    </tr>\n",
       "    <tr>\n",
       "      <td>5552</td>\n",
       "      <td>2.2</td>\n",
       "      <td>11.9</td>\n",
       "      <td>1047</td>\n",
       "      <td>265</td>\n",
       "      <td>168</td>\n",
       "      <td>816</td>\n",
       "      <td>28.5</td>\n",
       "      <td>13.1</td>\n",
       "      <td>0.5028</td>\n",
       "    </tr>\n",
       "  </tbody>\n",
       "</table>\n",
       "<p>5553 rows × 9 columns</p>\n",
       "</div>"
      ],
      "text/plain": [
       "       CO  C6H6  NMHC  Nox  NO2    O3     T    RH      AH\n",
       "0     2.6  11.9  1046  166  113  1268  13.6  48.9  0.7578\n",
       "1     2.0   9.4   955  103   92   972  13.3  47.7  0.7255\n",
       "2     2.2   9.0   939  131  114  1074  11.9  54.0  0.7502\n",
       "3     1.6   6.5   836  131  116  1110  11.2  59.6  0.7888\n",
       "4     1.2   3.6   690   62   77   733  11.3  56.8  0.7603\n",
       "...   ...   ...   ...  ...  ...   ...   ...   ...     ...\n",
       "5548  3.9  13.6  1102  523  187  1583  18.2  36.3  0.7487\n",
       "5549  2.4  11.4  1027  353  179  1269  24.3  23.7  0.7119\n",
       "5550  2.4  12.4  1063  293  175  1092  26.9  18.3  0.6406\n",
       "5551  2.1   9.5   961  235  156   770  28.3  13.5  0.5139\n",
       "5552  2.2  11.9  1047  265  168   816  28.5  13.1  0.5028\n",
       "\n",
       "[5553 rows x 9 columns]"
      ]
     },
     "execution_count": 3,
     "metadata": {},
     "output_type": "execute_result"
    }
   ],
   "source": [
    "train"
   ]
  },
  {
   "cell_type": "code",
   "execution_count": 4,
   "metadata": {},
   "outputs": [],
   "source": [
    "test = pd.read_csv('test.air.csv')"
   ]
  },
  {
   "cell_type": "code",
   "execution_count": 5,
   "metadata": {},
   "outputs": [],
   "source": [
    "from sklearn.preprocessing import StandardScaler"
   ]
  },
  {
   "cell_type": "code",
   "execution_count": 6,
   "metadata": {},
   "outputs": [],
   "source": [
    "std = StandardScaler()"
   ]
  },
  {
   "cell_type": "code",
   "execution_count": 7,
   "metadata": {},
   "outputs": [],
   "source": [
    "train_arr = std.fit_transform(train)"
   ]
  },
  {
   "cell_type": "code",
   "execution_count": 8,
   "metadata": {},
   "outputs": [],
   "source": [
    "test_arr = std.transform(test)"
   ]
  },
  {
   "cell_type": "code",
   "execution_count": 9,
   "metadata": {},
   "outputs": [],
   "source": [
    "from sklearn.model_selection import train_test_split, GridSearchCV"
   ]
  },
  {
   "cell_type": "code",
   "execution_count": 10,
   "metadata": {},
   "outputs": [],
   "source": [
    "X_train = train_arr[:, 1:]\n",
    "y_train = train_arr[:, 0]\n",
    "\n",
    "X_test = test_arr[:, 1:]\n",
    "y_test = test_arr[:, 0]"
   ]
  },
  {
   "cell_type": "code",
   "execution_count": 11,
   "metadata": {},
   "outputs": [],
   "source": [
    "from sklearn.linear_model import RidgeCV, LassoCV, ElasticNetCV\n",
    "from sklearn.metrics import mean_squared_error"
   ]
  },
  {
   "cell_type": "code",
   "execution_count": 12,
   "metadata": {},
   "outputs": [
    {
     "name": "stdout",
     "output_type": "stream",
     "text": [
      "Coefficient for optimal Ridge Regression [ 0.77812833  0.05127949  0.11590548  0.07914592 -0.01384698 -0.07005888\n",
      "  0.02985376 -0.01095076]\n",
      "Optimal alpha 10.0\n",
      "Mean Square Prediction Error 0.12053749422976588\n"
     ]
    }
   ],
   "source": [
    "ridge = RidgeCV(alphas = [1e-3, 1e-2, 1e-1, 1, 10], cv = 10, fit_intercept = False).fit(X_train, y_train)\n",
    "y_ridge = ridge.predict(X_test)\n",
    "print(\"Coefficient for optimal Ridge Regression\", ridge.coef_)\n",
    "print(\"Optimal alpha\", ridge.alpha_)\n",
    "print(\"Mean Square Prediction Error\", mean_squared_error(y_test, y_ridge))"
   ]
  },
  {
   "cell_type": "code",
   "execution_count": 13,
   "metadata": {},
   "outputs": [
    {
     "name": "stdout",
     "output_type": "stream",
     "text": [
      "Coefficient for optimal Lasso Regression [ 0.80243571  0.          0.12283557  0.07516101  0.         -0.06826291\n",
      "  0.01281224 -0.        ]\n",
      "Optimal alpha 0.01\n",
      "Mean Square Prediction Error 0.12006054875785242\n"
     ]
    }
   ],
   "source": [
    "lasso = LassoCV(alphas = [1e-3, 1e-2, 1e-1, 1, 10], cv = 10, fit_intercept = False).fit(X_train, y_train)\n",
    "y_lasso = lasso.predict(X_test)\n",
    "print(\"Coefficient for optimal Lasso Regression\", lasso.coef_)\n",
    "print(\"Optimal alpha\", lasso.alpha_)\n",
    "print(\"Mean Square Prediction Error\", mean_squared_error(y_test, y_lasso))"
   ]
  },
  {
   "cell_type": "code",
   "execution_count": 14,
   "metadata": {},
   "outputs": [
    {
     "name": "stdout",
     "output_type": "stream",
     "text": [
      "Coefficient for optimal ElasticNet Regression [ 0.71809334  0.09117461  0.12524573  0.06924798  0.         -0.07762137\n",
      "  0.01380704 -0.        ]\n",
      "Optimal alpha 0.01\n",
      "Mean Square Prediction Error 0.11954105258013399\n"
     ]
    }
   ],
   "source": [
    "elastic = ElasticNetCV(alphas = [1e-3, 1e-2, 1e-1, 1, 10], cv = 10, fit_intercept = False).fit(X_train, y_train)\n",
    "y_elastic = elastic.predict(X_test)\n",
    "print(\"Coefficient for optimal ElasticNet Regression\", elastic.coef_)\n",
    "print(\"Optimal alpha\", elastic.alpha_)\n",
    "print(\"Mean Square Prediction Error\", mean_squared_error(y_test, y_elastic))"
   ]
  },
  {
   "cell_type": "markdown",
   "metadata": {},
   "source": [
    "# Adaptive Lasso by Transforming input data X with weight initialization of Ridge Regression"
   ]
  },
  {
   "cell_type": "code",
   "execution_count": 18,
   "metadata": {},
   "outputs": [],
   "source": [
    "X_t = np.zeros(X_train.shape)\n",
    "wt = ridge.coef_\n",
    "X_tt = np.zeros(X_test.shape)\n",
    "\n",
    "\n",
    "for i in range(X_train.shape[1]):\n",
    "    X_t[:, i]= X_train[:, i]/wt[i]\n",
    "for i in range(X_test.shape[1]):\n",
    "    X_tt[:, i] = X_test[:, i]/wt[i]\n",
    "    \n"
   ]
  },
  {
   "cell_type": "code",
   "execution_count": 27,
   "metadata": {},
   "outputs": [
    {
     "name": "stdout",
     "output_type": "stream",
     "text": [
      "Coefficient for optimal Adaptive Lasso Regression [ 1.03123826  0.          1.05979083  0.9496511  -0.          0.9743649\n",
      "  0.42916678  0.        ]\n",
      "Optimal alpha 0.01\n",
      "Mean Square Prediction Error 0.12077661517022441\n"
     ]
    }
   ],
   "source": [
    "a_lasso = LassoCV(alphas = [1e-3, 1e-2, 1e-1, 1, 10], cv = 10, fit_intercept = False).fit(X_t, y_train)\n",
    "y_alasso = a_lasso.predict(X_tt)\n",
    "\n",
    "wt_u = np.zeros(wt.shape)\n",
    "for i in range(len(wt_u)):\n",
    "    wt_u[i]  = lasso.coef_[i]/wt[i]\n",
    "    \n",
    "print(\"Coefficient for optimal Adaptive Lasso Regression\",wt_u)\n",
    "print(\"Optimal alpha\", lasso.alpha_)\n",
    "print(\"Mean Square Prediction Error\", mean_squared_error(y_test, y_alasso))"
   ]
  },
  {
   "cell_type": "code",
   "execution_count": 51,
   "metadata": {},
   "outputs": [
    {
     "data": {
      "text/plain": [
       "' Based on Mean Square Prediction Error , ElasticNet Regression performed best on this dataset'"
      ]
     },
     "execution_count": 51,
     "metadata": {},
     "output_type": "execute_result"
    }
   ],
   "source": [
    "\"\"\" Based on Mean Square Prediction Error , ElasticNet Regression performed best on this dataset\"\"\""
   ]
  },
  {
   "cell_type": "code",
   "execution_count": null,
   "metadata": {},
   "outputs": [],
   "source": []
  }
 ],
 "metadata": {
  "kernelspec": {
   "display_name": "Python 3",
   "language": "python",
   "name": "python3"
  },
  "language_info": {
   "codemirror_mode": {
    "name": "ipython",
    "version": 3
   },
   "file_extension": ".py",
   "mimetype": "text/x-python",
   "name": "python",
   "nbconvert_exporter": "python",
   "pygments_lexer": "ipython3",
   "version": "3.7.4"
  }
 },
 "nbformat": 4,
 "nbformat_minor": 2
}
