{
 "cells": [
  {
   "cell_type": "code",
   "execution_count": 2,
   "metadata": {},
   "outputs": [],
   "source": [
    "import numpy as np\n",
    "import pandas as pd"
   ]
  },
  {
   "cell_type": "code",
   "execution_count": 3,
   "metadata": {},
   "outputs": [],
   "source": [
    "df = pd.read_csv('RealEstate-1.csv')"
   ]
  },
  {
   "cell_type": "code",
   "execution_count": 4,
   "metadata": {},
   "outputs": [
    {
     "data": {
      "text/html": [
       "<div>\n",
       "<style scoped>\n",
       "    .dataframe tbody tr th:only-of-type {\n",
       "        vertical-align: middle;\n",
       "    }\n",
       "\n",
       "    .dataframe tbody tr th {\n",
       "        vertical-align: top;\n",
       "    }\n",
       "\n",
       "    .dataframe thead th {\n",
       "        text-align: right;\n",
       "    }\n",
       "</style>\n",
       "<table border=\"1\" class=\"dataframe\">\n",
       "  <thead>\n",
       "    <tr style=\"text-align: right;\">\n",
       "      <th></th>\n",
       "      <th>Price</th>\n",
       "      <th>Bedrooms</th>\n",
       "      <th>Bathrooms</th>\n",
       "      <th>PriceSF</th>\n",
       "      <th>Status</th>\n",
       "    </tr>\n",
       "  </thead>\n",
       "  <tbody>\n",
       "    <tr>\n",
       "      <td>0</td>\n",
       "      <td>795000</td>\n",
       "      <td>3</td>\n",
       "      <td>3</td>\n",
       "      <td>335.30</td>\n",
       "      <td>1</td>\n",
       "    </tr>\n",
       "    <tr>\n",
       "      <td>1</td>\n",
       "      <td>399000</td>\n",
       "      <td>4</td>\n",
       "      <td>3</td>\n",
       "      <td>141.59</td>\n",
       "      <td>1</td>\n",
       "    </tr>\n",
       "    <tr>\n",
       "      <td>2</td>\n",
       "      <td>545000</td>\n",
       "      <td>4</td>\n",
       "      <td>3</td>\n",
       "      <td>179.75</td>\n",
       "      <td>1</td>\n",
       "    </tr>\n",
       "    <tr>\n",
       "      <td>3</td>\n",
       "      <td>909000</td>\n",
       "      <td>4</td>\n",
       "      <td>4</td>\n",
       "      <td>256.78</td>\n",
       "      <td>1</td>\n",
       "    </tr>\n",
       "    <tr>\n",
       "      <td>4</td>\n",
       "      <td>109900</td>\n",
       "      <td>3</td>\n",
       "      <td>1</td>\n",
       "      <td>87.99</td>\n",
       "      <td>1</td>\n",
       "    </tr>\n",
       "    <tr>\n",
       "      <td>...</td>\n",
       "      <td>...</td>\n",
       "      <td>...</td>\n",
       "      <td>...</td>\n",
       "      <td>...</td>\n",
       "      <td>...</td>\n",
       "    </tr>\n",
       "    <tr>\n",
       "      <td>732</td>\n",
       "      <td>319900</td>\n",
       "      <td>3</td>\n",
       "      <td>3</td>\n",
       "      <td>199.31</td>\n",
       "      <td>2</td>\n",
       "    </tr>\n",
       "    <tr>\n",
       "      <td>733</td>\n",
       "      <td>495000</td>\n",
       "      <td>3</td>\n",
       "      <td>2</td>\n",
       "      <td>263.72</td>\n",
       "      <td>2</td>\n",
       "    </tr>\n",
       "    <tr>\n",
       "      <td>734</td>\n",
       "      <td>372000</td>\n",
       "      <td>3</td>\n",
       "      <td>2</td>\n",
       "      <td>336.96</td>\n",
       "      <td>3</td>\n",
       "    </tr>\n",
       "    <tr>\n",
       "      <td>735</td>\n",
       "      <td>589000</td>\n",
       "      <td>3</td>\n",
       "      <td>2</td>\n",
       "      <td>298.23</td>\n",
       "      <td>2</td>\n",
       "    </tr>\n",
       "    <tr>\n",
       "      <td>736</td>\n",
       "      <td>1100000</td>\n",
       "      <td>3</td>\n",
       "      <td>3</td>\n",
       "      <td>459.87</td>\n",
       "      <td>2</td>\n",
       "    </tr>\n",
       "  </tbody>\n",
       "</table>\n",
       "<p>737 rows × 5 columns</p>\n",
       "</div>"
      ],
      "text/plain": [
       "       Price  Bedrooms  Bathrooms  PriceSF  Status\n",
       "0     795000         3          3   335.30       1\n",
       "1     399000         4          3   141.59       1\n",
       "2     545000         4          3   179.75       1\n",
       "3     909000         4          4   256.78       1\n",
       "4     109900         3          1    87.99       1\n",
       "..       ...       ...        ...      ...     ...\n",
       "732   319900         3          3   199.31       2\n",
       "733   495000         3          2   263.72       2\n",
       "734   372000         3          2   336.96       3\n",
       "735   589000         3          2   298.23       2\n",
       "736  1100000         3          3   459.87       2\n",
       "\n",
       "[737 rows x 5 columns]"
      ]
     },
     "execution_count": 4,
     "metadata": {},
     "output_type": "execute_result"
    }
   ],
   "source": [
    "df"
   ]
  },
  {
   "cell_type": "code",
   "execution_count": 10,
   "metadata": {},
   "outputs": [],
   "source": [
    "X = pd.get_dummies(df, columns =  ['Bedrooms', 'Bathrooms', 'Status'])"
   ]
  },
  {
   "cell_type": "code",
   "execution_count": 18,
   "metadata": {},
   "outputs": [],
   "source": [
    "delta_price = max(X['Price']) - min(X['Price'])"
   ]
  },
  {
   "cell_type": "code",
   "execution_count": 20,
   "metadata": {},
   "outputs": [],
   "source": [
    "X['Price'] = (X['Price'] - min(X['Price']))/delta_price"
   ]
  },
  {
   "cell_type": "code",
   "execution_count": 22,
   "metadata": {},
   "outputs": [],
   "source": [
    "delta_pricesf = max(X['PriceSF']) - min(X['PriceSF'])"
   ]
  },
  {
   "cell_type": "code",
   "execution_count": 23,
   "metadata": {},
   "outputs": [],
   "source": [
    "X['PriceSF'] = (X['PriceSF'] - min(X['PriceSF']))/delta_pricesf"
   ]
  },
  {
   "cell_type": "code",
   "execution_count": 24,
   "metadata": {},
   "outputs": [
    {
     "data": {
      "text/html": [
       "<div>\n",
       "<style scoped>\n",
       "    .dataframe tbody tr th:only-of-type {\n",
       "        vertical-align: middle;\n",
       "    }\n",
       "\n",
       "    .dataframe tbody tr th {\n",
       "        vertical-align: top;\n",
       "    }\n",
       "\n",
       "    .dataframe thead th {\n",
       "        text-align: right;\n",
       "    }\n",
       "</style>\n",
       "<table border=\"1\" class=\"dataframe\">\n",
       "  <thead>\n",
       "    <tr style=\"text-align: right;\">\n",
       "      <th></th>\n",
       "      <th>Price</th>\n",
       "      <th>PriceSF</th>\n",
       "      <th>Bedrooms_0</th>\n",
       "      <th>Bedrooms_1</th>\n",
       "      <th>Bedrooms_2</th>\n",
       "      <th>Bedrooms_3</th>\n",
       "      <th>Bedrooms_4</th>\n",
       "      <th>Bathrooms_1</th>\n",
       "      <th>Bathrooms_2</th>\n",
       "      <th>Bathrooms_3</th>\n",
       "      <th>Bathrooms_4</th>\n",
       "      <th>Status_1</th>\n",
       "      <th>Status_2</th>\n",
       "      <th>Status_3</th>\n",
       "    </tr>\n",
       "  </thead>\n",
       "  <tbody>\n",
       "    <tr>\n",
       "      <td>0</td>\n",
       "      <td>0.389410</td>\n",
       "      <td>0.280785</td>\n",
       "      <td>0</td>\n",
       "      <td>0</td>\n",
       "      <td>0</td>\n",
       "      <td>1</td>\n",
       "      <td>0</td>\n",
       "      <td>0</td>\n",
       "      <td>0</td>\n",
       "      <td>1</td>\n",
       "      <td>0</td>\n",
       "      <td>1</td>\n",
       "      <td>0</td>\n",
       "      <td>0</td>\n",
       "    </tr>\n",
       "    <tr>\n",
       "      <td>1</td>\n",
       "      <td>0.188751</td>\n",
       "      <td>0.108646</td>\n",
       "      <td>0</td>\n",
       "      <td>0</td>\n",
       "      <td>0</td>\n",
       "      <td>0</td>\n",
       "      <td>1</td>\n",
       "      <td>0</td>\n",
       "      <td>0</td>\n",
       "      <td>1</td>\n",
       "      <td>0</td>\n",
       "      <td>1</td>\n",
       "      <td>0</td>\n",
       "      <td>0</td>\n",
       "    </tr>\n",
       "    <tr>\n",
       "      <td>2</td>\n",
       "      <td>0.262731</td>\n",
       "      <td>0.142556</td>\n",
       "      <td>0</td>\n",
       "      <td>0</td>\n",
       "      <td>0</td>\n",
       "      <td>0</td>\n",
       "      <td>1</td>\n",
       "      <td>0</td>\n",
       "      <td>0</td>\n",
       "      <td>1</td>\n",
       "      <td>0</td>\n",
       "      <td>1</td>\n",
       "      <td>0</td>\n",
       "      <td>0</td>\n",
       "    </tr>\n",
       "    <tr>\n",
       "      <td>3</td>\n",
       "      <td>0.447175</td>\n",
       "      <td>0.211009</td>\n",
       "      <td>0</td>\n",
       "      <td>0</td>\n",
       "      <td>0</td>\n",
       "      <td>0</td>\n",
       "      <td>1</td>\n",
       "      <td>0</td>\n",
       "      <td>0</td>\n",
       "      <td>0</td>\n",
       "      <td>1</td>\n",
       "      <td>1</td>\n",
       "      <td>0</td>\n",
       "      <td>0</td>\n",
       "    </tr>\n",
       "    <tr>\n",
       "      <td>4</td>\n",
       "      <td>0.042260</td>\n",
       "      <td>0.061014</td>\n",
       "      <td>0</td>\n",
       "      <td>0</td>\n",
       "      <td>0</td>\n",
       "      <td>1</td>\n",
       "      <td>0</td>\n",
       "      <td>1</td>\n",
       "      <td>0</td>\n",
       "      <td>0</td>\n",
       "      <td>0</td>\n",
       "      <td>1</td>\n",
       "      <td>0</td>\n",
       "      <td>0</td>\n",
       "    </tr>\n",
       "    <tr>\n",
       "      <td>...</td>\n",
       "      <td>...</td>\n",
       "      <td>...</td>\n",
       "      <td>...</td>\n",
       "      <td>...</td>\n",
       "      <td>...</td>\n",
       "      <td>...</td>\n",
       "      <td>...</td>\n",
       "      <td>...</td>\n",
       "      <td>...</td>\n",
       "      <td>...</td>\n",
       "      <td>...</td>\n",
       "      <td>...</td>\n",
       "      <td>...</td>\n",
       "      <td>...</td>\n",
       "    </tr>\n",
       "    <tr>\n",
       "      <td>732</td>\n",
       "      <td>0.148670</td>\n",
       "      <td>0.159938</td>\n",
       "      <td>0</td>\n",
       "      <td>0</td>\n",
       "      <td>0</td>\n",
       "      <td>1</td>\n",
       "      <td>0</td>\n",
       "      <td>0</td>\n",
       "      <td>0</td>\n",
       "      <td>1</td>\n",
       "      <td>0</td>\n",
       "      <td>0</td>\n",
       "      <td>1</td>\n",
       "      <td>0</td>\n",
       "    </tr>\n",
       "    <tr>\n",
       "      <td>733</td>\n",
       "      <td>0.237395</td>\n",
       "      <td>0.217176</td>\n",
       "      <td>0</td>\n",
       "      <td>0</td>\n",
       "      <td>0</td>\n",
       "      <td>1</td>\n",
       "      <td>0</td>\n",
       "      <td>0</td>\n",
       "      <td>1</td>\n",
       "      <td>0</td>\n",
       "      <td>0</td>\n",
       "      <td>0</td>\n",
       "      <td>1</td>\n",
       "      <td>0</td>\n",
       "    </tr>\n",
       "    <tr>\n",
       "      <td>734</td>\n",
       "      <td>0.175070</td>\n",
       "      <td>0.282260</td>\n",
       "      <td>0</td>\n",
       "      <td>0</td>\n",
       "      <td>0</td>\n",
       "      <td>1</td>\n",
       "      <td>0</td>\n",
       "      <td>0</td>\n",
       "      <td>1</td>\n",
       "      <td>0</td>\n",
       "      <td>0</td>\n",
       "      <td>0</td>\n",
       "      <td>0</td>\n",
       "      <td>1</td>\n",
       "    </tr>\n",
       "    <tr>\n",
       "      <td>735</td>\n",
       "      <td>0.285027</td>\n",
       "      <td>0.247843</td>\n",
       "      <td>0</td>\n",
       "      <td>0</td>\n",
       "      <td>0</td>\n",
       "      <td>1</td>\n",
       "      <td>0</td>\n",
       "      <td>0</td>\n",
       "      <td>1</td>\n",
       "      <td>0</td>\n",
       "      <td>0</td>\n",
       "      <td>0</td>\n",
       "      <td>1</td>\n",
       "      <td>0</td>\n",
       "    </tr>\n",
       "    <tr>\n",
       "      <td>736</td>\n",
       "      <td>0.543957</td>\n",
       "      <td>0.391483</td>\n",
       "      <td>0</td>\n",
       "      <td>0</td>\n",
       "      <td>0</td>\n",
       "      <td>1</td>\n",
       "      <td>0</td>\n",
       "      <td>0</td>\n",
       "      <td>0</td>\n",
       "      <td>1</td>\n",
       "      <td>0</td>\n",
       "      <td>0</td>\n",
       "      <td>1</td>\n",
       "      <td>0</td>\n",
       "    </tr>\n",
       "  </tbody>\n",
       "</table>\n",
       "<p>737 rows × 14 columns</p>\n",
       "</div>"
      ],
      "text/plain": [
       "        Price   PriceSF  Bedrooms_0  Bedrooms_1  Bedrooms_2  Bedrooms_3  \\\n",
       "0    0.389410  0.280785           0           0           0           1   \n",
       "1    0.188751  0.108646           0           0           0           0   \n",
       "2    0.262731  0.142556           0           0           0           0   \n",
       "3    0.447175  0.211009           0           0           0           0   \n",
       "4    0.042260  0.061014           0           0           0           1   \n",
       "..        ...       ...         ...         ...         ...         ...   \n",
       "732  0.148670  0.159938           0           0           0           1   \n",
       "733  0.237395  0.217176           0           0           0           1   \n",
       "734  0.175070  0.282260           0           0           0           1   \n",
       "735  0.285027  0.247843           0           0           0           1   \n",
       "736  0.543957  0.391483           0           0           0           1   \n",
       "\n",
       "     Bedrooms_4  Bathrooms_1  Bathrooms_2  Bathrooms_3  Bathrooms_4  Status_1  \\\n",
       "0             0            0            0            1            0         1   \n",
       "1             1            0            0            1            0         1   \n",
       "2             1            0            0            1            0         1   \n",
       "3             1            0            0            0            1         1   \n",
       "4             0            1            0            0            0         1   \n",
       "..          ...          ...          ...          ...          ...       ...   \n",
       "732           0            0            0            1            0         0   \n",
       "733           0            0            1            0            0         0   \n",
       "734           0            0            1            0            0         0   \n",
       "735           0            0            1            0            0         0   \n",
       "736           0            0            0            1            0         0   \n",
       "\n",
       "     Status_2  Status_3  \n",
       "0           0         0  \n",
       "1           0         0  \n",
       "2           0         0  \n",
       "3           0         0  \n",
       "4           0         0  \n",
       "..        ...       ...  \n",
       "732         1         0  \n",
       "733         1         0  \n",
       "734         0         1  \n",
       "735         1         0  \n",
       "736         1         0  \n",
       "\n",
       "[737 rows x 14 columns]"
      ]
     },
     "execution_count": 24,
     "metadata": {},
     "output_type": "execute_result"
    }
   ],
   "source": [
    "X"
   ]
  },
  {
   "cell_type": "code",
   "execution_count": 48,
   "metadata": {},
   "outputs": [],
   "source": [
    "y = np.asarray(X['Price']).reshape(737,1)"
   ]
  },
  {
   "cell_type": "code",
   "execution_count": 49,
   "metadata": {},
   "outputs": [
    {
     "data": {
      "text/plain": [
       "(737, 1)"
      ]
     },
     "execution_count": 49,
     "metadata": {},
     "output_type": "execute_result"
    }
   ],
   "source": [
    "y.shape"
   ]
  },
  {
   "cell_type": "code",
   "execution_count": 50,
   "metadata": {},
   "outputs": [],
   "source": [
    "group_1 = np.asarray(X['PriceSF']).reshape(737,1)"
   ]
  },
  {
   "cell_type": "code",
   "execution_count": 38,
   "metadata": {},
   "outputs": [],
   "source": [
    "group_2 = np.asarray(X.iloc[:, 2:7])"
   ]
  },
  {
   "cell_type": "code",
   "execution_count": 40,
   "metadata": {},
   "outputs": [],
   "source": [
    "group_3 = np.asarray(X.iloc[:, 7:11])"
   ]
  },
  {
   "cell_type": "code",
   "execution_count": 42,
   "metadata": {},
   "outputs": [],
   "source": [
    "group_4 = np.asarray(X.iloc[:, 11:])"
   ]
  },
  {
   "cell_type": "code",
   "execution_count": 72,
   "metadata": {},
   "outputs": [],
   "source": [
    "group_5 = np.ones([737,1]).reshape(737,1)"
   ]
  },
  {
   "cell_type": "code",
   "execution_count": 190,
   "metadata": {},
   "outputs": [],
   "source": [
    "theta_1 = np.random.uniform(size =[1,1])"
   ]
  },
  {
   "cell_type": "code",
   "execution_count": 191,
   "metadata": {},
   "outputs": [],
   "source": [
    "theta_2 = np.random.uniform(size = [group_2.shape[1], 1])"
   ]
  },
  {
   "cell_type": "code",
   "execution_count": 192,
   "metadata": {},
   "outputs": [],
   "source": [
    "theta_3 = np.random.uniform(size = [group_3.shape[1], 1])\n",
    "theta_4 = np.random.uniform(size = [group_4.shape[1], 1])\n",
    "theta_5 = np.random.uniform(size = [group_5.shape[1], 1])"
   ]
  },
  {
   "cell_type": "code",
   "execution_count": 193,
   "metadata": {},
   "outputs": [],
   "source": [
    "theta = [[theta_1],[theta_2],[theta_3],[theta_4], [theta_5]]"
   ]
  },
  {
   "cell_type": "code",
   "execution_count": 194,
   "metadata": {},
   "outputs": [],
   "source": [
    "group = [group_1, group_2, group_3, group_4, group_5]"
   ]
  },
  {
   "cell_type": "code",
   "execution_count": 195,
   "metadata": {},
   "outputs": [],
   "source": [
    "for k in range(1000):\n",
    "    for j in range(0,5):\n",
    "        sum_ = np.zeros([737,1])\n",
    "        for i in range(0,5):\n",
    "            sum_ += np.dot(group[i], theta[i][k])\n",
    "        sub = y - sum_\n",
    "        a = theta[j][k] - 0.00001*-np.dot(group[j].T, sub )\n",
    "        if 0.00001*0.012 < np.linalg.norm(a):\n",
    "            theta_j = (1-0.00001*0.012/np.linalg.norm(a))*a\n",
    "            theta[j].append(theta_j)\n",
    "        else:\n",
    "            theta[j].append(0)\n",
    "            \n",
    "            \n",
    "        \n",
    "        "
   ]
  },
  {
   "cell_type": "code",
   "execution_count": 209,
   "metadata": {},
   "outputs": [],
   "source": [
    "error = []\n",
    "for k in range(1000):\n",
    "    h = 0\n",
    "    sum_ = np.zeros([737,1])\n",
    "    \n",
    "    for j in range(0,5):\n",
    "        sum_ += np.dot(group[j],theta[j][k])\n",
    "        h+=  np.linalg.norm(theta[j][k])\n",
    "    sub = y - sum_\n",
    "    err = 0.5 * np.linalg.norm(sub)**2 + 0.012*h\n",
    "    error.append(err)\n",
    "    "
   ]
  },
  {
   "cell_type": "code",
   "execution_count": 212,
   "metadata": {},
   "outputs": [
    {
     "data": {
      "image/png": "[encoded data removed]",
      "text/plain": [
       "<Figure size 432x288 with 1 Axes>"
      ]
     },
     "metadata": {
      "needs_background": "light"
     },
     "output_type": "display_data"
    }
   ],
   "source": [
    "import matplotlib.pyplot as plt\n",
    "plt.plot(list(range(0,1000)), error)\n",
    "plt.xlabel(\"Iteration\")\n",
    "plt.ylabel(\"Error\")\n",
    "plt.show()"
   ]
  },
  {
   "cell_type": "code",
   "execution_count": null,
   "metadata": {},
   "outputs": [],
   "source": []
  }
 ],
 "metadata": {
  "kernelspec": {
   "display_name": "Python 3",
   "language": "python",
   "name": "python3"
  },
  "language_info": {
   "codemirror_mode": {
    "name": "ipython",
    "version": 3
   },
   "file_extension": ".py",
   "mimetype": "text/x-python",
   "name": "python",
   "nbconvert_exporter": "python",
   "pygments_lexer": "ipython3",
   "version": "3.7.4"
  }
 },
 "nbformat": 4,
 "nbformat_minor": 2
}
