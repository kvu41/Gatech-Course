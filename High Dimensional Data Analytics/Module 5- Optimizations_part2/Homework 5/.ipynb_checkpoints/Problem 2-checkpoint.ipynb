{
 "cells": [
  {
   "cell_type": "code",
   "execution_count": 1,
   "metadata": {},
   "outputs": [],
   "source": [
    "import numpy as np\n",
    "import matplotlib.pyplot as plt\n",
    "import scipy.io as sio\n"
   ]
  },
  {
   "cell_type": "code",
   "execution_count": 4,
   "metadata": {},
   "outputs": [],
   "source": [
    "data = sio.loadmat('MRI')"
   ]
  },
  {
   "cell_type": "code",
   "execution_count": 9,
   "metadata": {},
   "outputs": [],
   "source": [
    "X1 = data['X1']\n",
    "X2 = data['X2']\n",
    "X3 = data['X3']"
   ]
  },
  {
   "cell_type": "code",
   "execution_count": 12,
   "metadata": {},
   "outputs": [],
   "source": [
    "y1 = data['y1']\n",
    "y2 = data['y2']\n",
    "y3 = data['y3']"
   ]
  },
  {
   "cell_type": "code",
   "execution_count": 14,
   "metadata": {},
   "outputs": [
    {
     "data": {
      "text/plain": [
       "(150, 961)"
      ]
     },
     "execution_count": 14,
     "metadata": {},
     "output_type": "execute_result"
    }
   ],
   "source": [
    "X1.shape"
   ]
  },
  {
   "cell_type": "code",
   "execution_count": 15,
   "metadata": {},
   "outputs": [],
   "source": [
    "rho = 0.5\n",
    "lambda_ = 1\n",
    "B = 3"
   ]
  },
  {
   "cell_type": "code",
   "execution_count": 19,
   "metadata": {},
   "outputs": [],
   "source": [
    "u0 = np.random.uniform(low = -100, high = 100,size = [961,1])"
   ]
  },
  {
   "cell_type": "code",
   "execution_count": 20,
   "metadata": {},
   "outputs": [],
   "source": [
    "theta0 = np.random.uniform(low = -100, high = 100,size = [961,1])"
   ]
  },
  {
   "cell_type": "code",
   "execution_count": 27,
   "metadata": {},
   "outputs": [],
   "source": [
    "Xtx = np.dot(X1.T, X1)"
   ]
  },
  {
   "cell_type": "code",
   "execution_count": 31,
   "metadata": {},
   "outputs": [],
   "source": [
    "I = np.identity(X1.shape[1])"
   ]
  },
  {
   "cell_type": "code",
   "execution_count": 32,
   "metadata": {},
   "outputs": [],
   "source": [
    "A = np.linalg.inv((Xtx + rho*I))"
   ]
  },
  {
   "cell_type": "code",
   "execution_count": 34,
   "metadata": {},
   "outputs": [
    {
     "data": {
      "text/plain": [
       "(961, 961)"
      ]
     },
     "execution_count": 34,
     "metadata": {},
     "output_type": "execute_result"
    }
   ],
   "source": [
    "A.shape"
   ]
  },
  {
   "cell_type": "code",
   "execution_count": 35,
   "metadata": {},
   "outputs": [],
   "source": [
    "b = np.dot(X1.T, y1) + rho*(theta0-u0)"
   ]
  },
  {
   "cell_type": "code",
   "execution_count": 76,
   "metadata": {},
   "outputs": [
    {
     "data": {
      "text/plain": [
       "(961, 1)"
      ]
     },
     "execution_count": 76,
     "metadata": {},
     "output_type": "execute_result"
    }
   ],
   "source": [
    "beta_1 = np.dot(A,b)\n",
    "beta_1.shape"
   ]
  },
  {
   "cell_type": "code",
   "execution_count": 48,
   "metadata": {},
   "outputs": [],
   "source": [
    "def  beta_calculation(X1, y1,the,  u):\n",
    "    Xtx = np.dot(X1.T, X1)\n",
    "    I = np.identity(X1.shape[1])\n",
    "    A = np.linalg.inv((Xtx + rho*I))\n",
    "    b = np.dot(X1.T, y1) + rho*(the-u)\n",
    "    beta_1 = np.dot(A,b)\n",
    "    return beta_1\n",
    "    \n",
    "    "
   ]
  },
  {
   "cell_type": "code",
   "execution_count": 42,
   "metadata": {},
   "outputs": [],
   "source": [
    "## Initializing u and theta\n",
    "u1 = np.random.uniform(low = -100, high = 100, size =[961,1])\n",
    "u2 = np.random.uniform(low = -100, high = 100, size =[961,1])\n",
    "u3 = np.random.uniform(low = -100, high = 100, size =[961,1])\n",
    "theta = np.random.uniform(low = -100, high = 100, size =[961,1])\n",
    "I = np.identity(X1.shape[1])\n",
    "X = [X1, X2, X3]\n"
   ]
  },
  {
   "cell_type": "code",
   "execution_count": 68,
   "metadata": {},
   "outputs": [],
   "source": [
    "for i in range(0,1000):\n",
    "    beta_1 = beta_calculation(X1,y1,theta,u1)\n",
    "    beta_2 = beta_calculation(X2,y2,theta,u2)\n",
    "    beta_3 = beta_calculation(X3,y3,theta,u3)\n",
    "    beta = np.vstack([beta_1, beta_2, beta_3])\n",
    "    u = np.vstack([u1, u2, u3])\n",
    "    beta_mean = np.mean(beta, axis =0)\n",
    "    u_mean = np.mean(u, axis = 0)\n",
    "    beta_u = beta_mean +u_mean\n",
    "    if beta_u.all() > (rho/(lambda_*B)):\n",
    "        theta = beta_u -(rho/(lambda_*B))\n",
    "    elif (beta_u.all() < - (rho/(lambda_*B))):\n",
    "        theta = beta_u + (rho/(lambda_*B))\n",
    "    else:\n",
    "        theta = 0\n",
    "        \n",
    "    u1 = u1 + beta_1 - theta\n",
    "    u2 = u2 +beta_2 -theta\n",
    "    u3 = u3 +beta_3 -theta\n",
    "        "
   ]
  },
  {
   "cell_type": "code",
   "execution_count": 69,
   "metadata": {},
   "outputs": [
    {
     "data": {
      "text/plain": [
       "array([18.81850299])"
      ]
     },
     "execution_count": 69,
     "metadata": {},
     "output_type": "execute_result"
    }
   ],
   "source": [
    "theta"
   ]
  },
  {
   "cell_type": "code",
   "execution_count": 77,
   "metadata": {},
   "outputs": [],
   "source": [
    "a1 = np.random.uniform(size = [961,1])\n",
    "a2 = np.random.uniform(size = [961,1])\n",
    "a3 = np.random.uniform(size = [961,1])"
   ]
  },
  {
   "cell_type": "code",
   "execution_count": 78,
   "metadata": {},
   "outputs": [],
   "source": [
    "a = np.vstack([a1,a2,a3]).shape"
   ]
  },
  {
   "cell_type": "code",
   "execution_count": 79,
   "metadata": {
    "scrolled": true
   },
   "outputs": [
    {
     "data": {
      "text/plain": [
       "(9, 1)"
      ]
     },
     "execution_count": 79,
     "metadata": {},
     "output_type": "execute_result"
    }
   ],
   "source": [
    "a"
   ]
  },
  {
   "cell_type": "code",
   "execution_count": null,
   "metadata": {},
   "outputs": [],
   "source": []
  }
 ],
 "metadata": {
  "kernelspec": {
   "display_name": "Python 3",
   "language": "python",
   "name": "python3"
  },
  "language_info": {
   "codemirror_mode": {
    "name": "ipython",
    "version": 3
   },
   "file_extension": ".py",
   "mimetype": "text/x-python",
   "name": "python",
   "nbconvert_exporter": "python",
   "pygments_lexer": "ipython3",
   "version": "3.7.4"
  }
 },
 "nbformat": 4,
 "nbformat_minor": 2
}
