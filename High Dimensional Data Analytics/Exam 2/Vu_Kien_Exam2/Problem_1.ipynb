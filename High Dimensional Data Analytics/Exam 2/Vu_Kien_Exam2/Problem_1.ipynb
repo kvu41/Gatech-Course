{
  "nbformat": 4,
  "nbformat_minor": 0,
  "metadata": {
    "colab": {
      "name": "Problem 1.ipynb",
      "provenance": []
    },
    "kernelspec": {
      "name": "python3",
      "display_name": "Python 3"
    }
  },
  "cells": [
    {
      "cell_type": "code",
      "metadata": {
        "id": "KVhK5dEsdXoL",
        "colab_type": "code",
        "colab": {}
      },
      "source": [
        "import numpy as np\n",
        "import matplotlib.pyplot as plt\n",
        "import pandas as pd"
      ],
      "execution_count": 0,
      "outputs": []
    },
    {
      "cell_type": "code",
      "metadata": {
        "id": "63R9udl6d1Wg",
        "colab_type": "code",
        "colab": {}
      },
      "source": [
        "X = np.array(pd.read_csv('/content/EnergyEfficiency.csv', header = None))"
      ],
      "execution_count": 0,
      "outputs": []
    },
    {
      "cell_type": "code",
      "metadata": {
        "id": "Vxo_x0nod6Wu",
        "colab_type": "code",
        "colab": {
          "base_uri": "https://localhost:8080/",
          "height": 34
        },
        "outputId": "1f1435c9-f739-4da8-923c-508230175072"
      },
      "source": [
        "X.shape"
      ],
      "execution_count": 6,
      "outputs": [
        {
          "output_type": "execute_result",
          "data": {
            "text/plain": [
              "(620, 8)"
            ]
          },
          "metadata": {
            "tags": []
          },
          "execution_count": 6
        }
      ]
    },
    {
      "cell_type": "code",
      "metadata": {
        "id": "fNij4Vzyd7Ol",
        "colab_type": "code",
        "colab": {}
      },
      "source": [
        "y = np.array(pd.read_csv('/content/Response.csv', header = None))"
      ],
      "execution_count": 0,
      "outputs": []
    },
    {
      "cell_type": "code",
      "metadata": {
        "id": "evCIhWXheHh2",
        "colab_type": "code",
        "colab": {
          "base_uri": "https://localhost:8080/",
          "height": 34
        },
        "outputId": "d8675857-c8d6-4aea-a848-8fc963fe5e28"
      },
      "source": [
        "y.shape"
      ],
      "execution_count": 9,
      "outputs": [
        {
          "output_type": "execute_result",
          "data": {
            "text/plain": [
              "(620, 1)"
            ]
          },
          "metadata": {
            "tags": []
          },
          "execution_count": 9
        }
      ]
    },
    {
      "cell_type": "code",
      "metadata": {
        "id": "iVzbTE7UeH8m",
        "colab_type": "code",
        "colab": {}
      },
      "source": [
        "## Standardize X\n",
        "mean_X = np.mean(X, axis = 0)"
      ],
      "execution_count": 0,
      "outputs": []
    },
    {
      "cell_type": "code",
      "metadata": {
        "id": "byX97D54elPH",
        "colab_type": "code",
        "colab": {}
      },
      "source": [
        "std_X = np.std(X, axis = 0)"
      ],
      "execution_count": 0,
      "outputs": []
    },
    {
      "cell_type": "code",
      "metadata": {
        "id": "EnRrwh5gemXu",
        "colab_type": "code",
        "colab": {}
      },
      "source": [
        "X_norm = (X- mean_X)/std_X"
      ],
      "execution_count": 0,
      "outputs": []
    },
    {
      "cell_type": "code",
      "metadata": {
        "id": "fPzB6_0OeyEG",
        "colab_type": "code",
        "colab": {
          "base_uri": "https://localhost:8080/",
          "height": 68
        },
        "outputId": "e296652e-5eef-473b-b4a2-9a37bdcbd314"
      },
      "source": [
        "##Test\n",
        "col_X = X_norm[:, 0]\n",
        "print('Mean of Column 0 of standardized X:', np.mean(col_X))\n",
        "print()\n",
        "print('Standard deviation of column 1 of standardized X:', np.std(col_X))"
      ],
      "execution_count": 17,
      "outputs": [
        {
          "output_type": "stream",
          "text": [
            "Mean of Column 0 of standardized X: -2.693186175864896e-16\n",
            "\n",
            "Standard deviation of column 1 of standardized X: 1.0\n"
          ],
          "name": "stdout"
        }
      ]
    },
    {
      "cell_type": "code",
      "metadata": {
        "id": "Hiag23-oez1G",
        "colab_type": "code",
        "colab": {}
      },
      "source": [
        "#Standardized y\n",
        "mean_y = np.mean(y)\n",
        "std_y= np.std(y)\n",
        "y_norm = (y-mean_y)/std_y"
      ],
      "execution_count": 0,
      "outputs": []
    },
    {
      "cell_type": "code",
      "metadata": {
        "id": "g2IfKMIZfeeH",
        "colab_type": "code",
        "colab": {
          "base_uri": "https://localhost:8080/",
          "height": 34
        },
        "outputId": "c2e0b9fe-bbd9-4dba-da4c-b749819a99ac"
      },
      "source": [
        "print(' Mean of Response y_norm:',y_norm.mean())"
      ],
      "execution_count": 22,
      "outputs": [
        {
          "output_type": "stream",
          "text": [
            " Mean of Response y_norm: 1.532824046901829e-16\n"
          ],
          "name": "stdout"
        }
      ]
    },
    {
      "cell_type": "code",
      "metadata": {
        "id": "A3tQAmnaffrm",
        "colab_type": "code",
        "colab": {
          "base_uri": "https://localhost:8080/",
          "height": 34
        },
        "outputId": "e5e49e16-0735-4c19-aa20-da541df97b71"
      },
      "source": [
        "X_norm.shape"
      ],
      "execution_count": 25,
      "outputs": [
        {
          "output_type": "execute_result",
          "data": {
            "text/plain": [
              "(620, 8)"
            ]
          },
          "metadata": {
            "tags": []
          },
          "execution_count": 25
        }
      ]
    },
    {
      "cell_type": "code",
      "metadata": {
        "id": "E4PJO8M7iuWn",
        "colab_type": "code",
        "colab": {}
      },
      "source": [
        "##Initializing a, w\n",
        "a = np.random.uniform(low =-1, high =1 , size =(8,1))\n",
        "w = np.random.uniform(low =-1, high =1 , size =(8,1))\n",
        "err = []\n",
        "rho = 1\n",
        "alpha = 0.5"
      ],
      "execution_count": 0,
      "outputs": []
    },
    {
      "cell_type": "code",
      "metadata": {
        "id": "wG8nYxoijxQq",
        "colab_type": "code",
        "colab": {}
      },
      "source": [
        "for i in range(0,50):\n",
        "  ##updating b\n",
        "  first_term = np.linalg.inv((np.dot(X_norm.T, X_norm)+ rho * np.identity(8)))\n",
        "  second_term = np.dot(X_norm.T, y_norm) + rho * (a -w)\n",
        "  b = np.dot(first_term, second_term)\n",
        "\n",
        "  # updating a\n",
        "  u,s,v = np.linalg.svd((b+w), full_matrices=False)\n",
        "  if s > alpha/rho:\n",
        "    s_t = s - alpha/rho\n",
        "  elif s < -alpha/rho:\n",
        "    s_t =  s + alpha/rho\n",
        "  else:\n",
        "    s_t = 0\n",
        "\n",
        "  a = np.dot(u*s_t, v)\n",
        "\n",
        "  #updating w\n",
        "  w = w + b -a\n",
        "\n",
        "  #calculating error\n",
        "  error = np.linalg.norm((y_norm - np.dot(X_norm, b)))\n",
        "\n",
        "  err.append(error)\n",
        "\n",
        "\n",
        "\n"
      ],
      "execution_count": 0,
      "outputs": []
    },
    {
      "cell_type": "code",
      "metadata": {
        "id": "r9cl8MGmmOHm",
        "colab_type": "code",
        "colab": {
          "base_uri": "https://localhost:8080/",
          "height": 279
        },
        "outputId": "c66fdf52-b063-42b6-82e4-5bae027be936"
      },
      "source": [
        "plt.plot(err, linewidth = 5)\n",
        "plt.xlabel('Iterations')\n",
        "plt.ylabel('RME')\n",
        "plt.show()"
      ],
      "execution_count": 85,
      "outputs": [
        {
          "output_type": "display_data",
          "data": {
            "image/png": "[encoded data removed]",
            "text/plain": [
              "<Figure size 432x288 with 1 Axes>"
            ]
          },
          "metadata": {
            "tags": [],
            "needs_background": "light"
          }
        }
      ]
    },
    {
      "cell_type": "code",
      "metadata": {
        "id": "excENpw6m6g5",
        "colab_type": "code",
        "colab": {
          "base_uri": "https://localhost:8080/",
          "height": 155
        },
        "outputId": "91cfff4c-52f8-4dd9-8919-b811ce7e1567"
      },
      "source": [
        "## Coefficients\n",
        "print(\"Coefficients of each parameters:\", b)"
      ],
      "execution_count": 87,
      "outputs": [
        {
          "output_type": "stream",
          "text": [
            "Coefficients of each parameters: [[-0.6535163 ]\n",
            " [-0.38295155]\n",
            " [ 0.09454911]\n",
            " [-0.42115535]\n",
            " [ 0.66215271]\n",
            " [-0.00840807]\n",
            " [ 0.26832228]\n",
            " [ 0.03728797]]\n"
          ],
          "name": "stdout"
        }
      ]
    },
    {
      "cell_type": "code",
      "metadata": {
        "id": "-uKGtIeKoC8q",
        "colab_type": "code",
        "colab": {}
      },
      "source": [
        ""
      ],
      "execution_count": 0,
      "outputs": []
    }
  ]
}