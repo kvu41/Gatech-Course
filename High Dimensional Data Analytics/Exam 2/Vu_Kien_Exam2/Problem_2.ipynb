{
  "nbformat": 4,
  "nbformat_minor": 0,
  "metadata": {
    "colab": {
      "name": "Problem 2.ipynb",
      "provenance": [],
      "collapsed_sections": []
    },
    "kernelspec": {
      "name": "python3",
      "display_name": "Python 3"
    }
  },
  "cells": [
    {
      "cell_type": "code",
      "metadata": {
        "id": "abzKSjGEqjrD",
        "colab_type": "code",
        "colab": {}
      },
      "source": [
        "import numpy as np\n",
        "import matplotlib.pyplot as plt\n",
        "from sklearn.linear_model import LogisticRegression, RidgeClassifierCV, Lasso\n",
        "from sklearn.model_selection import GridSearchCV\n",
        "from sklearn.metrics import confusion_matrix, accuracy_score\n",
        "import pandas as pd\n",
        "import warnings\n",
        "warnings.filterwarnings(\"ignore\")"
      ],
      "execution_count": 0,
      "outputs": []
    },
    {
      "cell_type": "code",
      "metadata": {
        "id": "xr80Hgo4q88s",
        "colab_type": "code",
        "colab": {}
      },
      "source": [
        "X_train = np.array(pd.read_csv('/content/OzoneTrain.csv', header = None))\n",
        "y_train = np.array(pd.read_csv('/content/LabelTrain.csv', header = None))"
      ],
      "execution_count": 0,
      "outputs": []
    },
    {
      "cell_type": "code",
      "metadata": {
        "id": "ov1xUi-grGXp",
        "colab_type": "code",
        "colab": {}
      },
      "source": [
        "X_test= np.array(pd.read_csv('/content/OzoneTest.csv', header = None))\n",
        "y_test = np.array(pd.read_csv('/content/LabelTest-2.csv', header = None))\n"
      ],
      "execution_count": 0,
      "outputs": []
    },
    {
      "cell_type": "code",
      "metadata": {
        "id": "fCdVJagfrt6r",
        "colab_type": "code",
        "colab": {
          "base_uri": "https://localhost:8080/",
          "height": 155
        },
        "outputId": "ca9407d6-6005-46bf-b8c4-a10e231add4e"
      },
      "source": [
        "#Logistic_regression\n",
        "lr = LogisticRegression(penalty = 'none', max_iter = 1000)\n",
        "lr.fit(X_train, y_train.reshape(1539,))\n",
        "y_pred = lr.predict(X_test)"
      ],
      "execution_count": 70,
      "outputs": [
        {
          "output_type": "stream",
          "text": [
            "/usr/local/lib/python3.6/dist-packages/sklearn/linear_model/_logistic.py:940: ConvergenceWarning: lbfgs failed to converge (status=1):\n",
            "STOP: TOTAL NO. of ITERATIONS REACHED LIMIT.\n",
            "\n",
            "Increase the number of iterations (max_iter) or scale the data as shown in:\n",
            "    https://scikit-learn.org/stable/modules/preprocessing.html\n",
            "Please also refer to the documentation for alternative solver options:\n",
            "    https://scikit-learn.org/stable/modules/linear_model.html#logistic-regression\n",
            "  extra_warning_msg=_LOGISTIC_SOLVER_CONVERGENCE_MSG)\n"
          ],
          "name": "stderr"
        }
      ]
    },
    {
      "cell_type": "code",
      "metadata": {
        "id": "Y_58AEZMscYs",
        "colab_type": "code",
        "colab": {
          "base_uri": "https://localhost:8080/",
          "height": 310
        },
        "outputId": "b1f3db10-f31d-4da0-8635-a6e90b0e9f7b"
      },
      "source": [
        "### Confusion matrix for test set\n",
        "lr_cm = confusion_matrix(y_test, y_pred)\n",
        "print(\"Confusion matrix of Logistic Regression : \",lr_cm)\n",
        "print()\n",
        "print(\"Accuracy score of Logistic Regression : \", accuracy_score(y_test, y_pred))\n",
        "print()\n",
        "print(\"Coefficient_ :\", lr.coef_)"
      ],
      "execution_count": 71,
      "outputs": [
        {
          "output_type": "stream",
          "text": [
            "Confusion matrix of Logistic Regression :  [[275   2]\n",
            " [ 17   6]]\n",
            "\n",
            "Accuracy score of Logistic Regression :  0.9366666666666666\n",
            "\n",
            "Coefficient_ : [[-0.10579905 -0.11812641 -0.07043869  0.17383292  0.26015679  0.28417304\n",
            "   0.21491645  0.13884055 -0.08255845 -0.13673253 -0.25470681 -0.23395872\n",
            "  -0.23086725 -0.14092479 -0.04920921 -0.02371339 -0.02347822  0.25560538\n",
            "   0.23913208  0.13319999  0.13078752 -0.05623801 -0.22572527 -0.3167455\n",
            "  -0.14015525 -0.00656727  0.1144458   0.05557769  0.06544491 -0.09410847\n",
            "  -0.2407567  -0.2464128  -0.14978644 -0.01503802  0.04444123  0.11072759\n",
            "   0.16404719  0.13456762  0.05580188  0.15594479  0.12401274  0.01716221\n",
            "  -0.10035019 -0.05171264 -0.0124687   0.03264287  0.09573507  0.12615831\n",
            "   0.0609593  -0.02236997 -0.08842369  0.02030818  0.10107933 -0.00968053\n",
            "  -0.04248953 -0.10677203  0.01603268 -0.00842246 -0.00987241 -0.0210462\n",
            "   0.03526433 -0.0196838   0.01624143 -0.05924809  0.05712875  0.0130122\n",
            "  -0.00198182 -0.04750786  0.06547024  0.00316503 -0.00398156 -0.00088485]]\n"
          ],
          "name": "stdout"
        }
      ]
    },
    {
      "cell_type": "code",
      "metadata": {
        "id": "eYaq7Vu4tJvT",
        "colab_type": "code",
        "colab": {
          "base_uri": "https://localhost:8080/",
          "height": 123
        },
        "outputId": "793c4957-23dc-493a-bac1-27569eacf1e0"
      },
      "source": [
        "## Ridge Regression\n",
        "ridge = RidgeClassifierCV(alphas = (0.1, 1, 10, 100), store_cv_values= True)\n",
        "ridge.fit(X_train, y_train)"
      ],
      "execution_count": 72,
      "outputs": [
        {
          "output_type": "stream",
          "text": [
            "/usr/local/lib/python3.6/dist-packages/sklearn/linear_model/_ridge.py:1853: DataConversionWarning: A column-vector y was passed when a 1d array was expected. Please change the shape of y to (n_samples, ), for example using ravel().\n",
            "  y = column_or_1d(y, warn=True)\n"
          ],
          "name": "stderr"
        },
        {
          "output_type": "execute_result",
          "data": {
            "text/plain": [
              "RidgeClassifierCV(alphas=array([  0.1,   1. ,  10. , 100. ]), class_weight=None,\n",
              "                  cv=None, fit_intercept=True, normalize=False, scoring=None,\n",
              "                  store_cv_values=True)"
            ]
          },
          "metadata": {
            "tags": []
          },
          "execution_count": 72
        }
      ]
    },
    {
      "cell_type": "code",
      "metadata": {
        "id": "Uoyxhjarvf7l",
        "colab_type": "code",
        "colab": {}
      },
      "source": [
        "y_pred_ridge = ridge.predict(X_test)"
      ],
      "execution_count": 0,
      "outputs": []
    },
    {
      "cell_type": "code",
      "metadata": {
        "id": "QJidM3j_yOfM",
        "colab_type": "code",
        "colab": {
          "base_uri": "https://localhost:8080/",
          "height": 345
        },
        "outputId": "87884bd6-0088-4843-a578-2d7b22bd9749"
      },
      "source": [
        "print(\"Alpha of Ridge Regression\", ridge.alpha_)\n",
        "print()\n",
        "print(\"Confusion matrix of Ridge Regresison\", confusion_matrix(y_test, y_pred_ridge))\n",
        "print()\n",
        "print(\"Accuracy score of Ridge Regression\", accuracy_score(y_test, y_pred_ridge))\n",
        "print()\n",
        "print(\" Ridge Regression Coefficients\", ridge.coef_)"
      ],
      "execution_count": 76,
      "outputs": [
        {
          "output_type": "stream",
          "text": [
            "Alpha of Ridge Regression 100.0\n",
            "\n",
            "Confusion matrix of Ridge Regresison [[277   0]\n",
            " [ 23   0]]\n",
            "\n",
            "Accuracy score of Ridge Regression 0.9233333333333333\n",
            "\n",
            " Ridge Regression Coefficients [[ 0.00154429 -0.01354504 -0.01992213  0.02582503  0.03137703  0.02707451\n",
            "   0.03331368  0.02133993 -0.03030042 -0.00900187 -0.02808244 -0.01744116\n",
            "  -0.01406997 -0.00822947 -0.00373334 -0.0019859  -0.01557541  0.04057878\n",
            "   0.0136257  -0.00166283  0.02494973  0.00552435 -0.01790296 -0.01865395\n",
            "  -0.01149395  0.00501502  0.00780676 -0.01286169  0.02069466 -0.01367127\n",
            "  -0.03130145 -0.00835243 -0.03970614  0.0317349   0.01569593  0.0103677\n",
            "   0.00362729  0.00341209 -0.01659578  0.00968036  0.01544087  0.02112392\n",
            "  -0.02999872  0.0009682   0.00474361 -0.00830879  0.00421197  0.01963274\n",
            "   0.00497841 -0.02370856  0.0058671   0.00044865  0.01502921 -0.00568211\n",
            "  -0.00288192 -0.01273078  0.01023451  0.01703592 -0.00488151 -0.00452804\n",
            "   0.00094629 -0.00419605  0.01253693 -0.02877756  0.00521055  0.0024189\n",
            "  -0.00171598 -0.00115791  0.00140956 -0.00389629 -0.00137038 -0.00014891]]\n"
          ],
          "name": "stdout"
        }
      ]
    },
    {
      "cell_type": "code",
      "metadata": {
        "id": "TCoG5X0YyrNc",
        "colab_type": "code",
        "colab": {
          "base_uri": "https://localhost:8080/",
          "height": 51
        },
        "outputId": "f6736569-6c41-4f47-8e5a-f7ccb24d400f"
      },
      "source": [
        "## Lasso\n",
        "lasso = LogisticRegression(penalty = 'l2', max_iter = 1000)\n",
        "param = {'C':[0.1, 1, 10, 100]}\n",
        "tune = GridSearchCV(lasso, param, cv = 10).fit(X_train, y_train)\n",
        "print('Best parameters are: ', tune.best_params_)\n",
        "print('Best score are: ', tune.best_score_)"
      ],
      "execution_count": 80,
      "outputs": [
        {
          "output_type": "stream",
          "text": [
            "Best parameters are:  {'C': 100}\n",
            "Best score are:  0.9330829301417538\n"
          ],
          "name": "stdout"
        }
      ]
    },
    {
      "cell_type": "code",
      "metadata": {
        "id": "_gWltbhJ0TUu",
        "colab_type": "code",
        "colab": {}
      },
      "source": [
        "best_lasso = LogisticRegression(max_iter = 1000, C = 100)\n",
        "best_lasso.fit(X_train,y_train)\n",
        "y_lass = best_lasso.predict(X_test)"
      ],
      "execution_count": 0,
      "outputs": []
    },
    {
      "cell_type": "code",
      "metadata": {
        "id": "TTH9eF3Z1BWG",
        "colab_type": "code",
        "colab": {
          "base_uri": "https://localhost:8080/",
          "height": 345
        },
        "outputId": "403c5f1c-5f82-4de5-fc67-88fedf15a988"
      },
      "source": [
        "print(\" Best alpha of Lasso Regression: \", 100)\n",
        "print()\n",
        "print(\"Confusion matrix of lasso: \", confusion_matrix(y_test,y_lass))\n",
        "print()\n",
        "print(\"Accuracy of Lasso: \", accuracy_score(y_test,y_lass ))\n",
        "print()\n",
        "print(\"Coefficients of Lasso: \", best_lasso.coef_)"
      ],
      "execution_count": 82,
      "outputs": [
        {
          "output_type": "stream",
          "text": [
            " Best alpha of Lasso Regression:  100\n",
            "\n",
            "Confusion matrix of lasso:  [[275   2]\n",
            " [ 17   6]]\n",
            "\n",
            "Accuracy of Lasso:  0.9366666666666666\n",
            "\n",
            "Coefficients of Lasso:  [[-0.12231884 -0.13905365 -0.09229952  0.15519321  0.2467049   0.27082447\n",
            "   0.19548685  0.10784374 -0.13050703 -0.1970268  -0.32535499 -0.30409911\n",
            "  -0.29625953 -0.18922965 -0.08037865 -0.02494897 -0.00456472  0.29146061\n",
            "   0.25989486  0.14447497  0.13443871 -0.06827533 -0.24797186 -0.35124759\n",
            "  -0.14708435 -0.02849206  0.12076097  0.0554588   0.05739193 -0.11330449\n",
            "  -0.26519867 -0.2719358  -0.17110056 -0.00534015  0.07858802  0.15111065\n",
            "   0.20347777  0.17186854  0.09250831  0.19309758  0.15456366  0.01445395\n",
            "  -0.13985451 -0.10874006 -0.05307217  0.01713077  0.09268864  0.13331427\n",
            "   0.07060149 -0.0150161  -0.06952407  0.02204589  0.11960641 -0.0117969\n",
            "  -0.0582138  -0.08049887  0.00056105 -0.02739972 -0.00899918 -0.01966029\n",
            "   0.06343515 -0.0014711   0.01243777 -0.06226997  0.06433989 -0.03594739\n",
            "  -0.01338944 -0.03350876  0.03052257  0.00636998 -0.01176065  0.0023484 ]]\n"
          ],
          "name": "stdout"
        }
      ]
    },
    {
      "cell_type": "markdown",
      "metadata": {
        "id": "jC4-_TwS6VM_",
        "colab_type": "text"
      },
      "source": [
        ""
      ]
    },
    {
      "cell_type": "code",
      "metadata": {
        "id": "StbNPhfz1aUn",
        "colab_type": "code",
        "colab": {}
      },
      "source": [
        "### Adaptive Lasso by transforming X\n",
        "X_adap = X_train/np.abs(ridge.coef_)"
      ],
      "execution_count": 0,
      "outputs": []
    },
    {
      "cell_type": "code",
      "metadata": {
        "id": "UbXhIK0D16AM",
        "colab_type": "code",
        "colab": {
          "base_uri": "https://localhost:8080/",
          "height": 51
        },
        "outputId": "295b9b9d-dbe7-4b3e-ce4c-a41b0e445433"
      },
      "source": [
        "adaptive_lasso = LogisticRegression(penalty ='l2', max_iter = 1000)\n",
        "param = {'C':[0.1, 1, 10, 100]}\n",
        "tune = GridSearchCV(adaptive_lasso, param, cv = 10).fit(X_adap, y_train)\n",
        "print('Best parameters are: ', tune.best_params_)\n",
        "print('Best score are: ', tune.best_score_)"
      ],
      "execution_count": 86,
      "outputs": [
        {
          "output_type": "stream",
          "text": [
            "Best parameters are:  {'C': 1}\n",
            "Best score are:  0.9356760886172651\n"
          ],
          "name": "stdout"
        }
      ]
    },
    {
      "cell_type": "code",
      "metadata": {
        "id": "d8kKCQOR2myF",
        "colab_type": "code",
        "colab": {}
      },
      "source": [
        "best_adapt = LogisticRegression(max_iter = 1000, C = 1)\n",
        "best_adapt.fit(X_adap,y_train)\n",
        "y_adapt = best_adapt.predict((X_test/np.abs(ridge.coef_)))"
      ],
      "execution_count": 0,
      "outputs": []
    },
    {
      "cell_type": "code",
      "metadata": {
        "id": "Oy6jqCXU3UX2",
        "colab_type": "code",
        "colab": {
          "base_uri": "https://localhost:8080/",
          "height": 448
        },
        "outputId": "584d665c-8c32-4464-c2a6-faad3a5c7218"
      },
      "source": [
        "print(\" Best alpha of Adaptive Lasso Regression: \", 1)\n",
        "print()\n",
        "print(\"Confusion matrix of lasso: \", confusion_matrix(y_test,y_adapt))\n",
        "print()\n",
        "print(\"Accuracy of Lasso: \", accuracy_score(y_test,y_adapt ))\n",
        "print()\n",
        "print(\"Coefficients of Lasso: \", best_adapt.coef_/np.abs(ridge.coef_))"
      ],
      "execution_count": 90,
      "outputs": [
        {
          "output_type": "stream",
          "text": [
            " Best alpha of Adaptive Lasso Regression:  1\n",
            "\n",
            "Confusion matrix of lasso:  [[277   0]\n",
            " [ 19   4]]\n",
            "\n",
            "Accuracy of Lasso:  0.9366666666666666\n",
            "\n",
            "Coefficients of Lasso:  [[-6.00247756e-01 -9.89756081e-03 -4.40112297e-03 -1.18330290e-03\n",
            "  -4.25290678e-04 -4.84235039e-04 -8.05148336e-04 -3.53222757e-03\n",
            "  -3.03183273e-03 -4.08233207e-02 -4.92505904e-03 -1.21070552e-02\n",
            "  -1.77535188e-02 -3.97885656e-02 -1.22496727e-01 -1.35780178e-01\n",
            "   5.48202956e-04  8.14450548e-04  3.27241036e-03  3.67321541e-02\n",
            "  -9.46049666e-05 -3.54901721e-02 -6.24396148e-03 -7.58270730e-03\n",
            "  -1.02638380e-02 -5.69625676e-02 -3.11774825e-02 -1.59090938e-02\n",
            "  -7.09926521e-03 -2.18490769e-02 -5.01479617e-03 -7.17335147e-02\n",
            "  -2.84511722e-03 -2.33432526e-03 -4.26968044e-04  1.47207472e-02\n",
            "   2.00899298e-01  2.75663126e-01  1.32526093e-02  4.99429469e-02\n",
            "   2.04609374e-02  8.27357112e-03  1.68056983e-03  6.50475638e-02\n",
            "   1.23161519e-03  6.59354328e-03  3.82888615e-02  1.96158153e-03\n",
            "   3.79785014e-03 -1.15846661e-03  8.69636356e-02 -1.96829762e-01\n",
            "   5.70241855e-03 -4.68559289e-03 -8.80528734e-02 -3.00863573e-02\n",
            "  -2.05368956e-02 -2.29123358e-03 -1.38754853e-03 -3.18051438e-02\n",
            "  -2.56274449e-02  2.45489133e-02 -2.37856447e-03 -3.88196850e-04\n",
            "   4.99150428e-02  4.33985014e-03 -1.89444751e-02 -3.93334318e-02\n",
            "   3.97242115e-02  4.82226112e-03 -7.00377526e-03 -3.84958304e-01]]\n"
          ],
          "name": "stdout"
        }
      ]
    },
    {
      "cell_type": "code",
      "metadata": {
        "id": "KfIBn82H3miP",
        "colab_type": "code",
        "colab": {
          "base_uri": "https://localhost:8080/",
          "height": 34
        },
        "outputId": "66dc3777-d25c-4a31-9ca8-ee02b7192910"
      },
      "source": [
        ""
      ],
      "execution_count": 96,
      "outputs": [
        {
          "output_type": "execute_result",
          "data": {
            "text/plain": [
              "300"
            ]
          },
          "metadata": {
            "tags": []
          },
          "execution_count": 96
        }
      ]
    },
    {
      "cell_type": "code",
      "metadata": {
        "id": "0wkAVMJz4WA8",
        "colab_type": "code",
        "colab": {
          "base_uri": "https://localhost:8080/",
          "height": 258
        },
        "outputId": "1dedc0e6-5f95-4ce4-f2bf-f54ed385062d"
      },
      "source": [
        "y_pred_ridge"
      ],
      "execution_count": 97,
      "outputs": [
        {
          "output_type": "execute_result",
          "data": {
            "text/plain": [
              "array([0, 0, 0, 0, 0, 0, 0, 0, 0, 0, 0, 0, 0, 0, 0, 0, 0, 0, 0, 0, 0, 0,\n",
              "       0, 0, 0, 0, 0, 0, 0, 0, 0, 0, 0, 0, 0, 0, 0, 0, 0, 0, 0, 0, 0, 0,\n",
              "       0, 0, 0, 0, 0, 0, 0, 0, 0, 0, 0, 0, 0, 0, 0, 0, 0, 0, 0, 0, 0, 0,\n",
              "       0, 0, 0, 0, 0, 0, 0, 0, 0, 0, 0, 0, 0, 0, 0, 0, 0, 0, 0, 0, 0, 0,\n",
              "       0, 0, 0, 0, 0, 0, 0, 0, 0, 0, 0, 0, 0, 0, 0, 0, 0, 0, 0, 0, 0, 0,\n",
              "       0, 0, 0, 0, 0, 0, 0, 0, 0, 0, 0, 0, 0, 0, 0, 0, 0, 0, 0, 0, 0, 0,\n",
              "       0, 0, 0, 0, 0, 0, 0, 0, 0, 0, 0, 0, 0, 0, 0, 0, 0, 0, 0, 0, 0, 0,\n",
              "       0, 0, 0, 0, 0, 0, 0, 0, 0, 0, 0, 0, 0, 0, 0, 0, 0, 0, 0, 0, 0, 0,\n",
              "       0, 0, 0, 0, 0, 0, 0, 0, 0, 0, 0, 0, 0, 0, 0, 0, 0, 0, 0, 0, 0, 0,\n",
              "       0, 0, 0, 0, 0, 0, 0, 0, 0, 0, 0, 0, 0, 0, 0, 0, 0, 0, 0, 0, 0, 0,\n",
              "       0, 0, 0, 0, 0, 0, 0, 0, 0, 0, 0, 0, 0, 0, 0, 0, 0, 0, 0, 0, 0, 0,\n",
              "       0, 0, 0, 0, 0, 0, 0, 0, 0, 0, 0, 0, 0, 0, 0, 0, 0, 0, 0, 0, 0, 0,\n",
              "       0, 0, 0, 0, 0, 0, 0, 0, 0, 0, 0, 0, 0, 0, 0, 0, 0, 0, 0, 0, 0, 0,\n",
              "       0, 0, 0, 0, 0, 0, 0, 0, 0, 0, 0, 0, 0, 0])"
            ]
          },
          "metadata": {
            "tags": []
          },
          "execution_count": 97
        }
      ]
    },
    {
      "cell_type": "code",
      "metadata": {
        "id": "u8OIYb5T5EHm",
        "colab_type": "code",
        "colab": {
          "base_uri": "https://localhost:8080/",
          "height": 258
        },
        "outputId": "9ff6714f-1a02-4d83-b4dd-30b312d0261d"
      },
      "source": [
        "y_pred"
      ],
      "execution_count": 98,
      "outputs": [
        {
          "output_type": "execute_result",
          "data": {
            "text/plain": [
              "array([0, 0, 0, 0, 0, 0, 0, 0, 0, 0, 0, 0, 0, 0, 0, 0, 0, 0, 0, 0, 0, 0,\n",
              "       0, 0, 0, 0, 0, 0, 0, 0, 0, 0, 0, 0, 0, 0, 1, 0, 0, 0, 0, 0, 0, 0,\n",
              "       0, 0, 0, 0, 0, 0, 0, 0, 0, 0, 0, 0, 0, 0, 0, 0, 0, 0, 0, 0, 0, 0,\n",
              "       0, 0, 0, 0, 0, 0, 0, 0, 0, 0, 0, 0, 0, 0, 0, 0, 0, 0, 0, 0, 0, 0,\n",
              "       0, 0, 0, 0, 0, 0, 0, 0, 0, 0, 0, 0, 0, 0, 0, 0, 0, 0, 0, 0, 0, 0,\n",
              "       0, 0, 0, 0, 0, 0, 0, 0, 0, 0, 0, 0, 0, 0, 0, 0, 0, 0, 0, 0, 0, 1,\n",
              "       0, 0, 0, 0, 0, 0, 0, 0, 0, 0, 0, 0, 0, 0, 0, 0, 0, 0, 0, 0, 0, 0,\n",
              "       0, 0, 0, 0, 0, 0, 0, 0, 0, 0, 0, 0, 0, 0, 0, 0, 0, 0, 0, 0, 0, 0,\n",
              "       0, 0, 1, 0, 0, 0, 0, 0, 0, 0, 0, 0, 0, 0, 0, 0, 0, 1, 0, 0, 0, 0,\n",
              "       0, 0, 0, 0, 0, 0, 0, 0, 0, 0, 0, 0, 0, 0, 0, 0, 0, 0, 0, 0, 0, 0,\n",
              "       0, 0, 0, 0, 0, 0, 0, 0, 0, 0, 0, 0, 0, 0, 0, 0, 0, 1, 0, 0, 0, 0,\n",
              "       0, 0, 0, 0, 0, 0, 0, 0, 0, 0, 0, 0, 0, 0, 0, 0, 0, 0, 0, 0, 0, 0,\n",
              "       0, 1, 0, 0, 0, 0, 0, 0, 1, 0, 1, 0, 0, 0, 0, 0, 0, 0, 0, 0, 0, 0,\n",
              "       0, 0, 0, 0, 0, 0, 0, 0, 0, 0, 0, 0, 0, 0])"
            ]
          },
          "metadata": {
            "tags": []
          },
          "execution_count": 98
        }
      ]
    },
    {
      "cell_type": "code",
      "metadata": {
        "id": "uoRpzYW85I4B",
        "colab_type": "code",
        "colab": {
          "base_uri": "https://localhost:8080/",
          "height": 258
        },
        "outputId": "39c55de6-40aa-492f-ae88-72c1c9246dd9"
      },
      "source": [
        "y_adapt"
      ],
      "execution_count": 99,
      "outputs": [
        {
          "output_type": "execute_result",
          "data": {
            "text/plain": [
              "array([0, 0, 0, 0, 0, 0, 0, 0, 0, 0, 0, 0, 0, 0, 0, 0, 0, 0, 0, 0, 0, 0,\n",
              "       0, 0, 0, 0, 0, 0, 0, 0, 0, 0, 0, 0, 0, 0, 1, 0, 0, 0, 0, 0, 0, 0,\n",
              "       0, 0, 0, 0, 0, 0, 0, 0, 0, 0, 0, 0, 0, 0, 0, 0, 0, 0, 0, 0, 0, 0,\n",
              "       0, 0, 0, 0, 0, 0, 0, 0, 0, 0, 0, 0, 0, 0, 0, 0, 0, 0, 0, 0, 0, 0,\n",
              "       0, 0, 0, 0, 0, 0, 0, 0, 0, 0, 0, 0, 0, 0, 0, 0, 0, 1, 0, 0, 0, 0,\n",
              "       0, 0, 0, 0, 0, 0, 0, 0, 0, 0, 0, 0, 0, 0, 0, 0, 0, 0, 0, 0, 0, 0,\n",
              "       0, 0, 0, 0, 0, 0, 0, 0, 0, 0, 0, 0, 0, 0, 0, 0, 0, 0, 0, 0, 0, 0,\n",
              "       0, 0, 0, 0, 0, 0, 0, 0, 0, 0, 0, 0, 0, 0, 0, 0, 0, 0, 0, 0, 0, 0,\n",
              "       0, 0, 1, 0, 0, 0, 0, 0, 0, 0, 0, 0, 0, 0, 0, 0, 0, 0, 0, 0, 0, 0,\n",
              "       0, 0, 0, 0, 0, 0, 0, 0, 0, 0, 0, 0, 0, 0, 0, 0, 0, 0, 0, 0, 0, 0,\n",
              "       0, 0, 0, 0, 0, 0, 0, 0, 0, 0, 0, 0, 0, 0, 0, 0, 0, 0, 0, 0, 0, 0,\n",
              "       0, 0, 0, 0, 0, 0, 0, 0, 0, 0, 0, 0, 0, 0, 0, 0, 0, 0, 0, 0, 0, 0,\n",
              "       0, 1, 0, 0, 0, 0, 0, 0, 0, 0, 0, 0, 0, 0, 0, 0, 0, 0, 0, 0, 0, 0,\n",
              "       0, 0, 0, 0, 0, 0, 0, 0, 0, 0, 0, 0, 0, 0])"
            ]
          },
          "metadata": {
            "tags": []
          },
          "execution_count": 99
        }
      ]
    },
    {
      "cell_type": "code",
      "metadata": {
        "id": "U0Nkmrwb5Lol",
        "colab_type": "code",
        "colab": {}
      },
      "source": [
        ""
      ],
      "execution_count": 0,
      "outputs": []
    }
  ]
}