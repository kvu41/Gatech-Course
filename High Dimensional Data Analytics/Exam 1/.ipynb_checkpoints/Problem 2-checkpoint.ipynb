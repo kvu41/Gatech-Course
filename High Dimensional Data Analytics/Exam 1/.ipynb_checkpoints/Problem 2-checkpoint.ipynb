{
 "cells": [
  {
   "cell_type": "code",
   "execution_count": 1,
   "metadata": {},
   "outputs": [],
   "source": [
    "import numpy as np\n",
    "import matplotlib.pyplot as plt\n",
    "import math\n",
    "import pandas as pd"
   ]
  },
  {
   "cell_type": "code",
   "execution_count": 2,
   "metadata": {},
   "outputs": [],
   "source": [
    "df = pd.read_csv('data.csv', header = None)"
   ]
  },
  {
   "cell_type": "code",
   "execution_count": 3,
   "metadata": {},
   "outputs": [],
   "source": [
    "X = np.array(df)\n"
   ]
  },
  {
   "cell_type": "code",
   "execution_count": 4,
   "metadata": {},
   "outputs": [
    {
     "data": {
      "text/plain": [
       "8.396212594975001"
      ]
     },
     "execution_count": 4,
     "metadata": {},
     "output_type": "execute_result"
    }
   ],
   "source": [
    "n = len(X)\n",
    "m = np.sum(X)\n",
    "mean_X = m/n\n",
    "mean_X"
   ]
  },
  {
   "cell_type": "code",
   "execution_count": 5,
   "metadata": {},
   "outputs": [
    {
     "data": {
      "text/plain": [
       "2066.340178602427"
      ]
     },
     "execution_count": 5,
     "metadata": {},
     "output_type": "execute_result"
    }
   ],
   "source": [
    "logX = np.log(X)\n",
    "k = np.sum(logX)\n",
    "k"
   ]
  },
  {
   "cell_type": "code",
   "execution_count": 6,
   "metadata": {},
   "outputs": [],
   "source": [
    "from scipy.special import gamma, polygamma"
   ]
  },
  {
   "cell_type": "code",
   "execution_count": 7,
   "metadata": {},
   "outputs": [],
   "source": [
    "def grad(a):\n",
    "    dfda = n *(np.log(a/mean_X)-polygamma(1,a)) + k \n",
    "    return dfda\n",
    "    "
   ]
  },
  {
   "cell_type": "code",
   "execution_count": 8,
   "metadata": {},
   "outputs": [],
   "source": [
    "def log_likelihood(a):\n",
    "    f = (a-1)*k - n* np.log(gamma(a)) - a*k +n*a*np.log(a)-n*a\n",
    "    return x"
   ]
  },
  {
   "cell_type": "code",
   "execution_count": 9,
   "metadata": {},
   "outputs": [],
   "source": [
    "x0 = np.random.uniform(0.1, high =1, size =1)\n",
    "x0 = float(x0)"
   ]
  },
  {
   "cell_type": "code",
   "execution_count": 10,
   "metadata": {},
   "outputs": [],
   "source": [
    "y0 = np.random.uniform(low = 0.1, high =1, size =1)\n",
    "y0 = float(y0)"
   ]
  },
  {
   "cell_type": "code",
   "execution_count": 11,
   "metadata": {},
   "outputs": [],
   "source": [
    "llh = []"
   ]
  },
  {
   "cell_type": "code",
   "execution_count": 12,
   "metadata": {},
   "outputs": [],
   "source": [
    "tol = 0.001\n",
    "count = 1\n",
    "gradient = grad(x0)\n",
    "loss = []\n",
    "value =[]"
   ]
  },
  {
   "cell_type": "code",
   "execution_count": 13,
   "metadata": {},
   "outputs": [
    {
     "name": "stdout",
     "output_type": "stream",
     "text": [
      "iteration 2 loss 3.1370793499105174\n",
      "iteration 3 loss 2.430097782113505\n",
      "iteration 4 loss 1.934295874926451\n",
      "iteration 5 loss 1.8102680493576964\n",
      "iteration 6 loss 1.9478526354121446\n",
      "iteration 7 loss 2.087886130602817\n",
      "iteration 8 loss 2.111925783473422\n",
      "iteration 9 loss 2.0443954043822736\n",
      "iteration 10 loss 1.9709300229820557\n",
      "iteration 11 loss 1.957329717131976\n",
      "iteration 12 loss 1.9996280354518816\n",
      "iteration 13 loss 2.0457289834551555\n",
      "iteration 14 loss 2.0545945497529283\n",
      "iteration 15 loss 2.0266334933488874\n",
      "iteration 16 loss 1.993323183345686\n",
      "iteration 17 loss 1.9851718347069565\n",
      "iteration 18 loss 2.005095232515301\n",
      "iteration 19 loss 2.0305032227832216\n",
      "iteration 20 loss 2.0380898701964165\n",
      "iteration 21 loss 2.0239119770335\n",
      "iteration 22 loss 2.0034858442588748\n",
      "iteration 23 loss 1.9958043318964562\n",
      "iteration 24 loss 2.0061103623816967\n",
      "iteration 25 loss 2.0228964815196164\n",
      "iteration 26 loss 2.0304649052901675\n",
      "iteration 27 loss 2.023216042965358\n",
      "iteration 28 loss 2.0091794754093133\n",
      "iteration 29 loss 2.001554303859048\n",
      "iteration 30 loss 2.006514710108896\n",
      "iteration 31 loss 2.0183482027520947\n",
      "iteration 32 loss 2.0258349400606828\n",
      "iteration 33 loss 2.022755817632187\n",
      "iteration 34 loss 2.0127923754855526\n",
      "iteration 35 loss 2.005405086891101\n",
      "iteration 36 loss 2.0069848595679054\n",
      "iteration 37 loss 2.0153669483669163\n",
      "iteration 38 loss 2.022508409965293\n",
      "iteration 39 loss 2.022164111318056\n",
      "iteration 40 loss 2.0152148780791577\n",
      "iteration 41 loss 2.008331020922634\n",
      "iteration 42 loss 2.0076598150025435\n",
      "iteration 43 loss 2.0133592629430983\n",
      "iteration 44 loss 2.0198851855125555\n",
      "iteration 45 loss 2.0213706173539587\n",
      "iteration 46 loss 2.0168331858637067\n",
      "iteration 47 loss 2.0106981969746447\n",
      "iteration 48 loss 2.0085440295246317\n",
      "iteration 49 loss 2.0120514415063484\n",
      "iteration 50 loss 2.017733658951066\n",
      "iteration 51 loss 2.020391744622193\n",
      "iteration 52 loss 2.0178405370027153\n",
      "iteration 53 loss 2.012648619049514\n",
      "iteration 54 loss 2.0095959100748373\n",
      "iteration 55 loss 2.011295433075154\n",
      "iteration 56 loss 2.015966170677018\n",
      "iteration 57 loss 2.0192773327567886\n",
      "iteration 58 loss 2.018352642501909\n",
      "iteration 59 loss 2.0142336507285807\n",
      "iteration 60 loss 2.010754016649736\n",
      "iteration 61 loss 2.010992871206944\n",
      "iteration 62 loss 2.014553491892153\n",
      "iteration 63 loss 2.0180921820858044\n",
      "iteration 64 loss 2.018455679969985\n",
      "iteration 65 loss 2.0154693149417637\n",
      "iteration 66 loss 2.0119484198840185\n",
      "iteration 67 loss 2.011062658955962\n",
      "iteration 68 loss 2.0134867710092714\n",
      "iteration 69 loss 2.016906538792316\n",
      "iteration 70 loss 2.0182271538910093\n",
      "iteration 71 loss 2.0163624207391355\n",
      "iteration 72 loss 2.0131080892850037\n",
      "iteration 73 loss 2.011427212341529\n",
      "iteration 74 loss 2.0127587003110405\n",
      "iteration 75 loss 2.015789202214958\n",
      "iteration 76 loss 2.0177442661484\n",
      "iteration 77 loss 2.0169238230653828\n",
      "iteration 78 loss 2.0141669320549345\n",
      "iteration 79 loss 2.0120077652275374\n",
      "iteration 80 loss 2.0123539183528023\n",
      "iteration 81 loss 2.0148017482150298\n",
      "iteration 82 loss 2.017085874939155\n",
      "iteration 83 loss 2.0171749498483966\n",
      "iteration 84 loss 2.0150689371382855\n",
      "iteration 85 loss 2.0127244719393826\n",
      "iteration 86 loss 2.0122446888854735\n",
      "iteration 87 loss 2.013993713029742\n",
      "iteration 88 loss 2.01633095804414\n",
      "iteration 89 loss 2.0171501919634145\n",
      "iteration 90 loss 2.01577228364439\n",
      "iteration 91 loss 2.0134990880364207\n",
      "iteration 92 loss 2.01239005665949\n",
      "iteration 93 loss 2.013398954071757\n",
      "iteration 94 loss 2.0155552317428413\n",
      "iteration 95 loss 2.0168964438548356\n",
      "iteration 96 loss 2.0162521535407936\n",
      "iteration 97 loss 2.014258867055468\n",
      "iteration 98 loss 2.0127374735942225\n",
      "iteration 99 loss 2.01303344841804\n",
      "iteration 100 loss 2.014827024077239\n",
      "iteration 101 loss 2.016470600016046\n",
      "iteration 102 loss 2.0165020384028627\n",
      "iteration 103 loss 2.014940720934343\n",
      "iteration 104 loss 2.013226166148863\n",
      "iteration 105 loss 2.0128947036880653\n",
      "iteration 106 loss 2.014203218350034\n",
      "iteration 107 loss 2.0159356496811704\n",
      "iteration 108 loss 2.01653344733021\n",
      "iteration 109 loss 2.0154949355617817\n",
      "iteration 110 loss 2.013791600632596\n",
      "iteration 111 loss 2.012962814136156\n",
      "iteration 112 loss 2.013725892483672\n",
      "iteration 113 loss 2.0153559665425154\n",
      "iteration 114 loss 2.016374065342512\n",
      "iteration 115 loss 2.0158879215240924\n",
      "iteration 116 loss 2.0143704332968353\n",
      "iteration 117 loss 2.013203035734373\n",
      "iteration 118 loss 2.0134201102243496\n",
      "iteration 119 loss 2.014792372701566\n",
      "iteration 120 loss 2.016064554708181\n",
      "iteration 121 loss 2.0161036554434624\n",
      "iteration 122 loss 2.0149053657847302\n",
      "iteration 123 loss 2.0135696043794415\n",
      "iteration 124 loss 2.0132931460128782\n",
      "iteration 125 loss 2.014297524360106\n",
      "iteration 126 loss 2.0156543185747844\n",
      "iteration 127 loss 2.0161436409236027\n",
      "iteration 128 loss 2.0153493882432745\n",
      "iteration 129 loss 2.014010401251065\n",
      "iteration 130 loss 2.013335244596227\n",
      "iteration 131 loss 2.0139121021317665\n",
      "iteration 132 loss 2.015196643307688\n",
      "iteration 133 loss 2.0160253878753696\n",
      "iteration 134 loss 2.0156689883145025\n",
      "iteration 135 loss 2.014471992921199\n",
      "iteration 136 loss 2.0135218387966454\n",
      "iteration 137 loss 2.013662186308223\n",
      "iteration 138 loss 2.0147436925602373\n",
      "iteration 139 loss 2.0157795665727525\n",
      "iteration 140 loss 2.0158460303076575\n",
      "iteration 141 loss 2.014904548691194\n",
      "iteration 142 loss 2.0138169889951496\n",
      "iteration 143 loss 2.013558061627012\n",
      "iteration 144 loss 2.0143418354921176\n",
      "iteration 145 loss 2.0154461276135627\n",
      "iteration 146 loss 2.015878155357937\n",
      "iteration 147 loss 2.015266164828107\n",
      "iteration 148 loss 2.014177680851433\n",
      "iteration 149 loss 2.0135945387575958\n",
      "iteration 150 loss 2.014027751575612\n",
      "iteration 151 loss 2.0150697805206077\n",
      "iteration 152 loss 2.015777707589355\n",
      "iteration 153 loss 2.0155261999289893\n",
      "iteration 154 loss 2.0145585355446185\n",
      "iteration 155 loss 2.013752717002749\n",
      "iteration 156 loss 2.013825668312219\n",
      "iteration 157 loss 2.014695283257528\n",
      "iteration 158 loss 2.0155693394623952\n",
      "iteration 159 loss 2.0156673378878143\n",
      "iteration 160 loss 2.014916456183607\n",
      "iteration 161 loss 2.0140029623953466\n",
      "iteration 162 loss 2.0137459646754916\n",
      "iteration 163 loss 2.0143630068389657\n",
      "iteration 164 loss 2.015286578207311\n",
      "iteration 165 loss 2.0156862320055193\n",
      "iteration 166 loss 2.0152147557984046\n",
      "iteration 167 loss 2.014308754012773\n",
      "iteration 168 loss 2.0137852257831916\n",
      "iteration 169 loss 2.0141052021872956\n",
      "iteration 170 loss 2.014967732656806\n",
      "iteration 171 loss 2.0155927311319335\n",
      "iteration 172 loss 2.015426381537022\n",
      "iteration 173 loss 2.0146309717614037\n",
      "iteration 174 loss 2.013927680027828\n",
      "iteration 175 loss 2.0139433141919203\n",
      "iteration 176 loss 2.0146515766431197\n",
      "iteration 177 loss 2.015407831518034\n",
      "iteration 178 loss 2.0155359567167457\n",
      "iteration 179 loss 2.014932168504769\n",
      "iteration 180 loss 2.014147806517948\n",
      "iteration 181 loss 2.0138865695088493\n",
      "iteration 182 loss 2.0143732558006757\n",
      "iteration 183 loss 2.015160622324037\n",
      "iteration 184 loss 2.015540494338639\n",
      "iteration 185 loss 2.015180389516037\n",
      "iteration 186 loss 2.0144137845680747\n",
      "iteration 187 loss 2.0139319234293187\n",
      "iteration 188 loss 2.0141608280250525\n",
      "iteration 189 loss 2.014884586441661\n",
      "iteration 190 loss 2.0154487779974235\n",
      "iteration 191 loss 2.0153521683167774\n",
      "iteration 192 loss 2.0146913807355644\n",
      "iteration 193 loss 2.0140653035390117\n",
      "iteration 194 loss 2.0140327679461794\n",
      "iteration 195 loss 2.0146136723389927\n",
      "iteration 196 loss 2.0152795439593643\n",
      "iteration 197 loss 2.015434430746207\n",
      "iteration 198 loss 2.0149478398289715\n",
      "iteration 199 loss 2.01426395109309\n",
      "iteration 200 loss 2.0139966515479193\n",
      "iteration 201 loss 2.0143785617574297\n",
      "iteration 202 loss 2.0150587176692816\n",
      "iteration 203 loss 2.0154251660079034\n",
      "iteration 204 loss 2.015155365734565\n",
      "iteration 205 loss 2.014499550704082\n",
      "iteration 206 loss 2.014049101690637\n",
      "iteration 207 loss 2.0142035216026417\n",
      "iteration 208 loss 2.0148160472955454\n",
      "iteration 209 loss 2.015332860139573\n",
      "iteration 210 loss 2.01529384147803\n",
      "iteration 211 loss 2.0147417670628207\n",
      "iteration 212 loss 2.014176934629257\n",
      "iteration 213 loss 2.0141041505638273\n",
      "iteration 214 loss 2.0145815274138448\n",
      "iteration 215 loss 2.015174819249344\n",
      "iteration 216 loss 2.015352536633846\n",
      "iteration 217 loss 2.014961780826458\n",
      "iteration 218 loss 2.0143593181318775\n",
      "iteration 219 loss 2.0140862209417008\n",
      "iteration 220 loss 2.014382012795154\n",
      "iteration 221 loss 2.014974623398001\n",
      "iteration 222 loss 2.0153306717328907\n",
      "iteration 223 loss 2.0151354356119238\n",
      "iteration 224 loss 2.0145706483170143\n",
      "iteration 225 loss 2.014145686848403\n",
      "iteration 226 loss 2.0142383853170265\n",
      "iteration 227 loss 2.014759035797959\n",
      "iteration 228 loss 2.0152368397053295\n",
      "iteration 229 loss 2.015245669865681\n",
      "iteration 230 loss 2.014783786041653\n",
      "iteration 231 loss 2.014269796707956\n",
      "iteration 232 loss 2.0141635609210597\n",
      "iteration 233 loss 2.014554737840079\n",
      "iteration 234 loss 2.0150874094080424\n",
      "iteration 235 loss 2.015284002377853\n",
      "iteration 236 loss 2.0149732708116037\n",
      "iteration 237 loss 2.014439126534831\n",
      "iteration 238 loss 2.0141615174959093\n",
      "iteration 239 loss 2.0143852641421645\n",
      "iteration 240 loss 2.014904142804018\n",
      "iteration 241 loss 2.0152509563775576\n",
      "iteration 242 loss 2.0151181514710306\n",
      "iteration 243 loss 2.0146302547352883\n",
      "iteration 244 loss 2.0142274013654764\n",
      "iteration 245 loss 2.0142684736872347\n",
      "iteration 246 loss 2.0147113345284504\n",
      "iteration 247 loss 2.0151554308771003\n",
      "iteration 248 loss 2.015204133868461\n",
      "iteration 249 loss 2.014818739494037\n",
      "iteration 250 loss 2.014348644528722\n",
      "iteration 251 loss 2.0142148182297137\n",
      "iteration 252 loss 2.0145328227868915\n",
      "iteration 253 loss 2.015013145470996\n",
      "iteration 254 loss 2.0152248375263326\n",
      "iteration 255 loss 2.014982041685555\n",
      "iteration 256 loss 2.0145069118421004\n",
      "iteration 257 loss 2.0142265668202137\n",
      "iteration 258 loss 2.014389220203376\n",
      "iteration 259 loss 2.0148443835718366\n",
      "iteration 260 loss 2.0151820643473224\n",
      "iteration 261 loss 2.0151020599273095\n",
      "iteration 262 loss 2.0146806099590298\n",
      "iteration 263 loss 2.0142980281176572\n",
      "iteration 264 loss 2.014295673281072\n",
      "iteration 265 loss 2.014671328851795\n",
      "iteration 266 loss 2.0150850993879494\n",
      "iteration 267 loss 2.01516700517196\n",
      "iteration 268 loss 2.0148476374479745\n",
      "iteration 269 loss 2.0144166943979314\n",
      "iteration 270 loss 2.014260384985967\n",
      "iteration 271 loss 2.0145153235337023\n",
      "iteration 272 loss 2.014949173503122\n",
      "iteration 273 loss 2.015172431401127\n",
      "iteration 274 loss 2.014988042823836\n",
      "iteration 275 loss 2.0145651269229434\n",
      "iteration 276 loss 2.0142840360516603\n",
      "iteration 277 loss 2.014394372237808\n",
      "iteration 278 loss 2.014793308282409\n",
      "iteration 279 loss 2.015121345092852\n",
      "iteration 280 loss 2.015086283941749\n",
      "iteration 281 loss 2.014723323635094\n",
      "iteration 282 loss 2.0143601292819846\n",
      "iteration 283 loss 2.014321172835734\n",
      "iteration 284 loss 2.01463782564746\n",
      "iteration 285 loss 2.0150234264528235\n",
      "iteration 286 loss 2.0151328433536397\n",
      "iteration 287 loss 2.0148712654246186\n",
      "iteration 288 loss 2.014476171101502\n",
      "iteration 289 loss 2.014301882009456\n",
      "iteration 290 loss 2.0145018315907897\n",
      "iteration 291 loss 2.014893497303496\n",
      "iteration 292 loss 2.015125041115011\n",
      "iteration 293 loss 2.0149913303725855\n",
      "iteration 294 loss 2.014615509117573\n",
      "iteration 295 loss 2.014335727487656\n",
      "iteration 296 loss 2.0144009736318282\n",
      "iteration 297 loss 2.0147494527873318\n",
      "iteration 298 loss 2.015066987973353\n",
      "iteration 299 loss 2.0150702955046498\n",
      "iteration 300 loss 2.0147595745488127\n",
      "iteration 301 loss 2.0144154733276807\n",
      "iteration 302 loss 2.014345726746126\n",
      "iteration 303 loss 2.0146099279286576\n",
      "iteration 304 loss 2.014968725603702\n",
      "iteration 305 loss 2.015100707435281\n",
      "iteration 306 loss 2.014890241483394\n",
      "iteration 307 loss 2.0145286422313315\n",
      "iteration 308 loss 2.0143403889844063\n",
      "iteration 309 loss 2.014491990248459\n",
      "iteration 310 loss 2.014844694589998\n",
      "iteration 311 loss 2.01508148813127\n",
      "iteration 312 loss 2.0149920140932256\n",
      "iteration 313 loss 2.0146593121037273\n",
      "iteration 314 loss 2.0143828753348045\n",
      "iteration 315 loss 2.014409134614991\n",
      "iteration 316 loss 2.0147117447088116\n",
      "iteration 317 loss 2.0150177389583392\n",
      "iteration 318 loss 2.0150537866379583\n",
      "iteration 319 loss 2.0147902429127234\n",
      "iteration 320 loss 2.0144652983988247\n",
      "iteration 321 loss 2.0143698090477677\n",
      "iteration 322 loss 2.0145869478504514\n",
      "iteration 323 loss 2.014919803412698\n",
      "iteration 324 loss 2.015069983763811\n",
      "iteration 325 loss 2.0149050608169157\n",
      "iteration 326 loss 2.0145752296242887\n",
      "iteration 327 loss 2.0143766268324805\n",
      "iteration 328 loss 2.0144854870869673\n",
      "iteration 329 loss 2.014801735151009\n",
      "iteration 330 loss 2.0150409715147197\n",
      "iteration 331 loss 2.0149902316784143\n",
      "iteration 332 loss 2.0146974566571374\n",
      "iteration 333 loss 2.0144263306821415\n",
      "iteration 334 loss 2.0144188753129595\n",
      "iteration 335 loss 2.0146793834323455\n",
      "iteration 336 loss 2.014972721972573\n",
      "iteration 337 loss 2.0150365933375802\n",
      "iteration 338 loss 2.014815999846505\n",
      "iteration 339 loss 2.0145104802783624\n",
      "iteration 340 loss 2.0143937068513242\n"
     ]
    },
    {
     "name": "stdout",
     "output_type": "stream",
     "text": [
      "iteration 341 loss 2.014568345830682\n",
      "iteration 342 loss 2.0148758052464304\n",
      "iteration 343 loss 2.0150402795016435\n",
      "iteration 344 loss 2.014916129497157\n",
      "iteration 345 loss 2.014616747166729\n",
      "iteration 346 loss 2.0144110723267947\n",
      "iteration 347 loss 2.0144820444006037\n",
      "iteration 348 loss 2.0147638609936864\n",
      "iteration 349 loss 2.015002949056579\n",
      "iteration 350 loss 2.014986136433149\n",
      "iteration 351 loss 2.014730631251539\n",
      "iteration 352 loss 2.0144666805987903\n",
      "iteration 353 loss 2.0144301564972285\n",
      "iteration 354 loss 2.014651758909752\n",
      "iteration 355 loss 2.014931322672794\n",
      "iteration 356 loss 2.015018649088317\n",
      "iteration 357 loss 2.014837369028798\n",
      "iteration 358 loss 2.014551642736076\n",
      "iteration 359 loss 2.0144175790509853\n",
      "iteration 360 loss 2.0145536875031302\n",
      "iteration 361 loss 2.014836112974508\n",
      "iteration 362 loss 2.015011354471035\n",
      "iteration 363 loss 2.0149237896569328\n",
      "iteration 364 loss 2.014653793049277\n",
      "iteration 365 loss 2.014444032473326\n",
      "iteration 366 loss 2.014481410178854\n",
      "iteration 367 loss 2.014730505342672\n",
      "iteration 368 loss 2.014967059238788\n",
      "iteration 369 loss 2.014979891484537\n",
      "iteration 370 loss 2.0147593607524317\n",
      "iteration 371 loss 2.0145043271107284\n",
      "iteration 372 loss 2.0144428980552362\n",
      "iteration 373 loss 2.01462839558644\n",
      "iteration 374 loss 2.01489311067721\n",
      "iteration 375 loss 2.0149999554275215\n",
      "iteration 376 loss 2.0148547698836574\n",
      "iteration 377 loss 2.0145892319986607\n",
      "iteration 378 loss 2.0144414944716713\n",
      "iteration 379 loss 2.0145426129738633\n",
      "iteration 380 loss 2.0148002753801437\n",
      "iteration 381 loss 2.014983076135797\n",
      "iteration 382 loss 2.0149283381558254\n",
      "iteration 383 loss 2.0146868130279874\n",
      "iteration 384 loss 2.014475694256885\n",
      "iteration 385 loss 2.014483350515776\n",
      "iteration 386 loss 2.014701236659176\n",
      "iteration 387 loss 2.0149330685209157\n",
      "iteration 388 loss 2.0149716671249687\n",
      "iteration 389 loss 2.0147840542863777\n",
      "iteration 390 loss 2.014539541016108\n",
      "iteration 391 loss 2.0144569905479504\n",
      "iteration 392 loss 2.0146089129837126\n",
      "iteration 393 loss 2.0148577861638235\n",
      "iteration 394 loss 2.01498056260841\n",
      "iteration 395 loss 2.014868548263304\n",
      "iteration 396 loss 2.0146235682502263\n",
      "iteration 397 loss 2.0144654574955743\n",
      "iteration 398 loss 2.014534814680568\n",
      "iteration 399 loss 2.014767959716696\n",
      "iteration 400 loss 2.0149553889368756\n",
      "iteration 401 loss 2.0149300403515276\n",
      "iteration 402 loss 2.0147161447432422\n",
      "iteration 403 loss 2.0145061588802053\n",
      "iteration 404 loss 2.0144876436033186\n",
      "iteration 405 loss 2.014675719183265\n",
      "iteration 406 loss 2.0149008347596373\n",
      "iteration 407 loss 2.014961639576355\n",
      "iteration 408 loss 2.0148050391898837\n",
      "iteration 409 loss 2.014572499496193\n",
      "iteration 410 loss 2.014472302811309\n",
      "iteration 411 loss 2.0145929975716728\n",
      "iteration 412 loss 2.014825142318832\n",
      "iteration 413 loss 2.0149605563896995\n",
      "iteration 414 loss 2.014878998494492\n",
      "iteration 415 loss 2.0146548820488617\n",
      "iteration 416 loss 2.0144894258702752\n",
      "iteration 417 loss 2.014530021358351\n",
      "iteration 418 loss 2.014738917281185\n",
      "iteration 419 loss 2.014928292761526\n",
      "iteration 420 loss 2.014929140198136\n",
      "iteration 421 loss 2.0147420493606623\n",
      "iteration 422 loss 2.0145354659928048\n",
      "iteration 423 loss 2.0144940751940035\n",
      "iteration 424 loss 2.0146536846465883\n",
      "iteration 425 loss 2.014870281165421\n",
      "iteration 426 loss 2.014949990308329\n",
      "iteration 427 loss 2.0148225854412036\n",
      "iteration 428 loss 2.0146033130308263\n",
      "iteration 429 loss 2.0144886872684937\n",
      "iteration 430 loss 2.0145803824611\n",
      "iteration 431 loss 2.014795038346655\n",
      "iteration 432 loss 2.0149400486202733\n",
      "iteration 433 loss 2.0148863793431016\n",
      "iteration 434 loss 2.014683340599501\n",
      "iteration 435 loss 2.0145133235206774\n",
      "iteration 436 loss 2.0145279864086305\n",
      "iteration 437 loss 2.0147129584984595\n",
      "iteration 438 loss 2.014901827363166\n",
      "iteration 439 loss 2.0149258675744255\n",
      "iteration 440 loss 2.0147647345309796\n",
      "iteration 441 loss 2.014563611303239\n",
      "iteration 442 loss 2.014502435334625\n",
      "iteration 443 loss 2.014634911706572\n",
      "iteration 444 loss 2.014841377305506\n",
      "iteration 445 loss 2.0149369054769606\n",
      "iteration 446 loss 2.0148369234443213\n",
      "iteration 447 loss 2.014632045088071\n",
      "iteration 448 loss 2.0145059839099653\n",
      "iteration 449 loss 2.014570832622129\n",
      "iteration 450 loss 2.014767379681601\n",
      "iteration 451 loss 2.0149191702209537\n",
      "iteration 452 loss 2.0148909256144902\n",
      "iteration 453 loss 2.0147090670486434\n",
      "iteration 454 loss 2.0145370500969033\n",
      "iteration 455 loss 2.014528479493724\n",
      "iteration 456 loss 2.0146899346042955\n",
      "iteration 457 loss 2.0148760607475897\n",
      "iteration 458 loss 2.0149204435065506\n",
      "iteration 459 loss 2.01478437127398\n",
      "iteration 460 loss 2.014590559716244\n",
      "iteration 461 loss 2.014512516163913\n",
      "iteration 462 loss 2.0146192108335788\n",
      "iteration 463 loss 2.014814124927952\n",
      "iteration 464 loss 2.0149225752766764\n",
      "iteration 465 loss 2.014848257072137\n",
      "iteration 466 loss 2.014658726819893\n",
      "iteration 467 loss 2.0145240234970245\n",
      "iteration 468 loss 2.0145641340875966\n",
      "iteration 469 loss 2.014742103221853\n",
      "iteration 470 loss 2.0148980657103586\n",
      "iteration 471 loss 2.0148928565644053\n",
      "iteration 472 loss 2.014732154870838\n",
      "iteration 473 loss 2.014560488341419\n",
      "iteration 474 loss 2.0145312805316657\n",
      "iteration 475 loss 2.0146697240083355\n",
      "iteration 476 loss 2.0148510802645556\n",
      "iteration 477 loss 2.014913083775643\n",
      "iteration 478 loss 2.0148011065178517\n",
      "iteration 479 loss 2.0146162553723017\n",
      "iteration 480 loss 2.0145241105858838\n",
      "iteration 481 loss 2.014606413130103\n",
      "iteration 482 loss 2.0147885471610345\n",
      "iteration 483 loss 2.0149071931172586\n",
      "iteration 484 loss 2.0148567732602354\n",
      "iteration 485 loss 2.014683368226806\n",
      "iteration 486 loss 2.014542630312609\n",
      "iteration 487 loss 2.0145600860844595\n",
      "iteration 488 loss 2.014719166145663\n",
      "iteration 489 loss 2.0148768887477244\n",
      "iteration 490 loss 2.0148923819380293\n",
      "iteration 491 loss 2.014752678725611\n",
      "iteration 492 loss 2.0145835099631664\n",
      "iteration 493 loss 2.0145361755035136\n",
      "iteration 494 loss 2.014652222048652\n",
      "iteration 495 loss 2.01482698559049\n",
      "iteration 496 loss 2.0149040012755495\n",
      "iteration 497 loss 2.0148150724656477\n",
      "iteration 498 loss 2.014640629490413\n",
      "iteration 499 loss 2.0145370116565355\n",
      "iteration 500 loss 2.014596362043833\n"
     ]
    }
   ],
   "source": [
    "while gradient > tol or count < 500:\n",
    "    x = y0 - 0.001*gradient\n",
    "    y0 = x +(count-1)/(count+2) *(x -x0)\n",
    "    gradient = grad(x)\n",
    "    x0 = x\n",
    "    llh.append(log_likelihood(x0))\n",
    "    count = count +1\n",
    "    value.append(x0)\n",
    "    loss.append(x0)\n",
    "    print('iteration', count, 'loss', x0)\n",
    "    \n"
   ]
  },
  {
   "cell_type": "code",
   "execution_count": 26,
   "metadata": {},
   "outputs": [
    {
     "data": {
      "text/plain": [
       "Text(0, 0.5, 'Log-Likelihood')"
      ]
     },
     "execution_count": 26,
     "metadata": {},
     "output_type": "execute_result"
    },
    {
     "data": {
      "image/png": "[encoded data removed]",
      "text/plain": [
       "<Figure size 432x288 with 1 Axes>"
      ]
     },
     "metadata": {
      "needs_background": "light"
     },
     "output_type": "display_data"
    }
   ],
   "source": [
    "i = list(range(1,101))\n",
    "\n",
    "plt.plot(i, llh[0:100], linewidth = 2)\n",
    "plt.xlabel('Iteration')\n",
    "plt.ylabel('Log-Likelihood')"
   ]
  },
  {
   "cell_type": "code",
   "execution_count": 15,
   "metadata": {},
   "outputs": [
    {
     "data": {
      "text/plain": [
       "' The Accelerated Gradient Descent converged after 42 iteration and Alpha = 2.01471, Beta = 0.23995 '"
      ]
     },
     "execution_count": 15,
     "metadata": {},
     "output_type": "execute_result"
    }
   ],
   "source": [
    "\"\"\" The Accelerated Gradient Descent converged after 42 iteration and Alpha = 2.01471, Beta = 0.23995 \"\"\"\n",
    "\n"
   ]
  },
  {
   "cell_type": "code",
   "execution_count": 16,
   "metadata": {},
   "outputs": [],
   "source": [
    "def hess(a):\n",
    "    f = n * 1/a - n*polygamma(2,a)\n",
    "    return f\n",
    "    \n"
   ]
  },
  {
   "cell_type": "code",
   "execution_count": 17,
   "metadata": {},
   "outputs": [],
   "source": [
    "x0 = np.random.uniform(low =1, high =1, size =1 )"
   ]
  },
  {
   "cell_type": "code",
   "execution_count": 18,
   "metadata": {},
   "outputs": [],
   "source": [
    "llog =[]\n",
    "values = []\n",
    "for i in range(0,100):\n",
    "    x = x0 - grad(x0)/hess(x0)\n",
    "    x0 =x\n",
    "    s = log_likelihood(x0)\n",
    "    llog.append(s)\n",
    "    values.append(x0)\n",
    "    \n",
    "    "
   ]
  },
  {
   "cell_type": "code",
   "execution_count": 23,
   "metadata": {},
   "outputs": [
    {
     "data": {
      "text/plain": [
       "Text(0, 0.5, 'Log_likelihood')"
      ]
     },
     "execution_count": 23,
     "metadata": {},
     "output_type": "execute_result"
    },
    {
     "data": {
      "image/png": "[encoded data removed]",
      "text/plain": [
       "<Figure size 432x288 with 1 Axes>"
      ]
     },
     "metadata": {
      "needs_background": "light"
     },
     "output_type": "display_data"
    }
   ],
   "source": [
    "i  = list(range(0,10))\n",
    "plt.plot(i, llog[0:10], linewidth = 2)\n",
    "plt.xlabel(\"Iteration\")\n",
    "plt.ylabel(\"Log_likelihood\")"
   ]
  },
  {
   "cell_type": "code",
   "execution_count": 24,
   "metadata": {},
   "outputs": [
    {
     "data": {
      "text/plain": [
       "array([2.01471874])"
      ]
     },
     "execution_count": 24,
     "metadata": {},
     "output_type": "execute_result"
    }
   ],
   "source": [
    "values[4]"
   ]
  },
  {
   "cell_type": "code",
   "execution_count": 25,
   "metadata": {},
   "outputs": [
    {
     "data": {
      "text/plain": [
       "'Value of alpha is 2.01471 and beta is 0.23994'"
      ]
     },
     "execution_count": 25,
     "metadata": {},
     "output_type": "execute_result"
    }
   ],
   "source": [
    "\"Value of alpha is 2.01471 and beta is 0.23994\""
   ]
  },
  {
   "cell_type": "code",
   "execution_count": null,
   "metadata": {},
   "outputs": [],
   "source": []
  }
 ],
 "metadata": {
  "kernelspec": {
   "display_name": "Python 3",
   "language": "python",
   "name": "python3"
  },
  "language_info": {
   "codemirror_mode": {
    "name": "ipython",
    "version": 3
   },
   "file_extension": ".py",
   "mimetype": "text/x-python",
   "name": "python",
   "nbconvert_exporter": "python",
   "pygments_lexer": "ipython3",
   "version": "3.7.4"
  }
 },
 "nbformat": 4,
 "nbformat_minor": 2
}
