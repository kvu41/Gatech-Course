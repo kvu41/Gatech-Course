{
 "cells": [
  {
   "cell_type": "code",
   "execution_count": 41,
   "metadata": {},
   "outputs": [],
   "source": [
    "import numpy as np\n",
    "import scipy.io as sio\n",
    "import matplotlib.pyplot as plt\n",
    "from tensorly.tenalg import khatri_rao, kronecker, inner, mode_dot\n",
    "from tensorly.base import unfold"
   ]
  },
  {
   "cell_type": "code",
   "execution_count": 2,
   "metadata": {},
   "outputs": [],
   "source": [
    "df = sio.loadmat('Face_tensors.mat')"
   ]
  },
  {
   "cell_type": "code",
   "execution_count": 3,
   "metadata": {},
   "outputs": [],
   "source": [
    "s1 = df['subject1']"
   ]
  },
  {
   "cell_type": "code",
   "execution_count": 4,
   "metadata": {},
   "outputs": [],
   "source": [
    "s2 = df['subject2']"
   ]
  },
  {
   "cell_type": "code",
   "execution_count": 5,
   "metadata": {},
   "outputs": [],
   "source": [
    "s3 = df['subject3']"
   ]
  },
  {
   "cell_type": "code",
   "execution_count": 33,
   "metadata": {},
   "outputs": [],
   "source": [
    "def HOSVD(Y, ranks):\n",
    "    A_star =[]\n",
    "    for i in range(0,3):\n",
    "        unfolded_y = unfold(Y, mode=i)\n",
    "        u,s,vh = np.linalg.svd(unfolded_y)\n",
    "        A = u[:, 0:ranks[i]]\n",
    "        A_star.append(A)\n",
    "    return A_star\n",
    "    "
   ]
  },
  {
   "cell_type": "code",
   "execution_count": 95,
   "metadata": {},
   "outputs": [],
   "source": [
    "def tucker(X, ranks, max_iter =500, tol = 0.001):\n",
    "    iter = 0\n",
    "    A = HOSVD(X, ranks)\n",
    "    for _ in range(0, max_iter):\n",
    "        iter += 1\n",
    "        \n",
    "        for k in range(0,3):\n",
    "            if k ==0:\n",
    "                Y = mode_dot(mode_dot(X, A[1].T,mode = 1), A[2].T,2)\n",
    "                a0 = HOSVD(Y, ranks)\n",
    "                A0 = a0[0]\n",
    "            if k ==1:\n",
    "                Y = mode_dot(mode_dot(X, A[0].T, mode =0), A[2].T, 2)\n",
    "                a1 = HOSVD(Y, ranks)\n",
    "                A1 = a1[1]\n",
    "            if k==2:\n",
    "                Y = mode_dot(mode_dot(X, A[0].T, mode =0), A[1].T, mode = 1)\n",
    "                a2 = HOSVD(Y, ranks)\n",
    "                A2 = a2[2]\n",
    "        G = mode_dot(mode_dot(mode_dot(X, A0.T, mode =0), A1.T, mode =1), A2.T, mode=2)\n",
    "        \n",
    "        X_re = mode_dot(mode_dot(mode_dot(G, A0, mode=0),A1, mode= 1), A2, mode=2)\n",
    "        \n",
    "        err_X = X-X_re\n",
    "        err = np.linalg.norm(err_X)/np.linalg.norm(X)\n",
    "        error = np.linalg.norm(err_X)\n",
    "        if err < tol:\n",
    "            break\n",
    "    print(\"Number of iteration\", iter)\n",
    "    return A0, A1, A2, G, error\n",
    "\n",
    "                \n",
    "        "
   ]
  },
  {
   "cell_type": "code",
   "execution_count": 97,
   "metadata": {},
   "outputs": [
    {
     "name": "stdout",
     "output_type": "stream",
     "text": [
      "Number of iteration 5000\n"
     ]
    }
   ],
   "source": [
    "A01, A11, A21, G1, err1= tucker(s1, ranks = ranks)"
   ]
  },
  {
   "cell_type": "code",
   "execution_count": 98,
   "metadata": {},
   "outputs": [
    {
     "name": "stdout",
     "output_type": "stream",
     "text": [
      "Number of iteration 5000\n"
     ]
    }
   ],
   "source": [
    "A02, A12, A22, G2, err2= tucker(s2, ranks = ranks)"
   ]
  },
  {
   "cell_type": "code",
   "execution_count": 99,
   "metadata": {},
   "outputs": [
    {
     "name": "stdout",
     "output_type": "stream",
     "text": [
      "Number of iteration 5000\n"
     ]
    }
   ],
   "source": [
    "A03, A13, A23, G3, err3= tucker(s2, ranks = ranks)"
   ]
  },
  {
   "cell_type": "code",
   "execution_count": 100,
   "metadata": {},
   "outputs": [],
   "source": [
    "from tensorly.decomposition import tucker as tk"
   ]
  },
  {
   "cell_type": "code",
   "execution_count": 135,
   "metadata": {
    "scrolled": true
   },
   "outputs": [],
   "source": [
    "ranks = []\n",
    "aic =[]\n",
    "for i in range(1,25):\n",
    "    for j in range(1,25):\n",
    "        for k in range(1,5):\n",
    "            core, factors = tk(s1, ranks =[i,j,k])\n",
    "            \n",
    "            X_re = mode_dot(mode_dot(mode_dot(core, factors[0], mode=0), factors[1], mode =1), factors[2], mode=2)\n",
    "            \n",
    "            error = np.linalg.norm(s1-X_re)\n",
    "            \n",
    "            AIC = 2*error**2 + 2*(i +j +k)\n",
    "            aic.append(AIC)\n",
    "            \n",
    "            ranks.append((i,j,k))"
   ]
  },
  {
   "cell_type": "code",
   "execution_count": 136,
   "metadata": {},
   "outputs": [],
   "source": [
    "p = list(range(0, len(aic)))"
   ]
  },
  {
   "cell_type": "code",
   "execution_count": 137,
   "metadata": {},
   "outputs": [],
   "source": [
    "import matplotlib.pyplot as plt"
   ]
  },
  {
   "cell_type": "code",
   "execution_count": 138,
   "metadata": {},
   "outputs": [
    {
     "data": {
      "text/plain": [
       "Text(0, 0.5, 'AIC')"
      ]
     },
     "execution_count": 138,
     "metadata": {},
     "output_type": "execute_result"
    },
    {
     "data": {
      "image/png": "[encoded data removed]",
      "text/plain": [
       "<Figure size 432x288 with 1 Axes>"
      ]
     },
     "metadata": {
      "needs_background": "light"
     },
     "output_type": "display_data"
    }
   ],
   "source": [
    "plt.plot(p, aic, linewidth = 2)\n",
    "plt.xlabel(\"Iteration\")\n",
    "plt.ylabel(\"AIC\")"
   ]
  },
  {
   "cell_type": "code",
   "execution_count": 144,
   "metadata": {},
   "outputs": [],
   "source": [
    "min_aic = np.amin(aic)"
   ]
  },
  {
   "cell_type": "code",
   "execution_count": 145,
   "metadata": {},
   "outputs": [
    {
     "data": {
      "text/plain": [
       "267.69648294162033"
      ]
     },
     "execution_count": 145,
     "metadata": {},
     "output_type": "execute_result"
    }
   ],
   "source": [
    "min_aic"
   ]
  },
  {
   "cell_type": "code",
   "execution_count": 146,
   "metadata": {},
   "outputs": [],
   "source": [
    "index = aic.index(min_aic)"
   ]
  },
  {
   "cell_type": "code",
   "execution_count": 147,
   "metadata": {},
   "outputs": [
    {
     "data": {
      "text/plain": [
       "2303"
      ]
     },
     "execution_count": 147,
     "metadata": {},
     "output_type": "execute_result"
    }
   ],
   "source": [
    "index"
   ]
  },
  {
   "cell_type": "code",
   "execution_count": 148,
   "metadata": {},
   "outputs": [
    {
     "data": {
      "text/plain": [
       "(24, 24, 4)"
      ]
     },
     "execution_count": 148,
     "metadata": {},
     "output_type": "execute_result"
    }
   ],
   "source": [
    "ranks[2303]"
   ]
  },
  {
   "cell_type": "code",
   "execution_count": 149,
   "metadata": {},
   "outputs": [
    {
     "data": {
      "text/plain": [
       "' Based on AIC criteria, best ranks to Tucker-decomposed s1 is (24,24,4)'"
      ]
     },
     "execution_count": 149,
     "metadata": {},
     "output_type": "execute_result"
    }
   ],
   "source": [
    "# Sorry , it took too long to try all of possible ranks , therefore i only computed  for i =[1,25], j = [1,25], and k =[1,5]\n",
    "\"\"\" Based on AIC criteria, best ranks to Tucker-decomposed s1 is (24,24,4)\"\"\""
   ]
  },
  {
   "cell_type": "code",
   "execution_count": 152,
   "metadata": {},
   "outputs": [],
   "source": [
    "ranks =[24,24,4]\n"
   ]
  },
  {
   "cell_type": "code",
   "execution_count": 153,
   "metadata": {},
   "outputs": [],
   "source": [
    "core_1, factors_1 = tk(s1, ranks = ranks)\n",
    "core_2, factors_2 = tk(s2, ranks = ranks)\n",
    "core_3, factors_3 = tk(s3, ranks = ranks)\n"
   ]
  },
  {
   "cell_type": "code",
   "execution_count": null,
   "metadata": {},
   "outputs": [],
   "source": [
    "A01, A11, A21, G1, err1= tucker(s1, ranks = ranks)\n",
    "A02, A12, A22, G2, err2= tucker(s2, ranks = ranks)\n",
    "A03, A13, A23, G3, err3= tucker(s2, ranks = ranks)"
   ]
  },
  {
   "cell_type": "code",
   "execution_count": null,
   "metadata": {},
   "outputs": [],
   "source": [
    "\"\"\" The self-implemented Tucker decomposition shows similar results with tensor toolbox.\n",
    "However, the error is higher in self-implemented algorithm, and it took significantly longer for the self-implemented one\n",
    "to converge , due to ineffective loop implementation\"\"\""
   ]
  },
  {
   "cell_type": "code",
   "execution_count": null,
   "metadata": {},
   "outputs": [],
   "source": [
    "\"\"\" Possible improvement includes but not limited to replacing loop implementation, \n",
    "avoiding ill-conputed SVD (such as near-zeros values)\"\"\""
   ]
  },
  {
   "cell_type": "code",
   "execution_count": null,
   "metadata": {},
   "outputs": [],
   "source": []
  }
 ],
 "metadata": {
  "kernelspec": {
   "display_name": "Python 3",
   "language": "python",
   "name": "python3"
  },
  "language_info": {
   "codemirror_mode": {
    "name": "ipython",
    "version": 3
   },
   "file_extension": ".py",
   "mimetype": "text/x-python",
   "name": "python",
   "nbconvert_exporter": "python",
   "pygments_lexer": "ipython3",
   "version": "3.7.4"
  }
 },
 "nbformat": 4,
 "nbformat_minor": 2
}
