{
 "cells": [
  {
   "cell_type": "code",
   "execution_count": 27,
   "metadata": {},
   "outputs": [],
   "source": [
    "import numpy as np\n",
    "import matplotlib.pyplot as plt\n",
    "import math\n",
    "import pandas as pd"
   ]
  },
  {
   "cell_type": "code",
   "execution_count": 28,
   "metadata": {},
   "outputs": [],
   "source": [
    "df = pd.read_csv('data.csv', header = None)"
   ]
  },
  {
   "cell_type": "code",
   "execution_count": 29,
   "metadata": {},
   "outputs": [],
   "source": [
    "X = np.array(df)\n"
   ]
  },
  {
   "cell_type": "code",
   "execution_count": 30,
   "metadata": {},
   "outputs": [
    {
     "data": {
      "text/plain": [
       "8.396212594975001"
      ]
     },
     "execution_count": 30,
     "metadata": {},
     "output_type": "execute_result"
    }
   ],
   "source": [
    "n = len(X)\n",
    "m = np.sum(X)\n",
    "mean_X = m/n\n",
    "mean_X"
   ]
  },
  {
   "cell_type": "code",
   "execution_count": 31,
   "metadata": {},
   "outputs": [
    {
     "data": {
      "text/plain": [
       "2066.340178602427"
      ]
     },
     "execution_count": 31,
     "metadata": {},
     "output_type": "execute_result"
    }
   ],
   "source": [
    "logX = np.log(X)\n",
    "k = np.sum(logX)\n",
    "k"
   ]
  },
  {
   "cell_type": "code",
   "execution_count": 32,
   "metadata": {},
   "outputs": [],
   "source": [
    "from scipy.special import gamma, polygamma"
   ]
  },
  {
   "cell_type": "code",
   "execution_count": 33,
   "metadata": {},
   "outputs": [],
   "source": [
    "def grad(a):\n",
    "    dfda = n *(np.log(a/mean_X)-polygamma(1,a)) + k \n",
    "    return dfda\n",
    "    "
   ]
  },
  {
   "cell_type": "code",
   "execution_count": 34,
   "metadata": {},
   "outputs": [],
   "source": [
    "def log_likelihood(a):\n",
    "    f = (a-1)*k - n* np.log(gamma(a)) - a*k +n*a*np.log(a)-n*a\n",
    "    return x"
   ]
  },
  {
   "cell_type": "code",
   "execution_count": 35,
   "metadata": {},
   "outputs": [],
   "source": [
    "x0 = np.random.uniform(0.1, high =1, size =1)\n",
    "x0 = float(x0)"
   ]
  },
  {
   "cell_type": "code",
   "execution_count": 36,
   "metadata": {},
   "outputs": [],
   "source": [
    "y0 = np.random.uniform(low = 0.1, high =1, size =1)\n",
    "y0 = float(y0)"
   ]
  },
  {
   "cell_type": "code",
   "execution_count": 37,
   "metadata": {},
   "outputs": [],
   "source": [
    "llh = []"
   ]
  },
  {
   "cell_type": "code",
   "execution_count": 38,
   "metadata": {},
   "outputs": [],
   "source": [
    "tol = 0.001\n",
    "count = 1\n",
    "gradient = grad(x0)\n",
    "loss = []\n",
    "value =[]"
   ]
  },
  {
   "cell_type": "code",
   "execution_count": 39,
   "metadata": {},
   "outputs": [
    {
     "name": "stdout",
     "output_type": "stream",
     "text": [
      "iteration 2 loss 3.88859179737833\n",
      "iteration 3 loss 2.8850126407366457\n",
      "iteration 4 loss 2.049506733135502\n",
      "iteration 5 loss 1.684661366143675\n",
      "iteration 6 loss 1.8447191910357148\n",
      "iteration 7 loss 2.099542863608302\n",
      "iteration 8 loss 2.185545512336024\n",
      "iteration 9 loss 2.100059985571414\n",
      "iteration 10 loss 1.9665260980336046\n",
      "iteration 11 loss 1.913326217524627\n",
      "iteration 12 loss 1.9679404387124064\n",
      "iteration 13 loss 2.052552966891296\n",
      "iteration 14 loss 2.0857483897553197\n",
      "iteration 15 loss 2.050626751868416\n",
      "iteration 16 loss 1.99047497016279\n",
      "iteration 17 loss 1.9628112619427895\n",
      "iteration 18 loss 1.9871328284441854\n",
      "iteration 19 loss 2.0325369564567524\n",
      "iteration 20 loss 2.0553281605612232\n",
      "iteration 21 loss 2.0391754860896243\n",
      "iteration 22 loss 2.0035935003081944\n",
      "iteration 23 loss 1.9826359347370581\n",
      "iteration 24 loss 1.9933377400467749\n",
      "iteration 25 loss 2.022022766572694\n",
      "iteration 26 loss 2.040892732506317\n",
      "iteration 27 loss 2.034531125305285\n",
      "iteration 28 loss 2.011294363396281\n",
      "iteration 29 loss 1.9935246231200743\n",
      "iteration 30 loss 1.9966294132939275\n",
      "iteration 31 loss 2.0157127973445705\n",
      "iteration 32 loss 2.0321194952955612\n",
      "iteration 33 loss 2.0316000051311476\n",
      "iteration 34 loss 2.0161493404881625\n",
      "iteration 35 loss 2.000745826565995\n",
      "iteration 36 loss 1.9991792638477628\n",
      "iteration 37 loss 2.011709439588214\n",
      "iteration 38 loss 2.025941854234706\n",
      "iteration 39 loss 2.029099577058468\n",
      "iteration 40 loss 2.0192489558589894\n",
      "iteration 41 loss 2.006079781677062\n",
      "iteration 42 loss 2.0015955855205827\n",
      "iteration 43 loss 2.009210025893786\n",
      "iteration 44 loss 2.0212372235740705\n",
      "iteration 45 loss 2.0266551436324574\n",
      "iteration 46 loss 2.0211086156622633\n",
      "iteration 47 loss 2.0102229396497453\n",
      "iteration 48 loss 2.0040410205934744\n",
      "iteration 49 loss 2.007817535912889\n",
      "iteration 50 loss 2.0175495908804346\n",
      "iteration 51 loss 2.0241833231952926\n",
      "iteration 52 loss 2.0220121904442028\n",
      "iteration 53 loss 2.0134680938180556\n",
      "iteration 54 loss 2.0065164220831164\n",
      "iteration 55 loss 2.007295518588294\n",
      "iteration 56 loss 2.0146840536962296\n",
      "iteration 57 loss 2.0217147029155846\n",
      "iteration 58 loss 2.022150043143858\n",
      "iteration 59 loss 2.015944981637719\n",
      "iteration 60 loss 2.008955334798929\n",
      "iteration 61 loss 2.007469925436265\n",
      "iteration 62 loss 2.0125508355185766\n",
      "iteration 63 loss 2.0193280662069286\n",
      "iteration 64 loss 2.0216778780058235\n",
      "iteration 65 loss 2.017720291456566\n",
      "iteration 66 loss 2.011264623321374\n",
      "iteration 67 loss 2.0081878746180917\n",
      "iteration 68 loss 2.011096358480959\n",
      "iteration 69 loss 2.017118989047378\n",
      "iteration 70 loss 2.0207414908159915\n",
      "iteration 71 loss 2.0188440449785228\n",
      "iteration 72 loss 2.0133467597221277\n",
      "iteration 73 loss 2.0093016450346233\n",
      "iteration 74 loss 2.0102702374886268\n",
      "iteration 75 loss 2.015181083564072\n",
      "iteration 76 loss 2.019485152434635\n",
      "iteration 77 loss 2.01937200504169\n",
      "iteration 78 loss 2.015114370855969\n",
      "iteration 79 loss 2.010665063661697\n",
      "iteration 80 loss 2.0100096852443547\n",
      "iteration 81 loss 2.013593195932901\n",
      "iteration 82 loss 2.018051495267796\n",
      "iteration 83 loss 2.019375581004791\n",
      "iteration 84 loss 2.0165003570603193\n",
      "iteration 85 loss 2.0121362711759074\n",
      "iteration 86 loss 2.0102337315846666\n",
      "iteration 87 loss 2.0124105233569307\n",
      "iteration 88 loss 2.0165769427130065\n",
      "iteration 89 loss 2.018944268918932\n",
      "iteration 90 loss 2.0174645594454175\n",
      "iteration 91 loss 2.0135835680216494\n",
      "iteration 92 loss 2.010843631761752\n",
      "iteration 93 loss 2.011659131420558\n",
      "iteration 94 loss 2.015185118680791\n",
      "iteration 95 loss 2.018183227807608\n",
      "iteration 96 loss 2.017997225838531\n",
      "iteration 97 loss 2.014892254187193\n",
      "iteration 98 loss 2.0117273450506725\n",
      "iteration 99 loss 2.0113337716929585\n",
      "iteration 100 loss 2.013979923483617\n",
      "iteration 101 loss 2.0172076487508463\n",
      "iteration 102 loss 2.0181193837926643\n",
      "iteration 103 loss 2.0159710151948964\n",
      "iteration 104 loss 2.0127665484028667\n",
      "iteration 105 loss 2.0113988894849086\n",
      "iteration 106 loss 2.01303952783397\n",
      "iteration 107 loss 2.0161352089520204\n",
      "iteration 108 loss 2.0178803158460967\n",
      "iteration 109 loss 2.016756830788453\n",
      "iteration 110 loss 2.013844897298489\n",
      "iteration 111 loss 2.0117925329776027\n",
      "iteration 112 loss 2.012412200067245\n",
      "iteration 113 loss 2.015077751611642\n",
      "iteration 114 loss 2.017352503143453\n",
      "iteration 115 loss 2.017217729224697\n",
      "iteration 116 loss 2.0148563972198894\n",
      "iteration 117 loss 2.012432651011529\n",
      "iteration 118 loss 2.0121145585028035\n",
      "iteration 119 loss 2.01413323253672\n",
      "iteration 120 loss 2.016624589085381\n",
      "iteration 121 loss 2.017353027731311\n",
      "iteration 122 loss 2.0157129022416203\n",
      "iteration 123 loss 2.0132250673405134\n",
      "iteration 124 loss 2.0121325097832874\n",
      "iteration 125 loss 2.0133788514303883\n",
      "iteration 126 loss 2.0157930742591486\n",
      "iteration 127 loss 2.017190999483301\n",
      "iteration 128 loss 2.0163499462705867\n",
      "iteration 129 loss 2.014072285341679\n",
      "iteration 130 loss 2.0124248057688514\n",
      "iteration 131 loss 2.012866108904949\n",
      "iteration 132 loss 2.014953560140559\n",
      "iteration 133 loss 2.0167841837421543\n",
      "iteration 134 loss 2.016730341059889\n",
      "iteration 135 loss 2.014882229884218\n",
      "iteration 136 loss 2.0129288515673687\n",
      "iteration 137 loss 2.012618295304451\n",
      "iteration 138 loss 2.0141923931997594\n",
      "iteration 139 loss 2.0162027958117625\n",
      "iteration 140 loss 2.0168452321358705\n",
      "iteration 141 loss 2.015576076706131\n",
      "iteration 142 loss 2.013568154165305\n",
      "iteration 143 loss 2.012630638773892\n",
      "iteration 144 loss 2.0135795128073934\n",
      "iteration 145 loss 2.015526881882846\n",
      "iteration 146 loss 2.0167125715222105\n",
      "iteration 147 loss 2.016094445841255\n",
      "iteration 148 loss 2.0142606384026283\n",
      "iteration 149 loss 2.0128730444006324\n",
      "iteration 150 loss 2.0131631752726222\n",
      "iteration 151 loss 2.0148379857722443\n",
      "iteration 152 loss 2.0163732245868617\n",
      "iteration 153 loss 2.0164014271844497\n",
      "iteration 154 loss 2.0149269880980265\n",
      "iteration 155 loss 2.0132950764196464\n",
      "iteration 156 loss 2.0129670229635006\n",
      "iteration 157 loss 2.0142111381878904\n",
      "iteration 158 loss 2.0158851573406875\n",
      "iteration 159 loss 2.0164861409920523\n",
      "iteration 160 loss 2.015498196451849\n",
      "iteration 161 loss 2.013832603544615\n",
      "iteration 162 loss 2.0129897129248726\n",
      "iteration 163 loss 2.013707938388323\n",
      "iteration 164 loss 2.015316331242007\n",
      "iteration 165 loss 2.0163617898711745\n",
      "iteration 166 loss 2.015921621944859\n",
      "iteration 167 loss 2.014415369078583\n",
      "iteration 168 loss 2.0132070431476867\n",
      "iteration 169 loss 2.013371375059781\n",
      "iteration 170 loss 2.014737048830297\n",
      "iteration 171 loss 2.0160624076786156\n",
      "iteration 172 loss 2.016165026046812\n",
      "iteration 173 loss 2.0149746776530035\n",
      "iteration 174 loss 2.0135762500356758\n",
      "iteration 175 loss 2.0132228396794587\n",
      "iteration 176 loss 2.014212533516244\n",
      "iteration 177 loss 2.015637732308929\n",
      "iteration 178 loss 2.016218294382359\n",
      "iteration 179 loss 2.0154504122820054\n",
      "iteration 180 loss 2.0140419296130396\n",
      "iteration 181 loss 2.0132615428685963\n",
      "iteration 182 loss 2.013796485167875\n",
      "iteration 183 loss 2.015146803700999\n",
      "iteration 184 loss 2.016092788767726\n",
      "iteration 185 loss 2.01579670078828\n",
      "iteration 186 loss 2.014542883012544\n",
      "iteration 187 loss 2.013466280912254\n",
      "iteration 188 loss 2.013526232584216\n",
      "iteration 189 loss 2.014650999253783\n",
      "iteration 190 loss 2.0158185191236577\n",
      "iteration 191 loss 2.0159857228369757\n",
      "iteration 192 loss 2.015019118964457\n",
      "iteration 193 loss 2.013799247751898\n",
      "iteration 194 loss 2.0134199166779854\n",
      "iteration 195 loss 2.014207254995372\n",
      "iteration 196 loss 2.015439538825943\n",
      "iteration 197 loss 2.0160093656710685\n",
      "iteration 198 loss 2.0154182659153417\n",
      "iteration 199 loss 2.0142113777729\n",
      "iteration 200 loss 2.0134759052156137\n",
      "iteration 201 loss 2.0138621778155765\n",
      "iteration 202 loss 2.015008134634382\n",
      "iteration 203 loss 2.015878673649639\n",
      "iteration 204 loss 2.0157007466933696\n",
      "iteration 205 loss 2.014648560721053\n",
      "iteration 206 loss 2.0136743889483237\n",
      "iteration 207 loss 2.0136476356034962\n",
      "iteration 208 loss 2.0145784871046533\n",
      "iteration 209 loss 2.0156212693305515\n",
      "iteration 210 loss 2.0158432333963554\n",
      "iteration 211 loss 2.0150580064977217\n",
      "iteration 212 loss 2.013980870396208\n",
      "iteration 213 loss 2.0135782308978953\n",
      "iteration 214 loss 2.0142005089724306\n",
      "iteration 215 loss 2.015277129360785\n",
      "iteration 216 loss 2.0158401079755586\n",
      "iteration 217 loss 2.01539405774143\n",
      "iteration 218 loss 2.0143510590917995\n",
      "iteration 219 loss 2.0136508405533626\n",
      "iteration 220 loss 2.013914523998354\n",
      "iteration 221 loss 2.014893257230174\n",
      "iteration 222 loss 2.0157028808224298\n",
      "iteration 223 loss 2.015622844930368\n",
      "iteration 224 loss 2.0147365532502546\n",
      "iteration 225 loss 2.013846165747377\n",
      "iteration 226 loss 2.013747331917968\n",
      "iteration 227 loss 2.0145178918206565\n",
      "iteration 228 loss 2.0154577414293193\n",
      "iteration 229 loss 2.015725336889742\n",
      "iteration 230 loss 2.015090630851064\n",
      "iteration 231 loss 2.014132012410761\n",
      "iteration 232 loss 2.0137100297057606\n",
      "iteration 233 loss 2.0141949162339214\n",
      "iteration 234 loss 2.015141609566095\n",
      "iteration 235 loss 2.0156985382876247\n",
      "iteration 236 loss 2.0153734957442535\n",
      "iteration 237 loss 2.0144678387380615\n",
      "iteration 238 loss 2.013797746159773\n",
      "iteration 239 loss 2.0139590832930097\n",
      "iteration 240 loss 2.014797203367321\n",
      "iteration 241 loss 2.0155548016053673\n",
      "iteration 242 loss 2.0155564195238713\n",
      "iteration 243 loss 2.014809984583062\n",
      "iteration 244 loss 2.0139912218258447\n",
      "iteration 245 loss 2.013832558102144\n",
      "iteration 246 loss 2.0144677278987237\n",
      "iteration 247 loss 2.0153194306971165\n",
      "iteration 248 loss 2.0156243725722476\n",
      "iteration 249 loss 2.0151169491357637\n",
      "iteration 250 loss 2.0142599570647857\n",
      "iteration 251 loss 2.013823107922827\n",
      "iteration 252 loss 2.014191805802112\n",
      "iteration 253 loss 2.0150269347614267\n",
      "iteration 254 loss 2.0155769277118796\n",
      "iteration 255 loss 2.015354110242446\n",
      "iteration 256 loss 2.0145664826896796\n",
      "iteration 257 loss 2.0139240661125486\n",
      "iteration 258 loss 2.0139992193082987\n",
      "iteration 259 loss 2.014716427122012\n",
      "iteration 260 loss 2.015427424685766\n",
      "iteration 261 loss 2.015497373715178\n",
      "iteration 262 loss 2.0148711990029375\n",
      "iteration 263 loss 2.0141159851300072\n",
      "iteration 264 loss 2.0139079169190213\n",
      "iteration 265 loss 2.0144267392908235\n",
      "iteration 266 loss 2.0152005805338686\n",
      "iteration 267 loss 2.015535389242188\n",
      "iteration 268 loss 2.0151371906107336\n",
      "iteration 269 loss 2.0143696997303278\n",
      "iteration 270 loss 2.0139225727072443\n",
      "iteration 271 loss 2.0141918301448354\n",
      "iteration 272 loss 2.014928899068576\n",
      "iteration 273 loss 2.0154701514591884\n",
      "iteration 274 loss 2.0153344570419582\n",
      "iteration 275 loss 2.0146503686864095\n",
      "iteration 276 loss 2.01403479205596\n",
      "iteration 277 loss 2.0140370126409537\n",
      "iteration 278 loss 2.014648354862765\n",
      "iteration 279 loss 2.015315998516002\n",
      "iteration 280 loss 2.0154430952011526\n",
      "iteration 281 loss 2.0149219687494986\n",
      "iteration 282 loss 2.0142248590349623\n",
      "iteration 283 loss 2.0139764039082433\n",
      "iteration 284 loss 2.014393891235872\n",
      "iteration 285 loss 2.0150972042825597\n",
      "iteration 286 loss 2.015455114423425\n",
      "iteration 287 loss 2.01515168689327\n",
      "iteration 288 loss 2.014464742105987\n",
      "iteration 289 loss 2.014011843562836\n",
      "iteration 290 loss 2.0141952716751694\n",
      "iteration 291 loss 2.014844514427943\n",
      "iteration 292 loss 2.0153747392905794\n",
      "iteration 293 loss 2.0153136960547022\n",
      "iteration 294 loss 2.01472193782359\n",
      "iteration 295 loss 2.0141333400682204\n",
      "iteration 296 loss 2.0140737610940596\n",
      "iteration 297 loss 2.0145910849156183\n",
      "iteration 298 loss 2.0152172383360742\n",
      "iteration 299 loss 2.015391897351953\n",
      "iteration 300 loss 2.014963651842204\n",
      "iteration 301 loss 2.0143209192797635\n",
      "iteration 302 loss 2.014039995795411\n",
      "iteration 303 loss 2.014368333045318\n",
      "iteration 304 loss 2.0150064874939044\n",
      "iteration 305 loss 2.015381353553786\n",
      "iteration 306 loss 2.015160800025\n",
      "iteration 307 loss 2.014547586050707\n",
      "iteration 308 loss 2.0140932441409234\n",
      "iteration 309 loss 2.014202201369665\n",
      "iteration 310 loss 2.0147716170057417\n",
      "iteration 311 loss 2.015288305789955\n",
      "iteration 312 loss 2.015291358538818\n",
      "iteration 313 loss 2.01478298844484\n",
      "iteration 314 loss 2.01422208383344\n",
      "iteration 315 loss 2.0141102659511345\n",
      "iteration 316 loss 2.0145431846989346\n",
      "iteration 317 loss 2.015128837844937\n",
      "iteration 318 loss 2.015342691725464\n",
      "iteration 319 loss 2.0149973079859382\n",
      "iteration 320 loss 2.0144063487923862\n",
      "iteration 321 loss 2.014100001858594\n",
      "iteration 322 loss 2.0143493575081215\n",
      "iteration 323 loss 2.0149264100761246\n",
      "iteration 324 loss 2.0153126256934253\n",
      "iteration 325 loss 2.0151648940339166\n",
      "iteration 326 loss 2.0146200503789267\n",
      "iteration 327 loss 2.0141683660260123\n",
      "iteration 328 loss 2.0142125635307364\n",
      "iteration 329 loss 2.014708610623834\n",
      "iteration 330 loss 2.015209195824488\n",
      "iteration 331 loss 2.0152672134393406\n",
      "iteration 332 loss 2.0148348718467086\n",
      "iteration 333 loss 2.014302690367475\n",
      "iteration 334 loss 2.0141470023045076\n",
      "iteration 335 loss 2.0145035516926075\n",
      "iteration 336 loss 2.0150491582584644\n",
      "iteration 337 loss 2.0152947887394954\n",
      "iteration 338 loss 2.01502378276826\n",
      "iteration 339 loss 2.014482717726608\n",
      "iteration 340 loss 2.014157281547443\n",
      "iteration 341 loss 2.0143363651328063\n",
      "iteration 342 loss 2.014855500182092\n",
      "iteration 343 loss 2.0152479347351004\n",
      "iteration 344 loss 2.015164325779521\n",
      "iteration 345 loss 2.014683479798351\n",
      "iteration 346 loss 2.0142383000516424\n",
      "iteration 347 loss 2.0142262224195515\n",
      "iteration 348 loss 2.0146542952557938\n",
      "iteration 349 loss 2.0151362566267865\n",
      "iteration 350 loss 2.015241187805067\n",
      "iteration 351 loss 2.0148786253780275\n",
      "iteration 352 loss 2.014376338102279\n",
      "iteration 353 loss 2.0141842241047456\n",
      "iteration 354 loss 2.014471316734153\n",
      "iteration 355 loss 2.014977024337083\n",
      "iteration 356 loss 2.01524777206681\n",
      "iteration 357 loss 2.0150437687379763\n",
      "iteration 358 loss 2.0145511689783793\n",
      "iteration 359 loss 2.0142123838327235\n",
      "iteration 360 loss 2.01432883508963\n",
      "iteration 361 loss 2.014792669576219\n",
      "iteration 362 loss 2.015186621043965\n",
      "iteration 363 loss 2.01515944401791\n",
      "iteration 364 loss 2.014738886153157\n",
      "iteration 365 loss 2.014303787966527\n",
      "iteration 366 loss 2.0142429887001168\n",
      "iteration 367 loss 2.0146077497946355\n",
      "iteration 368 loss 2.015068686904529\n",
      "iteration 369 loss 2.0152133176756335\n",
      "iteration 370 loss 2.0149150646904146\n",
      "iteration 371 loss 2.0144438625874206\n",
      "iteration 372 loss 2.014222031224508\n",
      "iteration 373 loss 2.0144457758222933\n",
      "iteration 374 loss 2.014911586953668\n",
      "iteration 375 loss 2.0152014168494445\n",
      "iteration 376 loss 2.015057849807868\n",
      "iteration 377 loss 2.0146125442354763\n",
      "iteration 378 loss 2.0142656392611045\n",
      "iteration 379 loss 2.0143263025219653\n",
      "iteration 380 loss 2.0147371008584987\n",
      "iteration 381 loss 2.015128262353863\n",
      "iteration 382 loss 2.0151505915709707\n",
      "iteration 383 loss 2.014787046016391\n",
      "iteration 384 loss 2.014365324729723\n",
      "iteration 385 loss 2.0142626350076522\n",
      "iteration 386 loss 2.0145682503284674\n",
      "iteration 387 loss 2.0150059342167506\n",
      "iteration 388 loss 2.0151837166104687\n",
      "iteration 389 loss 2.0149448487390584\n",
      "iteration 390 loss 2.014505856355511\n",
      "iteration 391 loss 2.01426041377298\n",
      "iteration 392 loss 2.0144263414501355\n",
      "iteration 393 loss 2.01485222822518\n",
      "iteration 394 loss 2.0151556347219\n",
      "iteration 395 loss 2.0150665336145392\n",
      "iteration 396 loss 2.0146674715898576\n",
      "iteration 397 loss 2.014317222605179\n",
      "iteration 398 loss 2.0143283412676003\n",
      "iteration 399 loss 2.014688168564096\n",
      "iteration 400 loss 2.0150726056856443\n",
      "iteration 401 loss 2.0151381082480406\n",
      "iteration 402 loss 2.014828569426696\n",
      "iteration 403 loss 2.0144232293526585\n",
      "iteration 404 loss 2.0142849056090117\n",
      "iteration 405 loss 2.0145352121996662\n",
      "iteration 406 loss 2.014947623416678\n",
      "iteration 407 loss 2.0151525546694296\n",
      "iteration 408 loss 2.014968526215593\n",
      "iteration 409 loss 2.0145627389920255\n",
      "iteration 410 loss 2.0142992824345125\n",
      "iteration 411 loss 2.0144125075546184\n",
      "iteration 412 loss 2.01479849457595\n",
      "iteration 413 loss 2.0151104356672143\n",
      "iteration 414 loss 2.015070275117775\n",
      "iteration 415 loss 2.014716427679833\n",
      "iteration 416 loss 2.0143671967528194\n",
      "iteration 417 loss 2.0143345509715203\n",
      "iteration 418 loss 2.0146453829330557\n",
      "iteration 419 loss 2.015019519308961\n",
      "iteration 420 loss 2.015122333476963\n",
      "iteration 421 loss 2.014863949101317\n",
      "iteration 422 loss 2.01447769519229\n",
      "iteration 423 loss 2.0143095228618804\n",
      "iteration 424 loss 2.014508148351654\n",
      "iteration 425 loss 2.0148935055915724\n",
      "iteration 426 loss 2.0151200437071544\n",
      "iteration 427 loss 2.014986569067482\n",
      "iteration 428 loss 2.0146148073600245\n",
      "iteration 429 loss 2.014338490021713\n",
      "iteration 430 loss 2.014403824128776\n",
      "iteration 431 loss 2.0147500485729326\n",
      "iteration 432 loss 2.015065900697263\n",
      "iteration 433 loss 2.0150694937600155\n",
      "iteration 434 loss 2.0147597825564043\n",
      "iteration 435 loss 2.0144155443362077\n",
      "iteration 436 loss 2.014344547696572\n"
     ]
    },
    {
     "name": "stdout",
     "output_type": "stream",
     "text": [
      "iteration 437 loss 2.0146083492006284\n",
      "iteration 438 loss 2.0149689579672216\n",
      "iteration 439 loss 2.015103608226247\n",
      "iteration 440 loss 2.014893596145042\n",
      "iteration 441 loss 2.0145288264978847\n",
      "iteration 442 loss 2.014336191969153\n",
      "iteration 443 loss 2.0144866390685725\n",
      "iteration 444 loss 2.0148434208460153\n",
      "iteration 445 loss 2.0150864265466963\n",
      "iteration 446 loss 2.014999396857153\n",
      "iteration 447 loss 2.0146622722988337\n",
      "iteration 448 loss 2.0143778473853016\n",
      "iteration 449 loss 2.0143998788125494\n",
      "iteration 450 loss 2.0147066336669472\n",
      "iteration 451 loss 2.015022161653401\n",
      "iteration 452 loss 2.0150645858342946\n",
      "iteration 453 loss 2.0147978325676617\n",
      "iteration 454 loss 2.0144621911618805\n",
      "iteration 455 loss 2.014357957301564\n",
      "iteration 456 loss 2.014576737748017\n",
      "iteration 457 loss 2.0149209370834873\n",
      "iteration 458 loss 2.0150822760972797\n",
      "iteration 459 loss 2.014917866218674\n",
      "iteration 460 loss 2.0145766655490824\n",
      "iteration 461 loss 2.014364604860552\n",
      "iteration 462 loss 2.0144703098483663\n",
      "iteration 463 loss 2.0147972706494284\n",
      "iteration 464 loss 2.0150519685751944\n",
      "iteration 465 loss 2.0150073944978044\n",
      "iteration 466 loss 2.0147052858947583\n",
      "iteration 467 loss 2.0144171356203957\n",
      "iteration 468 loss 2.0144002836105046\n",
      "iteration 469 loss 2.014668048005213\n",
      "iteration 470 loss 2.014979385798441\n",
      "iteration 471 loss 2.0150559332420035\n",
      "iteration 472 loss 2.0148308247507027\n",
      "iteration 473 loss 2.014507024030157\n",
      "iteration 474 loss 2.014374411006786\n",
      "iteration 475 loss 2.0145502620156064\n",
      "iteration 476 loss 2.014875513188951\n",
      "iteration 477 loss 2.015058683603752\n",
      "iteration 478 loss 2.0149370788272387\n",
      "iteration 479 loss 2.0146212132055483\n",
      "iteration 480 loss 2.0143944436609833\n",
      "iteration 481 loss 2.014458815198043\n",
      "iteration 482 loss 2.014754996942297\n",
      "iteration 483 loss 2.0150169508787763\n",
      "iteration 484 loss 2.01501092511121\n",
      "iteration 485 loss 2.0147439620323344\n",
      "iteration 486 loss 2.014456115785089\n",
      "iteration 487 loss 2.014404665438219\n",
      "iteration 488 loss 2.014634124761065\n",
      "iteration 489 loss 2.0149377637110346\n",
      "iteration 490 loss 2.015043909497299\n",
      "iteration 491 loss 2.014858975074091\n",
      "iteration 492 loss 2.014549904621903\n",
      "iteration 493 loss 2.014393542690731\n",
      "iteration 494 loss 2.0145286620812897\n",
      "iteration 495 loss 2.0148327687665213\n",
      "iteration 496 loss 2.015033179716397\n",
      "iteration 497 loss 2.014951531545984\n",
      "iteration 498 loss 2.014662444733857\n",
      "iteration 499 loss 2.014425383992038\n",
      "iteration 500 loss 2.014451826823761\n"
     ]
    }
   ],
   "source": [
    "while gradient > tol or count < 500:\n",
    "    x = y0 - 0.001*gradient\n",
    "    y0 = x +(count-1)/(count+2) *(x -x0)\n",
    "    gradient = grad(x)\n",
    "    x0 = x\n",
    "    llh.append(log_likelihood(x0))\n",
    "    count = count +1\n",
    "    value.append(x0)\n",
    "    loss.append(x0)\n",
    "    print('iteration', count, 'loss', x0)\n",
    "    \n"
   ]
  },
  {
   "cell_type": "code",
   "execution_count": 40,
   "metadata": {},
   "outputs": [
    {
     "data": {
      "text/plain": [
       "Text(0, 0.5, 'Log-Likelihood')"
      ]
     },
     "execution_count": 40,
     "metadata": {},
     "output_type": "execute_result"
    },
    {
     "data": {
      "image/png": "[encoded data removed]",
      "text/plain": [
       "<Figure size 432x288 with 1 Axes>"
      ]
     },
     "metadata": {
      "needs_background": "light"
     },
     "output_type": "display_data"
    }
   ],
   "source": [
    "i = list(range(1,101))\n",
    "\n",
    "plt.plot(i, llh[0:100], linewidth = 2)\n",
    "plt.xlabel('Iteration')\n",
    "plt.ylabel('Log-Likelihood')"
   ]
  },
  {
   "cell_type": "code",
   "execution_count": 41,
   "metadata": {},
   "outputs": [
    {
     "data": {
      "text/plain": [
       "' The Accelerated Gradient Descent converged after 42 iteration and Alpha = 2.01471, Beta = 0.23995 '"
      ]
     },
     "execution_count": 41,
     "metadata": {},
     "output_type": "execute_result"
    }
   ],
   "source": [
    "\"\"\" The Accelerated Gradient Descent converged after 42 iteration and Alpha = 2.01471, Beta = 0.23995 \"\"\"\n",
    "\n"
   ]
  },
  {
   "cell_type": "code",
   "execution_count": 42,
   "metadata": {},
   "outputs": [],
   "source": [
    "def hess(a):\n",
    "    f = n * 1/a - n*polygamma(2,a)\n",
    "    return f\n",
    "    \n"
   ]
  },
  {
   "cell_type": "code",
   "execution_count": 43,
   "metadata": {},
   "outputs": [],
   "source": [
    "x0 = np.random.uniform(low =1, high =1, size =1 )"
   ]
  },
  {
   "cell_type": "code",
   "execution_count": 44,
   "metadata": {},
   "outputs": [],
   "source": [
    "llog =[]\n",
    "values = []\n",
    "for i in range(0,100):\n",
    "    x = x0 - grad(x0)/hess(x0)\n",
    "    x0 =x\n",
    "    s = log_likelihood(x0)\n",
    "    llog.append(s)\n",
    "    values.append(x0)\n",
    "    \n",
    "    "
   ]
  },
  {
   "cell_type": "code",
   "execution_count": 45,
   "metadata": {},
   "outputs": [
    {
     "data": {
      "text/plain": [
       "Text(0, 0.5, 'Log_likelihood')"
      ]
     },
     "execution_count": 45,
     "metadata": {},
     "output_type": "execute_result"
    },
    {
     "data": {
      "image/png": "[encoded data removed]",
      "text/plain": [
       "<Figure size 432x288 with 1 Axes>"
      ]
     },
     "metadata": {
      "needs_background": "light"
     },
     "output_type": "display_data"
    }
   ],
   "source": [
    "i  = list(range(0,10))\n",
    "plt.plot(i, llog[0:10], linewidth = 2)\n",
    "plt.xlabel(\"Iteration\")\n",
    "plt.ylabel(\"Log_likelihood\")"
   ]
  },
  {
   "cell_type": "code",
   "execution_count": 46,
   "metadata": {},
   "outputs": [
    {
     "data": {
      "text/plain": [
       "array([2.01471874])"
      ]
     },
     "execution_count": 46,
     "metadata": {},
     "output_type": "execute_result"
    }
   ],
   "source": [
    "values[4]"
   ]
  },
  {
   "cell_type": "code",
   "execution_count": 47,
   "metadata": {},
   "outputs": [
    {
     "data": {
      "text/plain": [
       "'Value of alpha is 2.01471 and beta is 0.23994'"
      ]
     },
     "execution_count": 47,
     "metadata": {},
     "output_type": "execute_result"
    }
   ],
   "source": [
    "\"Value of alpha is 2.01471 and beta is 0.23994\""
   ]
  },
  {
   "cell_type": "code",
   "execution_count": null,
   "metadata": {},
   "outputs": [],
   "source": []
  }
 ],
 "metadata": {
  "kernelspec": {
   "display_name": "Python 3",
   "language": "python",
   "name": "python3"
  },
  "language_info": {
   "codemirror_mode": {
    "name": "ipython",
    "version": 3
   },
   "file_extension": ".py",
   "mimetype": "text/x-python",
   "name": "python",
   "nbconvert_exporter": "python",
   "pygments_lexer": "ipython3",
   "version": "3.7.4"
  }
 },
 "nbformat": 4,
 "nbformat_minor": 2
}
