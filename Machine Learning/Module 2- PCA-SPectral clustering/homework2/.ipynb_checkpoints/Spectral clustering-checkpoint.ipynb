{
 "cells": [
  {
   "cell_type": "code",
   "execution_count": 93,
   "metadata": {},
   "outputs": [
    {
     "data": {
      "text/html": [
       "<div>\n",
       "<style scoped>\n",
       "    .dataframe tbody tr th:only-of-type {\n",
       "        vertical-align: middle;\n",
       "    }\n",
       "\n",
       "    .dataframe tbody tr th {\n",
       "        vertical-align: top;\n",
       "    }\n",
       "\n",
       "    .dataframe thead th {\n",
       "        text-align: right;\n",
       "    }\n",
       "</style>\n",
       "<table border=\"1\" class=\"dataframe\">\n",
       "  <thead>\n",
       "    <tr style=\"text-align: right;\">\n",
       "      <th></th>\n",
       "      <th>0</th>\n",
       "      <th>1</th>\n",
       "      <th>2</th>\n",
       "      <th>3</th>\n",
       "    </tr>\n",
       "  </thead>\n",
       "  <tbody>\n",
       "    <tr>\n",
       "      <td>0</td>\n",
       "      <td>1</td>\n",
       "      <td>100monkeystyping.com</td>\n",
       "      <td>0.0</td>\n",
       "      <td>Blogarama</td>\n",
       "    </tr>\n",
       "    <tr>\n",
       "      <td>1</td>\n",
       "      <td>2</td>\n",
       "      <td>12thharmonic.com/wordpress</td>\n",
       "      <td>0.0</td>\n",
       "      <td>BlogCatalog</td>\n",
       "    </tr>\n",
       "    <tr>\n",
       "      <td>2</td>\n",
       "      <td>3</td>\n",
       "      <td>40ozblog.blogspot.com</td>\n",
       "      <td>0.0</td>\n",
       "      <td>Blogarama,BlogCatalog</td>\n",
       "    </tr>\n",
       "    <tr>\n",
       "      <td>3</td>\n",
       "      <td>4</td>\n",
       "      <td>4lina.tblog.com</td>\n",
       "      <td>0.0</td>\n",
       "      <td>Blogarama</td>\n",
       "    </tr>\n",
       "    <tr>\n",
       "      <td>4</td>\n",
       "      <td>5</td>\n",
       "      <td>750volts.blogspot.com</td>\n",
       "      <td>0.0</td>\n",
       "      <td>Blogarama</td>\n",
       "    </tr>\n",
       "    <tr>\n",
       "      <td>...</td>\n",
       "      <td>...</td>\n",
       "      <td>...</td>\n",
       "      <td>...</td>\n",
       "      <td>...</td>\n",
       "    </tr>\n",
       "    <tr>\n",
       "      <td>1485</td>\n",
       "      <td>1486</td>\n",
       "      <td>youngconservative.blogspot.com</td>\n",
       "      <td>1.0</td>\n",
       "      <td>Blogarama</td>\n",
       "    </tr>\n",
       "    <tr>\n",
       "      <td>1486</td>\n",
       "      <td>1487</td>\n",
       "      <td>zebrax.blogs.com</td>\n",
       "      <td>1.0</td>\n",
       "      <td>BlogCatalog</td>\n",
       "    </tr>\n",
       "    <tr>\n",
       "      <td>1487</td>\n",
       "      <td>1488</td>\n",
       "      <td>zeke01.blogspot.com</td>\n",
       "      <td>1.0</td>\n",
       "      <td>Blogarama,BlogCatalog</td>\n",
       "    </tr>\n",
       "    <tr>\n",
       "      <td>1488</td>\n",
       "      <td>1489</td>\n",
       "      <td>zeke01.typepad.com</td>\n",
       "      <td>1.0</td>\n",
       "      <td>Blogarama</td>\n",
       "    </tr>\n",
       "    <tr>\n",
       "      <td>1489</td>\n",
       "      <td>1490</td>\n",
       "      <td>zeph1z.tripod.com/blog</td>\n",
       "      <td>1.0</td>\n",
       "      <td>Blogarama</td>\n",
       "    </tr>\n",
       "  </tbody>\n",
       "</table>\n",
       "<p>1490 rows × 4 columns</p>\n",
       "</div>"
      ],
      "text/plain": [
       "         0                               1    2                      3\n",
       "0        1            100monkeystyping.com  0.0              Blogarama\n",
       "1        2      12thharmonic.com/wordpress  0.0            BlogCatalog\n",
       "2        3           40ozblog.blogspot.com  0.0  Blogarama,BlogCatalog\n",
       "3        4                 4lina.tblog.com  0.0              Blogarama\n",
       "4        5           750volts.blogspot.com  0.0              Blogarama\n",
       "...    ...                             ...  ...                    ...\n",
       "1485  1486  youngconservative.blogspot.com  1.0              Blogarama\n",
       "1486  1487                zebrax.blogs.com  1.0            BlogCatalog\n",
       "1487  1488             zeke01.blogspot.com  1.0  Blogarama,BlogCatalog\n",
       "1488  1489              zeke01.typepad.com  1.0              Blogarama\n",
       "1489  1490          zeph1z.tripod.com/blog  1.0              Blogarama\n",
       "\n",
       "[1490 rows x 4 columns]"
      ]
     },
     "execution_count": 93,
     "metadata": {},
     "output_type": "execute_result"
    }
   ],
   "source": [
    "import pandas as pd\n",
    "import numpy as np\n",
    "import random\n",
    "import matplotlib.pyplot as plt\n",
    "import copy\n",
    "\n",
    "nodes = pd.read_csv('nodes.txt', sep=\"\\t\", header=None)\n",
    "edges = pd.read_csv('edges.txt', sep = \"\\t\", header = None)"
   ]
  },
  {
   "cell_type": "code",
   "execution_count": 13,
   "metadata": {},
   "outputs": [],
   "source": [
    "n = 1490\n",
    "\n",
    "# build adjacency matrix\n",
    "A = np.zeros((n,n))\n",
    "\n",
    "for i in range(len(edges)):\n",
    "    node1 = edges.iloc[i,0]\n",
    "    node2 = edges.iloc[i,1]\n",
    "    if A[node1-1,node2-1] == 0 or A[node2-1,node1-1] == 0:\n",
    "        A[node1-1,node2-1] = 1\n",
    "        A[node2-1,node1-1] = 1\n"
   ]
  },
  {
   "cell_type": "code",
   "execution_count": 21,
   "metadata": {},
   "outputs": [],
   "source": [
    "#build degree matrix D\n",
    "D = np.zeros((n,n))\n",
    "\n",
    "for i in range(n):\n",
    "    D[i,i]= sum(A[:,i])\n",
    "\n",
    "    "
   ]
  },
  {
   "cell_type": "code",
   "execution_count": 24,
   "metadata": {},
   "outputs": [],
   "source": [
    "#build graph Laplacian, get eigenvectors and eigenvalues\n",
    "L = D-A\n",
    "#vals is eigenvalues in ascending matrix. vals[i]\n",
    "\n",
    "#vecs is normalized eigenvector corresponding to eigenvalues. Vecs[:,i] is corresponding eigenvector of val[i]\n",
    "vals, vecs = np.linalg.eigh(L)"
   ]
  },
  {
   "cell_type": "code",
   "execution_count": 108,
   "metadata": {},
   "outputs": [],
   "source": [
    "k = 2\n",
    "Z=vecs[:,:k]\n",
    "np.random.seed(0)"
   ]
  },
  {
   "cell_type": "code",
   "execution_count": 122,
   "metadata": {},
   "outputs": [],
   "source": [
    "\"\"\"k-Mean algorithm\"\"\"\n",
    "\n",
    "#randomly initializing centers\n",
    "centers = Z[np.random.choice(Z.shape[0],k,replace =False)]\n",
    "\n",
    "from copy import deepcopy\n",
    "centers_old = np.zeros(centers.shape) # to store old centers\n",
    "centers_new = deepcopy(centers) # Store new centers\n",
    "\n",
    "labels = np.zeros(n)\n",
    "distances = np.zeros((n,k))\n",
    "\n",
    "error = np.linalg.norm(centers_new - centers_old)\n",
    "\n",
    "#Looping until convergence (error =0)\n",
    "while error != 0:\n",
    "    # Calculating Euclidian distance from each datapoint to centers\n",
    "    for i in range(k):\n",
    "        distances[:,i] = np.linalg.norm(Z - centers[i], axis=1)\n",
    "    # Assign all training data to closest center\n",
    "    labels = np.argmin(distances, axis = 1)\n",
    "    \n",
    "    centers_old = deepcopy(centers_new)\n",
    "    # Calculate mean for every cluster and update the center\n",
    "    for i in range(k):\n",
    "        centers_new[i] = np.mean(Z[labels == i], axis=0)\n",
    "    error = np.linalg.norm(centers_new - centers_old)"
   ]
  },
  {
   "cell_type": "code",
   "execution_count": 123,
   "metadata": {},
   "outputs": [
    {
     "data": {
      "text/plain": [
       "array([1, 1, 1, ..., 0, 0, 0], dtype=int64)"
      ]
     },
     "execution_count": 123,
     "metadata": {},
     "output_type": "execute_result"
    }
   ],
   "source": [
    "labels"
   ]
  },
  {
   "cell_type": "code",
   "execution_count": 124,
   "metadata": {},
   "outputs": [
    {
     "name": "stdout",
     "output_type": "stream",
     "text": [
      "The accuracy of spectral clustering for this dataset is: 0.5966442953020135\n"
     ]
    }
   ],
   "source": [
    "mislabel = 0\n",
    "for i in range(n):\n",
    "    if labels[i]!=nodes.iloc[i,2]:\n",
    "        mislabel+=1\n",
    "    accuracy = mislabel/n\n",
    "print('The accuracy of spectral clustering for this dataset is:', accuracy)"
   ]
  },
  {
   "cell_type": "code",
   "execution_count": null,
   "metadata": {},
   "outputs": [],
   "source": []
  },
  {
   "cell_type": "code",
   "execution_count": null,
   "metadata": {},
   "outputs": [],
   "source": []
  }
 ],
 "metadata": {
  "kernelspec": {
   "display_name": "Python 3",
   "language": "python",
   "name": "python3"
  },
  "language_info": {
   "codemirror_mode": {
    "name": "ipython",
    "version": 3
   },
   "file_extension": ".py",
   "mimetype": "text/x-python",
   "name": "python",
   "nbconvert_exporter": "python",
   "pygments_lexer": "ipython3",
   "version": "3.7.4"
  }
 },
 "nbformat": 4,
 "nbformat_minor": 2
}
