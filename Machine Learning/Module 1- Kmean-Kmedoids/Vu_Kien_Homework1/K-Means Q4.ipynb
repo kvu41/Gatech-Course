{
 "cells": [
  {
   "cell_type": "code",
   "execution_count": 120,
   "metadata": {},
   "outputs": [],
   "source": [
    "from skimage import io\n",
    "import numpy as np\n"
   ]
  },
  {
   "cell_type": "code",
   "execution_count": 121,
   "metadata": {},
   "outputs": [],
   "source": [
    "image = io.imread('football.bmp')"
   ]
  },
  {
   "cell_type": "code",
   "execution_count": 122,
   "metadata": {},
   "outputs": [
    {
     "data": {
      "text/plain": [
       "(412, 620, 3)"
      ]
     },
     "execution_count": 122,
     "metadata": {},
     "output_type": "execute_result"
    }
   ],
   "source": [
    "image.shape"
   ]
  },
  {
   "cell_type": "code",
   "execution_count": 123,
   "metadata": {},
   "outputs": [],
   "source": [
    "rows = image.shape[0]\n",
    "cols = image.shape[1]"
   ]
  },
  {
   "cell_type": "code",
   "execution_count": 124,
   "metadata": {},
   "outputs": [],
   "source": [
    "flat_img= image.reshape(image.shape[0]*image.shape[1],3)"
   ]
  },
  {
   "cell_type": "code",
   "execution_count": 125,
   "metadata": {},
   "outputs": [
    {
     "data": {
      "text/plain": [
       "(255440, 3)"
      ]
     },
     "execution_count": 125,
     "metadata": {},
     "output_type": "execute_result"
    }
   ],
   "source": [
    "flat_img.shape"
   ]
  },
  {
   "cell_type": "code",
   "execution_count": 126,
   "metadata": {},
   "outputs": [],
   "source": [
    "#number of pixels \n",
    "n = flat_img.shape[0]\n",
    "c = flat_img.shape[1]"
   ]
  },
  {
   "cell_type": "code",
   "execution_count": 135,
   "metadata": {},
   "outputs": [],
   "source": [
    "#number of clusters \n",
    "k=120\n",
    "#randomly initializing centers\n",
    "centers = flat_img[np.random.choice(flat_img.shape[0],k,replace =False)]"
   ]
  },
  {
   "cell_type": "code",
   "execution_count": 136,
   "metadata": {},
   "outputs": [],
   "source": [
    "from copy import deepcopy\n",
    "centers_old = np.zeros(centers.shape) # to store old centers\n",
    "centers_new = deepcopy(centers) # Store new centers\n",
    "\n",
    "clusters = np.zeros(n)\n",
    "distances = np.zeros((n,k))\n",
    "\n",
    "error = np.linalg.norm(centers_new - centers_old)\n",
    "\n",
    "# When, after an update, the estimate of that center stays the same, exit loop\n",
    "while error != 0:\n",
    "    # Measure the distance to every center\n",
    "    for i in range(k):\n",
    "        distances[:,i] = np.linalg.norm(flat_img - centers[i], axis=1)\n",
    "    # Assign all training data to closest center\n",
    "    clusters = np.argmin(distances, axis = 1)\n",
    "    \n",
    "    centers_old = deepcopy(centers_new)\n",
    "    # Calculate mean for every cluster and update the center\n",
    "    for i in range(k):\n",
    "        centers_new[i] = np.mean(flat_img[clusters == i], axis=0)\n",
    "    error = np.linalg.norm(centers_new - centers_old)\n",
    "\n"
   ]
  },
  {
   "cell_type": "code",
   "execution_count": 137,
   "metadata": {},
   "outputs": [
    {
     "data": {
      "text/plain": [
       "Array([[ 17,  62, 118],\n",
       "       [ 41,  44,  50],\n",
       "       [130, 137, 137],\n",
       "       [190, 143,  92],\n",
       "       [ 71,  66,  42],\n",
       "       [194, 123,  86],\n",
       "       [168, 181, 212],\n",
       "       [166, 109,  81],\n",
       "       [182, 148, 128],\n",
       "       [173, 133, 112],\n",
       "       [ 87,  84,  72],\n",
       "       [ 48,  47,  18],\n",
       "       [ 34,  28,  22],\n",
       "       [ 67,  81,  90],\n",
       "       [ 77,  67,  56],\n",
       "       [221, 182, 165],\n",
       "       [196, 207, 234],\n",
       "       [118, 143,  84],\n",
       "       [ 41,  49,  31],\n",
       "       [ 63,  59,  59],\n",
       "       [222, 225, 224],\n",
       "       [216, 223, 231],\n",
       "       [ 45,  88, 159],\n",
       "       [233, 237, 242],\n",
       "       [201, 195, 184],\n",
       "       [ 29,  74, 134],\n",
       "       [112, 135,  77],\n",
       "       [170, 172, 166],\n",
       "       [200, 188, 113],\n",
       "       [158, 153, 149],\n",
       "       [106,  93,  45],\n",
       "       [  4,  52, 106],\n",
       "       [208, 188, 175],\n",
       "       [ 50,  41,  32],\n",
       "       [117, 126, 138],\n",
       "       [126, 125, 123],\n",
       "       [191, 182, 174],\n",
       "       [113, 138,  91],\n",
       "       [177, 129, 100],\n",
       "       [233, 234, 236],\n",
       "       [110, 135,  81],\n",
       "       [102, 116, 129],\n",
       "       [119,  96,  80],\n",
       "       [ 66,  60,  34],\n",
       "       [ 84,  94,  57],\n",
       "       [ 88,  95,  97],\n",
       "       [198, 205, 207],\n",
       "       [173, 110,  81],\n",
       "       [216, 211, 199],\n",
       "       [121, 126,  93],\n",
       "       [154, 129, 116],\n",
       "       [ 34,  34,  13],\n",
       "       [126,  94,  70],\n",
       "       [167, 143, 126],\n",
       "       [ 64,  50,  24],\n",
       "       [109, 109,  63],\n",
       "       [201, 168, 139],\n",
       "       [236, 223, 153],\n",
       "       [192, 170, 156],\n",
       "       [189, 201, 224],\n",
       "       [151, 102,  81],\n",
       "       [189, 134, 110],\n",
       "       [142, 146, 145],\n",
       "       [ 86,  95,  87],\n",
       "       [ 66,  66,  72],\n",
       "       [ 51,  53,  51],\n",
       "       [141, 161, 103],\n",
       "       [ 94,  80,  62],\n",
       "       [118, 129,  91],\n",
       "       [122, 133, 156],\n",
       "       [172, 181, 188],\n",
       "       [ 85,  72,  62],\n",
       "       [158, 163, 159],\n",
       "       [ 30,  22,  13],\n",
       "       [165, 152, 139],\n",
       "       [169, 119,  98],\n",
       "       [124, 148, 100],\n",
       "       [108, 133,  77],\n",
       "       [ 62,  73,  67],\n",
       "       [ 94, 127, 186],\n",
       "       [ 21,  39,  69],\n",
       "       [ 16,  16,  15],\n",
       "       [121, 108,  98],\n",
       "       [203, 175, 160],\n",
       "       [ 76,  78,  43],\n",
       "       [234, 193, 150],\n",
       "       [ 76,  96, 114],\n",
       "       [216, 219, 218],\n",
       "       [182, 116,  84],\n",
       "       [138, 167, 121],\n",
       "       [223, 230, 241],\n",
       "       [241, 244, 246],\n",
       "       [102, 102,  89],\n",
       "       [ 88, 104, 119],\n",
       "       [121, 133,  87],\n",
       "       [182, 159, 144],\n",
       "       [111, 123,  81],\n",
       "       [212, 205, 139],\n",
       "       [226, 202, 139],\n",
       "       [ 89,  88,  83],\n",
       "       [130, 149, 182],\n",
       "       [192, 145, 125],\n",
       "       [128, 152,  94],\n",
       "       [223, 175, 156],\n",
       "       [156, 124, 103],\n",
       "       [218, 222, 221],\n",
       "       [197, 189, 178],\n",
       "       [133, 157,  97],\n",
       "       [220, 226, 232],\n",
       "       [ 31,  38,  34],\n",
       "       [125, 143,  92],\n",
       "       [174, 144, 127],\n",
       "       [100, 118,  73],\n",
       "       [210, 215, 217],\n",
       "       [241, 191, 173],\n",
       "       [225, 229, 228],\n",
       "       [ 91, 123,  90],\n",
       "       [160, 165, 144],\n",
       "       [  9,  25,  53],\n",
       "       [179, 191, 216]], dtype=uint8)"
      ]
     },
     "execution_count": 137,
     "metadata": {},
     "output_type": "execute_result"
    }
   ],
   "source": [
    "centers_new"
   ]
  },
  {
   "cell_type": "code",
   "execution_count": 138,
   "metadata": {},
   "outputs": [],
   "source": [
    "labels = clusters.reshape(rows,cols)"
   ]
  },
  {
   "cell_type": "code",
   "execution_count": 139,
   "metadata": {},
   "outputs": [
    {
     "name": "stderr",
     "output_type": "stream",
     "text": [
      "Lossy conversion from int64 to uint8. Range [0, 119]. Convert image to uint8 prior to saving to suppress this warning.\n"
     ]
    }
   ],
   "source": [
    "np.save('fb2.npy',centers_new)    \n",
    "io.imsave('c_fb2.png',labels)"
   ]
  },
  {
   "cell_type": "code",
   "execution_count": null,
   "metadata": {},
   "outputs": [],
   "source": []
  },
  {
   "cell_type": "code",
   "execution_count": null,
   "metadata": {},
   "outputs": [],
   "source": []
  }
 ],
 "metadata": {
  "kernelspec": {
   "display_name": "Python 3",
   "language": "python",
   "name": "python3"
  },
  "language_info": {
   "codemirror_mode": {
    "name": "ipython",
    "version": 3
   },
   "file_extension": ".py",
   "mimetype": "text/x-python",
   "name": "python",
   "nbconvert_exporter": "python",
   "pygments_lexer": "ipython3",
   "version": "3.7.4"
  }
 },
 "nbformat": 4,
 "nbformat_minor": 2
}
