{
 "cells": [
  {
   "cell_type": "code",
   "execution_count": 1,
   "metadata": {},
   "outputs": [],
   "source": [
    "import numpy as np \n",
    "from scipy.spatial.distance import cdist"
   ]
  },
  {
   "cell_type": "code",
   "execution_count": 2,
   "metadata": {},
   "outputs": [],
   "source": [
    "def medoids_init(X,k):\n",
    "    return X[np.random.choice(X.shape[0],k, replace=False)]"
   ]
  },
  {
   "cell_type": "code",
   "execution_count": 15,
   "metadata": {},
   "outputs": [],
   "source": [
    "def distance(X, medoids):\n",
    "    m = len(X)\n",
    "    medoids_shape = medoids.shape\n",
    "    \n",
    "    if len(medoids_shape)==1:\n",
    "        medoids = medoids.reshape((1, len(medoids)))\n",
    "    k= len(medoids)\n",
    "    \n",
    "    S = np.empty((m,k))\n",
    "    \n",
    "    for i in range(m):\n",
    "        d_i = np.linalg.norm(X[i,:]-medoids, axis = 1)\n",
    "\n",
    "        S[i,:] = d_i\n",
    "        return S\n",
    "\n",
    "\n",
    "    \n",
    "    "
   ]
  },
  {
   "cell_type": "code",
   "execution_count": 16,
   "metadata": {},
   "outputs": [],
   "source": [
    "def assign_labels(D):\n",
    "    return np.argmin(D, axis =1)"
   ]
  },
  {
   "cell_type": "code",
   "execution_count": 17,
   "metadata": {},
   "outputs": [],
   "source": [
    "def update_medoids(X,medoids):\n",
    "    D= distance(X, medoids)\n",
    "    labels = assign_labels(D)\n",
    "    \n",
    "    out_medoids = medoids\n",
    "    \n",
    "    for i in set(labels):\n",
    "        avg_dissimilarity = np.sum(distance(X,medoids[i]))\n",
    "        cluster_points = X[labels ==i]\n",
    "        for datap in cluster_points:\n",
    "            new_medoid = datap\n",
    "            new_dissimilarity = np.sum(distance(X, datap))\n",
    "            if new_dissimilarity < avg_dissimilarity:\n",
    "                avg_dissimilarity = new_dissimilarity\n",
    "                \n",
    "                out_medoids[i] = datap\n",
    "                \n",
    "    return out_medoids\n",
    "                \n",
    "                "
   ]
  },
  {
   "cell_type": "code",
   "execution_count": 18,
   "metadata": {},
   "outputs": [],
   "source": [
    "def has_converged(old_medoids, medoids):\n",
    "    return set([tuple(x) for x in old_medoids]) == set([tuple(x) for x in medoids])"
   ]
  },
  {
   "cell_type": "code",
   "execution_count": 19,
   "metadata": {},
   "outputs": [],
   "source": [
    "def kmedoids(X, k, max_steps = np.inf):\n",
    "    \n",
    "    medoids = medoids_init(X,k)\n",
    "    \n",
    "    converged = False\n",
    "    \n",
    "    labels = np.zeros(len(X))\n",
    "    \n",
    "    i = 1\n",
    "    \n",
    "    while (not converged) and (i <= max_steps):\n",
    "        \n",
    "        old_medoids = medoids.copy()\n",
    "        \n",
    "        D = distance(X,medoids)\n",
    "        \n",
    "        labels = assign_labels(D)\n",
    "        \n",
    "        medoids = update_medoids(X, medoids)\n",
    "        \n",
    "        converged = has_converged(old_medoids, medoids)\n",
    "        \n",
    "        i+=1\n",
    "        \n",
    "    return (medoids, labels)\n",
    "    "
   ]
  },
  {
   "cell_type": "code",
   "execution_count": 20,
   "metadata": {},
   "outputs": [],
   "source": [
    "from skimage import io\n",
    "import numpy as np"
   ]
  },
  {
   "cell_type": "code",
   "execution_count": 21,
   "metadata": {},
   "outputs": [],
   "source": [
    "image = io.imread('football.bmp')"
   ]
  },
  {
   "cell_type": "code",
   "execution_count": 22,
   "metadata": {},
   "outputs": [],
   "source": [
    "rows = image.shape[0]\n",
    "cols = image.shape[1]\n",
    "X = image.reshape(image.shape[0]*image.shape[1],3)\n",
    "k = 5"
   ]
  },
  {
   "cell_type": "code",
   "execution_count": 23,
   "metadata": {},
   "outputs": [],
   "source": [
    "initial_medoids = medoids_init(X,k)"
   ]
  },
  {
   "cell_type": "code",
   "execution_count": 24,
   "metadata": {},
   "outputs": [
    {
     "data": {
      "text/plain": [
       "Array([[ 56,  43,  35],\n",
       "       [ 86,  93,  99],\n",
       "       [196, 180, 165],\n",
       "       [108, 121, 153],\n",
       "       [233, 235, 234]], dtype=uint8)"
      ]
     },
     "execution_count": 24,
     "metadata": {},
     "output_type": "execute_result"
    }
   ],
   "source": [
    "initial_medoids"
   ]
  },
  {
   "cell_type": "code",
   "execution_count": 25,
   "metadata": {},
   "outputs": [],
   "source": [
    "D = distance(X,initial_medoids)"
   ]
  },
  {
   "cell_type": "code",
   "execution_count": 26,
   "metadata": {},
   "outputs": [
    {
     "data": {
      "text/plain": [
       "(255440, 5)"
      ]
     },
     "execution_count": 26,
     "metadata": {},
     "output_type": "execute_result"
    }
   ],
   "source": [
    "D.shape"
   ]
  },
  {
   "cell_type": "code",
   "execution_count": 27,
   "metadata": {},
   "outputs": [],
   "source": [
    "labels = assign_labels(D)"
   ]
  },
  {
   "cell_type": "code",
   "execution_count": null,
   "metadata": {},
   "outputs": [],
   "source": [
    "(medoids, labels)= kmedoids(X,5)"
   ]
  },
  {
   "cell_type": "code",
   "execution_count": null,
   "metadata": {},
   "outputs": [],
   "source": []
  }
 ],
 "metadata": {
  "kernelspec": {
   "display_name": "Python 3",
   "language": "python",
   "name": "python3"
  },
  "language_info": {
   "codemirror_mode": {
    "name": "ipython",
    "version": 3
   },
   "file_extension": ".py",
   "mimetype": "text/x-python",
   "name": "python",
   "nbconvert_exporter": "python",
   "pygments_lexer": "ipython3",
   "version": "3.7.4"
  }
 },
 "nbformat": 4,
 "nbformat_minor": 2
}
