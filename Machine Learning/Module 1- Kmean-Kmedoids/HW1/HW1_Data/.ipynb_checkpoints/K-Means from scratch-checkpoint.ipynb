{
 "cells": [
  {
   "cell_type": "code",
   "execution_count": 1,
   "metadata": {},
   "outputs": [],
   "source": [
    "from skimage import io\n",
    "import numpy as np\n"
   ]
  },
  {
   "cell_type": "code",
   "execution_count": 2,
   "metadata": {},
   "outputs": [],
   "source": [
    "image = io.imread('football.bmp')"
   ]
  },
  {
   "cell_type": "code",
   "execution_count": 3,
   "metadata": {},
   "outputs": [
    {
     "data": {
      "text/plain": [
       "(412, 620, 3)"
      ]
     },
     "execution_count": 3,
     "metadata": {},
     "output_type": "execute_result"
    }
   ],
   "source": [
    "image.shape"
   ]
  },
  {
   "cell_type": "code",
   "execution_count": 4,
   "metadata": {},
   "outputs": [],
   "source": [
    "rows = image.shape[0]\n",
    "cols = image.shape[1]"
   ]
  },
  {
   "cell_type": "code",
   "execution_count": 5,
   "metadata": {},
   "outputs": [],
   "source": [
    "flat_img= image.reshape(image.shape[0]*image.shape[1],3)"
   ]
  },
  {
   "cell_type": "code",
   "execution_count": 6,
   "metadata": {},
   "outputs": [
    {
     "data": {
      "text/plain": [
       "(255440, 3)"
      ]
     },
     "execution_count": 6,
     "metadata": {},
     "output_type": "execute_result"
    }
   ],
   "source": [
    "flat_img.shape"
   ]
  },
  {
   "cell_type": "code",
   "execution_count": 7,
   "metadata": {},
   "outputs": [],
   "source": [
    "#number of pixels \n",
    "n = flat_img.shape[0]\n",
    "c = flat_img.shape[1]"
   ]
  },
  {
   "cell_type": "code",
   "execution_count": 8,
   "metadata": {},
   "outputs": [],
   "source": [
    "#number of clusters \n",
    "k=120\n",
    "#randomly initializing centers\n",
    "centers = flat_img[np.random.choice(flat_img.shape[0],k,replace =False)]"
   ]
  },
  {
   "cell_type": "code",
   "execution_count": 9,
   "metadata": {},
   "outputs": [
    {
     "name": "stderr",
     "output_type": "stream",
     "text": [
      "C:\\Users\\Jack\\Anaconda3\\lib\\site-packages\\numpy\\core\\fromnumeric.py:3115: RuntimeWarning: Mean of empty slice.\n",
      "  return mean(axis=axis, dtype=dtype, out=out, **kwargs)\n",
      "C:\\Users\\Jack\\Anaconda3\\lib\\site-packages\\numpy\\core\\_methods.py:78: RuntimeWarning: invalid value encountered in true_divide\n",
      "  ret, rcount, out=ret, casting='unsafe', subok=False)\n"
     ]
    }
   ],
   "source": [
    "from copy import deepcopy\n",
    "centers_old = np.zeros(centers.shape) # to store old centers\n",
    "centers_new = deepcopy(centers) # Store new centers\n",
    "\n",
    "clusters = np.zeros(n)\n",
    "distances = np.zeros((n,k))\n",
    "\n",
    "error = np.linalg.norm(centers_new - centers_old)\n",
    "\n",
    "# When, after an update, the estimate of that center stays the same, exit loop\n",
    "while error != 0:\n",
    "    # Measure the distance to every center\n",
    "    for i in range(k):\n",
    "        distances[:,i] = np.linalg.norm(flat_img - centers[i], axis=1)\n",
    "    # Assign all training data to closest center\n",
    "    clusters = np.argmin(distances, axis = 1)\n",
    "    \n",
    "    centers_old = deepcopy(centers_new)\n",
    "    # Calculate mean for every cluster and update the center\n",
    "    for i in range(k):\n",
    "        centers_new[i] = np.mean(flat_img[clusters == i], axis=0)\n",
    "    error = np.linalg.norm(centers_new - centers_old)\n",
    "\n"
   ]
  },
  {
   "cell_type": "code",
   "execution_count": 10,
   "metadata": {},
   "outputs": [
    {
     "data": {
      "text/plain": [
       "Array([[ 61,  47,  32],\n",
       "       [219, 214, 198],\n",
       "       [132, 119,  92],\n",
       "       [135, 159, 108],\n",
       "       [218, 225, 229],\n",
       "       [  8,  15,  30],\n",
       "       [ 47,  45,  30],\n",
       "       [223, 226, 225],\n",
       "       [ 77,  79,  75],\n",
       "       [216, 218, 216],\n",
       "       [ 42,  38,  26],\n",
       "       [148, 155, 118],\n",
       "       [ 59,  57,  48],\n",
       "       [202, 182, 169],\n",
       "       [210, 201, 187],\n",
       "       [105, 112, 129],\n",
       "       [175, 135, 114],\n",
       "       [127, 153,  92],\n",
       "       [107, 131,  79],\n",
       "       [ 76, 109, 152],\n",
       "       [115, 135,  82],\n",
       "       [ 55,  68,  82],\n",
       "       [229, 193, 177],\n",
       "       [ 43,  51,  52],\n",
       "       [145,  96,  76],\n",
       "       [227, 229, 227],\n",
       "       [118, 145,  95],\n",
       "       [212, 209, 160],\n",
       "       [230, 236, 251],\n",
       "       [ 95, 100,  96],\n",
       "       [211, 214, 215],\n",
       "       [181, 160, 148],\n",
       "       [136, 147,  85],\n",
       "       [115,  98,  85],\n",
       "       [149, 159, 171],\n",
       "       [223, 228, 224],\n",
       "       [  0,   0,   0],\n",
       "       [228, 232, 234],\n",
       "       [ 68,  74,  61],\n",
       "       [132, 141,  97],\n",
       "       [203, 190, 177],\n",
       "       [203, 191, 114],\n",
       "       [ 79,  82,  51],\n",
       "       [120, 132, 142],\n",
       "       [218, 220, 217],\n",
       "       [220, 226, 243],\n",
       "       [100,  74,  58],\n",
       "       [120, 141,  84],\n",
       "       [102, 124,  74],\n",
       "       [ 60,  75,  97],\n",
       "       [240, 243, 240],\n",
       "       [215, 179, 160],\n",
       "       [188, 163, 147],\n",
       "       [ 18,  13,   9],\n",
       "       [ 77,  61,  44],\n",
       "       [129, 148,  97],\n",
       "       [ 78,  91,  85],\n",
       "       [203, 191, 182],\n",
       "       [198, 202, 201],\n",
       "       [194, 172, 159],\n",
       "       [ 11,  17,  24],\n",
       "       [ 83,  80,  47],\n",
       "       [  5,  40,  82],\n",
       "       [221, 226, 226],\n",
       "       [194, 181, 170],\n",
       "       [221, 223, 220],\n",
       "       [224, 229, 228],\n",
       "       [163, 124, 104],\n",
       "       [ 17,  17,  14],\n",
       "       [135,  95,  64],\n",
       "       [244, 246, 250],\n",
       "       [170, 106,  82],\n",
       "       [  0,   0,   0],\n",
       "       [182, 170, 159],\n",
       "       [ 94, 112, 130],\n",
       "       [204, 209, 211],\n",
       "       [229, 235, 248],\n",
       "       [191, 180, 108],\n",
       "       [164, 166, 164],\n",
       "       [213, 219, 223],\n",
       "       [196, 141, 110],\n",
       "       [207, 212, 214],\n",
       "       [191, 203, 219],\n",
       "       [197, 156, 134],\n",
       "       [114, 121, 131],\n",
       "       [ 44,  36,  12],\n",
       "       [ 47,  86, 154],\n",
       "       [182, 188, 192],\n",
       "       [ 67,  82,  77],\n",
       "       [ 64,  43,  29],\n",
       "       [ 91, 102,  56],\n",
       "       [137, 156, 172],\n",
       "       [194, 193, 186],\n",
       "       [171, 142, 127],\n",
       "       [129, 138, 151],\n",
       "       [187, 124,  89],\n",
       "       [213, 216, 210],\n",
       "       [ 25,  62, 115],\n",
       "       [178, 171, 169],\n",
       "       [ 87,  94,  81],\n",
       "       [ 67,  71,  30],\n",
       "       [154, 105,  83],\n",
       "       [160, 114,  94],\n",
       "       [ 14,  20,  30],\n",
       "       [167, 187, 196],\n",
       "       [216, 221, 222],\n",
       "       [135, 152, 131],\n",
       "       [111,  32,  35],\n",
       "       [198, 166, 147],\n",
       "       [216, 166, 150],\n",
       "       [ 26,  29,  22],\n",
       "       [214, 186, 171],\n",
       "       [178, 153, 136],\n",
       "       [ 17,  32,  58],\n",
       "       [176, 168, 106],\n",
       "       [221, 224, 225],\n",
       "       [116, 143,  90],\n",
       "       [213, 203, 137],\n",
       "       [ 17,  27,  40],\n",
       "       [208, 217, 226]], dtype=uint8)"
      ]
     },
     "execution_count": 10,
     "metadata": {},
     "output_type": "execute_result"
    }
   ],
   "source": [
    "centers_new"
   ]
  },
  {
   "cell_type": "code",
   "execution_count": 11,
   "metadata": {},
   "outputs": [],
   "source": [
    "labels = clusters.reshape(rows,cols)"
   ]
  },
  {
   "cell_type": "code",
   "execution_count": 12,
   "metadata": {},
   "outputs": [
    {
     "name": "stderr",
     "output_type": "stream",
     "text": [
      "C:\\Users\\Jack\\Anaconda3\\lib\\site-packages\\skimage\\io\\_io.py:141: UserWarning: c_fb2.png is a low contrast image\n",
      "  warn('%s is a low contrast image' % fname)\n",
      "Lossy conversion from int64 to uint8. Range [0, 119]. Convert image to uint8 prior to saving to suppress this warning.\n"
     ]
    }
   ],
   "source": [
    "np.save('fb2.npy',centers_new)    \n",
    "io.imsave('c_fb2.png',labels)"
   ]
  },
  {
   "cell_type": "code",
   "execution_count": null,
   "metadata": {},
   "outputs": [],
   "source": []
  },
  {
   "cell_type": "code",
   "execution_count": null,
   "metadata": {},
   "outputs": [],
   "source": []
  },
  {
   "cell_type": "code",
   "execution_count": null,
   "metadata": {},
   "outputs": [],
   "source": []
  }
 ],
 "metadata": {
  "kernelspec": {
   "display_name": "Python 3",
   "language": "python",
   "name": "python3"
  },
  "language_info": {
   "codemirror_mode": {
    "name": "ipython",
    "version": 3
   },
   "file_extension": ".py",
   "mimetype": "text/x-python",
   "name": "python",
   "nbconvert_exporter": "python",
   "pygments_lexer": "ipython3",
   "version": "3.7.4"
  }
 },
 "nbformat": 4,
 "nbformat_minor": 2
}
