{
 "cells": [
  {
   "cell_type": "code",
   "execution_count": 3,
   "metadata": {},
   "outputs": [
    {
     "name": "stdout",
     "output_type": "stream",
     "text": [
      "SVM Testing Accuracy: 0.9411764705882353\n",
      "NN Testing Accuracy: 0.9411764705882353\n",
      "SVM Testing Accuracy: 0.8823529411764706\n",
      "NN Testing Accuracy: 0.8823529411764706\n"
     ]
    },
    {
     "name": "stderr",
     "output_type": "stream",
     "text": [
      "C:\\Users\\Jack\\Anaconda3\\lib\\site-packages\\sklearn\\neural_network\\_multilayer_perceptron.py:571: ConvergenceWarning: Stochastic Optimizer: Maximum iterations (100) reached and the optimization hasn't converged yet.\n",
      "  % self.max_iter, ConvergenceWarning)\n"
     ]
    }
   ],
   "source": [
    "import numpy as np\n",
    "from sklearn.model_selection import train_test_split\n",
    "from sklearn import svm\n",
    "from sklearn.neural_network import MLPClassifier\n",
    "import matplotlib.pyplot as plt\n",
    "\n",
    "# Part (a)\n",
    "# Loading & Splitting Dataset\n",
    "data= np.loadtxt('q3.csv',delimiter = ',')\n",
    "feature = data[:,:-1]\n",
    "label = data[:,-1].astype(int)\n",
    "X_train, X_test, y_train, y_test = train_test_split(feature, label, test_size=0.2, random_state=1)\n",
    "\n",
    "# Fitting models / Training\n",
    "clf_svm = svm.SVC(kernel='linear', C = 0.01)\n",
    "clf_svm.fit(X_train, y_train)\n",
    "\n",
    "clf_nn = MLPClassifier(solver='sgd', learning_rate_init = 0.1, max_iter=100, \n",
    "                       hidden_layer_sizes=(5, 2), random_state=1)\n",
    "clf_nn.fit(X_train, y_train)\n",
    "\n",
    "# Testing\n",
    "predict_svm = clf_svm.predict(X_test)\n",
    "acc_svm = np.average(predict_svm == y_test)\n",
    "print('SVM Testing Accuracy:', acc_svm)\n",
    "\n",
    "predict_nn = clf_nn.predict(X_test)\n",
    "acc_nn = np.average(predict_nn == y_test)\n",
    "print('NN Testing Accuracy:', acc_nn)\n",
    "\n",
    "# Part (b)\n",
    "# Taking first 2 features\n",
    "X_train = X_train[:,:2]\n",
    "X_test = X_test[:,:2]\n",
    "\n",
    "# Fitting models / Training\n",
    "svm = svm.SVC(kernel='linear', C = 0.01)\n",
    "clf_svm.fit(X_train, y_train)\n",
    "\n",
    "clf_nn = MLPClassifier(solver='sgd', learning_rate_init = 0.1, max_iter=100, \n",
    "                       hidden_layer_sizes=(5, 2), random_state=1)\n",
    "clf_nn.fit(X_train, y_train)\n",
    "\n",
    "# Testing\n",
    "predict_svm = clf_svm.predict(X_test)\n",
    "acc_svm = np.average(predict_svm == y_test)\n",
    "print('SVM Testing Accuracy:', acc_svm)\n",
    "\n",
    "predict_nn = clf_nn.predict(X_test)\n",
    "acc_nn = np.average(predict_nn == y_test)\n",
    "print('NN Testing Accuracy:', acc_nn)\n",
    "\n",
    "# Plotting\n"
   ]
  },
  {
   "cell_type": "code",
   "execution_count": 4,
   "metadata": {},
   "outputs": [
    {
     "data": {
      "image/png": "[encoded data removed]",
      "text/plain": [
       "<Figure size 432x288 with 1 Axes>"
      ]
     },
     "metadata": {
      "needs_background": "light"
     },
     "output_type": "display_data"
    },
    {
     "data": {
      "image/png": "[encoded data removed]",
      "text/plain": [
       "<Figure size 432x288 with 1 Axes>"
      ]
     },
     "metadata": {
      "needs_background": "light"
     },
     "output_type": "display_data"
    }
   ],
   "source": [
    "def make_meshgrid(x, y, h=.02):\n",
    "    x_min, x_max = x.min() - 1, x.max() + 1\n",
    "    y_min, y_max = y.min() - 1, y.max() + 1\n",
    "    xx, yy = np.meshgrid(np.arange(x_min, x_max, h), np.arange(y_min, y_max, h))\n",
    "    return xx, yy\n",
    "\n",
    "def plot_contours(ax, clf, xx, yy, **params):\n",
    "    Z = clf.predict(np.c_[xx.ravel(), yy.ravel()])\n",
    "    Z = Z.reshape(xx.shape)\n",
    "    out = ax.contourf(xx, yy, Z, **params)\n",
    "    return out\n",
    "\n",
    "X_test_0 = X_test[y_test == 0]\n",
    "X_test_1 = X_test[y_test == 1]\n",
    "\n",
    "xx, yy = make_meshgrid(np.array([-2,4]), np.array([-1,4]), h=.02)\n",
    "\n",
    "z_svm = clf_svm.predict(np.c_[xx.ravel(), yy.ravel()])\n",
    "z_svm = z_svm.reshape(xx.shape)\n",
    "\n",
    "z_nn = clf_nn.predict(np.c_[xx.ravel(), yy.ravel()])\n",
    "z_nn = z_nn.reshape(xx.shape)\n",
    "\n",
    "# SVM \n",
    "plt.figure()\n",
    "plt.xlabel('Feature 1')\n",
    "plt.ylabel('Feature 2')\n",
    "plt.scatter(X_test_0[:,0], X_test_0[:,1], label = 'Class 0')\n",
    "plt.scatter(X_test_1[:,0], X_test_1[:,1], label = 'Class 1')\n",
    "plt.legend()\n",
    "#plt.tricontour(X_test[:,0], X_test[:,1], np.array(predict_svm).astype(float), linewidths=0.5, colors='k')\n",
    "plt.contourf(xx, yy, z_svm,alpha = 0.5, cmap=\"RdBu_r\")\n",
    "plt.savefig('svm.png', dpi=600)\n",
    "\n",
    "# NN\n",
    "plt.figure()\n",
    "plt.xlabel('Feature 1')\n",
    "plt.ylabel('Feature 2')\n",
    "plt.scatter(X_test_0[:,0], X_test_0[:,1], label = 'Class 0')\n",
    "plt.scatter(X_test_1[:,0], X_test_1[:,1], label = 'Class 1')\n",
    "plt.legend()\n",
    "#plt.tricontour(X_test[:,0], X_test[:,1], np.array(predict_svm).astype(float), linewidths=0.5, colors='k')\n",
    "plt.contourf(xx, yy, z_nn,alpha = 0.5, cmap=\"RdBu_r\")\n",
    "plt.savefig('nn.png', dpi=600)\n",
    "\n",
    "plt.show()"
   ]
  },
  {
   "cell_type": "code",
   "execution_count": 1,
   "metadata": {},
   "outputs": [
    {
     "data": {
      "text/plain": [
       "' Both Models have the same accuracy, therefore either will work for this problem'"
      ]
     },
     "execution_count": 1,
     "metadata": {},
     "output_type": "execute_result"
    }
   ],
   "source": [
    "\"\"\" Both Models have the same accuracy, therefore either will work for this problem\"\"\"\n"
   ]
  },
  {
   "cell_type": "code",
   "execution_count": 2,
   "metadata": {},
   "outputs": [
    {
     "data": {
      "text/plain": [
       "' SVM produced a linear boundary for this classification problem, while NN produced a non-linear boundary'"
      ]
     },
     "execution_count": 2,
     "metadata": {},
     "output_type": "execute_result"
    }
   ],
   "source": [
    "\"\"\" SVM produced a linear boundary for this classification problem, while NN produced a non-linear boundary\"\"\""
   ]
  },
  {
   "cell_type": "code",
   "execution_count": null,
   "metadata": {},
   "outputs": [],
   "source": []
  }
 ],
 "metadata": {
  "kernelspec": {
   "display_name": "Python 3",
   "language": "python",
   "name": "python3"
  },
  "language_info": {
   "codemirror_mode": {
    "name": "ipython",
    "version": 3
   },
   "file_extension": ".py",
   "mimetype": "text/x-python",
   "name": "python",
   "nbconvert_exporter": "python",
   "pygments_lexer": "ipython3",
   "version": "3.7.1"
  }
 },
 "nbformat": 4,
 "nbformat_minor": 2
}
