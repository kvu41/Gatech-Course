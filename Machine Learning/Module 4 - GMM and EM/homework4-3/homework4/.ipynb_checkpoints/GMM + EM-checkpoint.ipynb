{
 "cells": [
  {
   "cell_type": "markdown",
   "metadata": {},
   "source": [
    "Implement the EM algorithm for \f",
    "tting a Gaussian mixture model for the MNIST dataset. We reduce\n",
    "the dataset to be only two cases, of digits \\2\" and \\6\" only. Thus, you will \f",
    "t GMM with C = 2. Use\n",
    "the data \f",
    "le data.mat or data.dat"
   ]
  },
  {
   "cell_type": "markdown",
   "metadata": {},
   "source": [
    "The matrix images is of size 784-by-1990, i.e., there are totally 1990 images, and each column of the\n",
    "matrix corresponds to one image of size 28-by-28 pixels (the image is vectorized; the original image\n",
    "can be recovered by map the vector into a matrix.)"
   ]
  },
  {
   "cell_type": "code",
   "execution_count": 1,
   "metadata": {},
   "outputs": [],
   "source": [
    "import numpy as np\n",
    "import scipy as sp\n",
    "import matplotlib.pyplot as plt\n",
    "import random as rd\n",
    "import math\n",
    "from sklearn.cluster import KMeans"
   ]
  },
  {
   "cell_type": "code",
   "execution_count": 3,
   "metadata": {},
   "outputs": [
    {
     "name": "stdout",
     "output_type": "stream",
     "text": [
      "Dimensions of data (784, 1990)\n",
      "Number of images 1990\n"
     ]
    }
   ],
   "source": [
    "# import data from .dat file\n",
    "data = np.loadtxt('data.dat')\n",
    "label = np.loadtxt('label.dat')\n",
    "print(\"Dimensions of data\", data.shape)\n",
    "print(\"Number of images\", len(label))\n",
    "X = data.T"
   ]
  },
  {
   "cell_type": "code",
   "execution_count": 5,
   "metadata": {},
   "outputs": [],
   "source": [
    "img2 = X[0,:].reshape((28,28)).T\n",
    "img6 = X[-1,: ].reshape((28,28)).T"
   ]
  },
  {
   "cell_type": "code",
   "execution_count": 6,
   "metadata": {
    "scrolled": true
   },
   "outputs": [
    {
     "data": {
      "image/png": "[encoded data removed]",
      "text/plain": [
       "<Figure size 432x288 with 1 Axes>"
      ]
     },
     "metadata": {
      "needs_background": "light"
     },
     "output_type": "display_data"
    },
    {
     "data": {
      "text/plain": [
       "<matplotlib.image.AxesImage at 0x20611408088>"
      ]
     },
     "execution_count": 6,
     "metadata": {},
     "output_type": "execute_result"
    },
    {
     "data": {
      "image/png": "[encoded data removed]",
      "text/plain": [
       "<Figure size 432x288 with 1 Axes>"
      ]
     },
     "metadata": {
      "needs_background": "light"
     },
     "output_type": "display_data"
    }
   ],
   "source": [
    "#plot an image\n",
    "%matplotlib inline\n",
    "plt.imshow(img2, cmap='gray')\n",
    "plt.show()\n",
    "plt.imshow(img6, cmap='gray')"
   ]
  },
  {
   "cell_type": "code",
   "execution_count": 7,
   "metadata": {},
   "outputs": [],
   "source": [
    "# GMM EM algorithm \n",
    "N = 1990\n",
    "P = 784\n",
    "C = 2 \n",
    "r = 60 # rank of rank-deficient matrices"
   ]
  },
  {
   "cell_type": "code",
   "execution_count": 8,
   "metadata": {},
   "outputs": [],
   "source": [
    "## Initialize initial values\n",
    "mean = np.zeros((P,2))\n",
    "cov1 = np.identity(P)\n",
    "cov2 = np.identity(P)\n",
    "rand = rd.random()\n",
    "pi = np.array([rand, 1-rand])\n",
    "tau = np.zeros((N,C))\n",
    "ll = []"
   ]
  },
  {
   "cell_type": "code",
   "execution_count": 9,
   "metadata": {},
   "outputs": [],
   "source": [
    "# gaussian probability\n",
    "def gaussian(x, pi, mean, cov1, cov2):\n",
    "    u1,s1,v1=sp.linalg.svd(cov1,full_matrices=False)\n",
    "    u1 = u1[:,:r]\n",
    "    s1 = np.reshape(s1[:r],(r,1))\n",
    "    u2,s2,v2=sp.linalg.svd(cov2,full_matrices=False)\n",
    "    u2 = u2[:,:r]\n",
    "    s2 = np.reshape(s2[:r],(r,1))\n",
    "    new_x1 = u1.T @ x.T\n",
    "    new_x2 = u2.T @ x.T\n",
    "    new_mean1 = np.reshape(u1.T @ mean[:,0], (r,1))\n",
    "    new_mean2 = np.reshape(u2.T @ mean[:,1], (r,1))\n",
    "    temp1 = np.sum((new_x1-new_mean1)**2 / s1,axis=0)\n",
    "    temp2 = np.sum((new_x2-new_mean2)**2 / s2,axis=0)\n",
    "    gau1 = 1/np.sqrt(np.prod(s1)) *np.exp(-0.5*temp1)\n",
    "    gau2 = 1/np.sqrt(np.prod(s2)) *np.exp(-0.5*temp2)\n",
    "    return np.vstack((gau1, gau2)).T"
   ]
  },
  {
   "cell_type": "code",
   "execution_count": 10,
   "metadata": {},
   "outputs": [],
   "source": [
    "def log_likelihood(prob, pi):\n",
    "    f = np.sum(np.log(prob@pi)) - N*P/2*np.log(2*math.pi)\n",
    "    return f"
   ]
  },
  {
   "cell_type": "code",
   "execution_count": 11,
   "metadata": {},
   "outputs": [
    {
     "name": "stdout",
     "output_type": "stream",
     "text": [
      "Iteration:1\n",
      "Iteration:2\n",
      "Iteration:3\n",
      "Iteration:4\n",
      "Iteration:5\n",
      "Iteration:6\n",
      "Iteration:7\n",
      "Iteration:8\n",
      "Iteration:9\n",
      "Iteration:10\n",
      "Iteration:11\n",
      "Iteration:12\n",
      "Iteration:13\n",
      "Iteration:14\n",
      "Iteration:15\n",
      "Iteration:16\n",
      "Iteration:17\n",
      "Iteration:18\n",
      "Iteration:19\n",
      "Iteration:20\n",
      "Iteration:21\n",
      "Iteration:22\n",
      "Iteration:23\n",
      "Iteration:24\n",
      "Iteration:25\n",
      "Iteration:26\n",
      "Iteration:27\n",
      "Iteration:28\n",
      "Iteration:29\n",
      "Iteration:30\n",
      "Iteration:31\n",
      "Iteration:32\n",
      "Iteration:33\n",
      "Iteration:34\n",
      "Iteration:35\n",
      "Iteration:36\n",
      "Iteration:37\n",
      "Iteration:38\n",
      "Iteration:39\n",
      "Iteration:40\n",
      "Iteration:41\n",
      "Iteration:42\n",
      "Iteration:43\n",
      "Iteration:44\n",
      "Iteration:45\n",
      "Iteration:46\n",
      "Iteration:47\n",
      "Iteration:48\n",
      "Iteration:49\n"
     ]
    }
   ],
   "source": [
    "iterN = 1\n",
    "while iterN < 50:\n",
    "    print(\"Iteration:\" + str(iterN))\n",
    "    # E-step\n",
    "    prob = gaussian(X, pi, mean, cov1, cov2)\n",
    "    tau1 = pi[0]*prob[:,0]\n",
    "    tau2 = pi[1]*prob[:,1]\n",
    "    this_sum = tau1 + tau2\n",
    "    tau1 = tau1/this_sum\n",
    "    tau2 = tau2/this_sum\n",
    "    tau = np.vstack((tau1, tau2)).T\n",
    "    this_ll = log_likelihood(prob, pi)\n",
    "    ll.append(this_ll)\n",
    "    \n",
    "    # E-step\n",
    "    pi = np.sum(tau, axis = 0)/N\n",
    "    mean = data@tau/np.sum(tau, axis = 0)\n",
    "    mean1 = np.reshape(mean[:,0], (P,1))\n",
    "    mean2 = np.reshape(mean[:,1], (P,1))\n",
    "    cov1 = tau[:,0] * (data-mean1) @ (data-mean1).T/np.sum(tau, axis = 0)[0]\n",
    "    cov2 = tau[:,1] * (data-mean2) @ (data-mean2).T/np.sum(tau, axis = 0)[1]\n",
    "    iterN += 1\n",
    "\n",
    "    "
   ]
  },
  {
   "cell_type": "code",
   "execution_count": 14,
   "metadata": {},
   "outputs": [
    {
     "data": {
      "image/png": "[encoded data removed]",
      "text/plain": [
       "<Figure size 432x288 with 1 Axes>"
      ]
     },
     "metadata": {
      "needs_background": "light"
     },
     "output_type": "display_data"
    }
   ],
   "source": [
    "plt.plot(np.arange(1,iterN),ll)\n",
    "plt.xlabel('Iteration')\n",
    "plt.ylabel('Log-Likelihood')\n",
    "plt.show()\n",
    "    "
   ]
  },
  {
   "cell_type": "code",
   "execution_count": 16,
   "metadata": {},
   "outputs": [
    {
     "data": {
      "text/plain": [
       "0.4823183596850527"
      ]
     },
     "execution_count": 16,
     "metadata": {},
     "output_type": "execute_result"
    }
   ],
   "source": [
    "pi[1]"
   ]
  },
  {
   "cell_type": "code",
   "execution_count": 17,
   "metadata": {},
   "outputs": [
    {
     "data": {
      "image/png": "[encoded data removed]",
      "text/plain": [
       "<Figure size 432x288 with 1 Axes>"
      ]
     },
     "metadata": {
      "needs_background": "light"
     },
     "output_type": "display_data"
    },
    {
     "data": {
      "image/png": "[encoded data removed]",
      "text/plain": [
       "<Figure size 432x288 with 1 Axes>"
      ]
     },
     "metadata": {
      "needs_background": "light"
     },
     "output_type": "display_data"
    }
   ],
   "source": [
    "\n",
    "# 2c\n",
    "if pi[0] > pi[1]:\n",
    "    label2 = 0\n",
    "    label6 = 1\n",
    "else:\n",
    "    label2 = 1\n",
    "    label6 = 0\n",
    "    \n",
    "mean_2 = mean[:,label2].reshape((28,28)).transpose()\n",
    "plt.imshow(mean_2)\n",
    "plt.show()\n",
    "mean_6 = mean[:,label6].reshape((28,28)).transpose()\n",
    "plt.imshow(mean_6)\n",
    "plt.show()"
   ]
  },
  {
   "cell_type": "code",
   "execution_count": 18,
   "metadata": {},
   "outputs": [
    {
     "name": "stdout",
     "output_type": "stream",
     "text": [
      "EM-GMM Accuracy: 0.9809045226130654\n"
     ]
    }
   ],
   "source": [
    "\n",
    "# 2d here you can just use packages to get k-means results\n",
    "label_pred = np.zeros(N)\n",
    "for i in range(N):\n",
    "    if tau[i, label2] > tau[i, label6]:\n",
    "        label_pred[i] = 2\n",
    "    else:\n",
    "        label_pred[i] = 6\n",
    "print(\"EM-GMM Accuracy: \" + str(sum(label_pred == label)/N))"
   ]
  },
  {
   "cell_type": "code",
   "execution_count": 20,
   "metadata": {},
   "outputs": [
    {
     "name": "stdout",
     "output_type": "stream",
     "text": [
      "K-means Accuracy: 0.9376884422110553\n"
     ]
    }
   ],
   "source": [
    "\n",
    "# k-means\n",
    "kmeans = KMeans(n_clusters=2).fit(X)\n",
    "label_pred_kmeans = kmeans.labels_\n",
    "for i in range(N):\n",
    "    if label_pred_kmeans[i] == 0:\n",
    "        label_pred_kmeans[i] = 2\n",
    "    else:\n",
    "        label_pred_kmeans[i] = 6\n",
    "k_acc = max(sum(label_pred_kmeans == label)/N, 1-sum(label_pred_kmeans == label)/N)\n",
    "print(\"K-means Accuracy: \" + str(k_acc))\n"
   ]
  },
  {
   "cell_type": "code",
   "execution_count": null,
   "metadata": {},
   "outputs": [],
   "source": []
  }
 ],
 "metadata": {
  "kernelspec": {
   "display_name": "Python 3",
   "language": "python",
   "name": "python3"
  },
  "language_info": {
   "codemirror_mode": {
    "name": "ipython",
    "version": 3
   },
   "file_extension": ".py",
   "mimetype": "text/x-python",
   "name": "python",
   "nbconvert_exporter": "python",
   "pygments_lexer": "ipython3",
   "version": "3.7.4"
  }
 },
 "nbformat": 4,
 "nbformat_minor": 2
}
