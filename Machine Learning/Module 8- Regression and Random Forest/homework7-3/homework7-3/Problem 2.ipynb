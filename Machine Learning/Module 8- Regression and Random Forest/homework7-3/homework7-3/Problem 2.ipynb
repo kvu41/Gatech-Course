{
 "cells": [
  {
   "cell_type": "markdown",
   "metadata": {},
   "source": [
    "# Non-Linear Regression and Cross-validation"
   ]
  },
  {
   "cell_type": "code",
   "execution_count": 1,
   "metadata": {},
   "outputs": [],
   "source": [
    "import pandas as pd\n",
    "import numpy as np\n",
    "from sklearn.linear_model import LinearRegression\n",
    "from sklearn import linear_model\n",
    "import matplotlib.pyplot as plt\n",
    "from sklearn.linear_model import Ridge, RidgeCV\n",
    "from sklearn.model_selection import KFold, GridSearchCV, cross_validate, train_test_split, cross_val_score, validation_curve\n",
    "from sklearn.metrics import mean_squared_error, r2_score\n",
    "import warnings\n",
    "warnings.filterwarnings(\"ignore\")"
   ]
  },
  {
   "cell_type": "code",
   "execution_count": 2,
   "metadata": {},
   "outputs": [],
   "source": [
    "df = pd.read_csv('copper-new.txt', sep=\"  \", header=None)\n",
    "copper = np.loadtxt('copper-new.txt')"
   ]
  },
  {
   "cell_type": "code",
   "execution_count": 3,
   "metadata": {},
   "outputs": [
    {
     "data": {
      "text/plain": [
       "(array([[ 24.41],\n",
       "        [ 54.98],\n",
       "        [ 89.57],\n",
       "        [114.26],\n",
       "        [133.61],\n",
       "        [202.14],\n",
       "        [250.99],\n",
       "        [321.31],\n",
       "        [333.47],\n",
       "        [373.79],\n",
       "        [422.02],\n",
       "        [447.41],\n",
       "        [522.47],\n",
       "        [549.53],\n",
       "        [ 20.15],\n",
       "        [ 39.12],\n",
       "        [ 73.42],\n",
       "        [134.03],\n",
       "        [179.86],\n",
       "        [262.52],\n",
       "        [337.23],\n",
       "        [432.68],\n",
       "        [253.24],\n",
       "        [346.62],\n",
       "        [450.1 ],\n",
       "        [552.22],\n",
       "        [656.2 ],\n",
       "        [ 33.84],\n",
       "        [ 60.41],\n",
       "        [ 94.88],\n",
       "        [147.73],\n",
       "        [206.76],\n",
       "        [237.12],\n",
       "        [372.72],\n",
       "        [495.47],\n",
       "        [544.47],\n",
       "        [ 28.93],\n",
       "        [ 49.87],\n",
       "        [ 85.15],\n",
       "        [143.84],\n",
       "        [226.86],\n",
       "        [339.15],\n",
       "        [393.32],\n",
       "        [524.7 ],\n",
       "        [623.86],\n",
       "        [ 39.22],\n",
       "        [ 96.44],\n",
       "        [156.92],\n",
       "        [223.88],\n",
       "        [271.78],\n",
       "        [349.52],\n",
       "        [429.66],\n",
       "        [523.03],\n",
       "        [622.05],\n",
       "        [748.29],\n",
       "        [646.89],\n",
       "        [749.27],\n",
       "        [851.37],\n",
       "        [851.61]]), array([[ 0.591],\n",
       "        [ 4.703],\n",
       "        [ 9.47 ],\n",
       "        [11.615],\n",
       "        [12.97 ],\n",
       "        [15.19 ],\n",
       "        [16.131],\n",
       "        [16.872],\n",
       "        [16.966],\n",
       "        [17.355],\n",
       "        [17.765],\n",
       "        [17.877],\n",
       "        [18.291],\n",
       "        [18.61 ],\n",
       "        [ 0.367],\n",
       "        [ 2.15 ],\n",
       "        [ 7.422],\n",
       "        [12.786],\n",
       "        [14.464],\n",
       "        [16.075],\n",
       "        [17.003],\n",
       "        [17.868],\n",
       "        [16.062],\n",
       "        [17.159],\n",
       "        [17.979],\n",
       "        [18.523],\n",
       "        [19.33 ],\n",
       "        [ 1.418],\n",
       "        [ 5.556],\n",
       "        [ 9.959],\n",
       "        [13.564],\n",
       "        [15.473],\n",
       "        [16.114],\n",
       "        [17.368],\n",
       "        [18.271],\n",
       "        [18.627],\n",
       "        [ 0.943],\n",
       "        [ 3.782],\n",
       "        [ 8.92 ],\n",
       "        [13.436],\n",
       "        [15.651],\n",
       "        [16.965],\n",
       "        [17.339],\n",
       "        [18.566],\n",
       "        [19.1  ],\n",
       "        [ 2.204],\n",
       "        [10.04 ],\n",
       "        [13.922],\n",
       "        [15.639],\n",
       "        [16.43 ],\n",
       "        [17.165],\n",
       "        [17.848],\n",
       "        [18.519],\n",
       "        [19.28 ],\n",
       "        [19.89 ],\n",
       "        [19.324],\n",
       "        [20.065],\n",
       "        [20.743],\n",
       "        [20.93 ]]))"
      ]
     },
     "execution_count": 3,
     "metadata": {},
     "output_type": "execute_result"
    }
   ],
   "source": [
    "x = np.array(df[1]).reshape((-1, 1))\n",
    "y = np.array(df[0]).reshape((copper.shape[0],1))\n",
    "x,y"
   ]
  },
  {
   "cell_type": "code",
   "execution_count": 4,
   "metadata": {},
   "outputs": [],
   "source": [
    "x_train, x_test, y_train, y_test = train_test_split(x, y, test_size = 0.25, \n",
    "                                                    random_state = 0, shuffle=True)"
   ]
  },
  {
   "cell_type": "code",
   "execution_count": 5,
   "metadata": {},
   "outputs": [],
   "source": [
    "x_train = x_train.reshape((-1, 1))\n",
    "x_test = x_test.reshape((-1, 1))"
   ]
  },
  {
   "cell_type": "code",
   "execution_count": null,
   "metadata": {},
   "outputs": [],
   "source": []
  }
 ],
 "metadata": {
  "kernelspec": {
   "display_name": "Python 3",
   "language": "python",
   "name": "python3"
  },
  "language_info": {
   "codemirror_mode": {
    "name": "ipython",
    "version": 3
   },
   "file_extension": ".py",
   "mimetype": "text/x-python",
   "name": "python",
   "nbconvert_exporter": "python",
   "pygments_lexer": "ipython3",
   "version": "3.7.4"
  }
 },
 "nbformat": 4,
 "nbformat_minor": 2
}
