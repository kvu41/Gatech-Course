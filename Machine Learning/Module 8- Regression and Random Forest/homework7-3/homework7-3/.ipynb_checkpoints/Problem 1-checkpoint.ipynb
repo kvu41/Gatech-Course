{
 "cells": [
  {
   "cell_type": "markdown",
   "metadata": {},
   "source": [
    "# Email- spam classifier using Random Forest"
   ]
  },
  {
   "cell_type": "code",
   "execution_count": 1,
   "metadata": {},
   "outputs": [],
   "source": [
    "import numpy as np\n",
    "import pandas as pd\n",
    "import matplotlib.pyplot as plt"
   ]
  },
  {
   "cell_type": "code",
   "execution_count": 2,
   "metadata": {},
   "outputs": [],
   "source": [
    "data = pd.read_csv(\"spambase.data\", header = None)\n"
   ]
  },
  {
   "cell_type": "code",
   "execution_count": 3,
   "metadata": {},
   "outputs": [
    {
     "data": {
      "text/plain": [
       "(4601, 58)"
      ]
     },
     "execution_count": 3,
     "metadata": {},
     "output_type": "execute_result"
    }
   ],
   "source": [
    "data.shape"
   ]
  },
  {
   "cell_type": "code",
   "execution_count": 4,
   "metadata": {},
   "outputs": [],
   "source": [
    "X = data.iloc[:, :-1]\n",
    "y = data.iloc[:, -1]"
   ]
  },
  {
   "cell_type": "code",
   "execution_count": 5,
   "metadata": {},
   "outputs": [
    {
     "data": {
      "text/plain": [
       "False"
      ]
     },
     "execution_count": 5,
     "metadata": {},
     "output_type": "execute_result"
    }
   ],
   "source": [
    "#Checking missing values\n",
    "X.isnull().values.any()\n",
    "y.isnull().values.any()"
   ]
  },
  {
   "cell_type": "code",
   "execution_count": 6,
   "metadata": {},
   "outputs": [],
   "source": [
    "X = np.array(X)\n",
    "y = np.array(y)\n"
   ]
  },
  {
   "cell_type": "code",
   "execution_count": 7,
   "metadata": {},
   "outputs": [],
   "source": [
    "spam = y[y==0]\n",
    "non_spam = y[y==1]"
   ]
  },
  {
   "cell_type": "code",
   "execution_count": 8,
   "metadata": {},
   "outputs": [
    {
     "name": "stdout",
     "output_type": "stream",
     "text": [
      "Number of spam email is 2788\n",
      "Number of non-spam email is 1813\n",
      "Number of features is  57\n"
     ]
    }
   ],
   "source": [
    "print(\"Number of spam email is\", len(spam))\n",
    "print(\"Number of non-spam email is\", len(non_spam))\n",
    "print(\"Number of features is \", X.shape[1])"
   ]
  },
  {
   "cell_type": "code",
   "execution_count": 9,
   "metadata": {},
   "outputs": [],
   "source": [
    "from sklearn.tree import DecisionTreeClassifier\n",
    "from sklearn.tree import plot_tree\n",
    "from sklearn.model_selection import train_test_split, GridSearchCV\n",
    "from sklearn.metrics import roc_auc_score"
   ]
  },
  {
   "cell_type": "code",
   "execution_count": 10,
   "metadata": {},
   "outputs": [],
   "source": [
    "X_train, X_test, y_train, y_test = train_test_split(X, y, random_state = 42, test_size =0.2)"
   ]
  },
  {
   "cell_type": "code",
   "execution_count": 12,
   "metadata": {},
   "outputs": [],
   "source": [
    "tree = DecisionTreeClassifier()\n",
    "params ={'max_depth': [3,4,5,6,7,8,9,10,11,12,13]}"
   ]
  },
  {
   "cell_type": "code",
   "execution_count": 13,
   "metadata": {},
   "outputs": [
    {
     "name": "stdout",
     "output_type": "stream",
     "text": [
      "Best parameters are:  {'max_depth': 5}\n",
      "Best score are:  0.930369466532747\n"
     ]
    }
   ],
   "source": [
    "tune = GridSearchCV(tree, params, cv =10, scoring ='roc_auc').fit(X_train, y_train)\n",
    "print('Best parameters are: ', tune.best_params_)\n",
    "print('Best score are: ', tune.best_score_)\n"
   ]
  },
  {
   "cell_type": "code",
   "execution_count": 14,
   "metadata": {},
   "outputs": [],
   "source": [
    "##Train and fit best tree model\n",
    "best_tree = DecisionTreeClassifier(max_depth = 5)\n",
    "best_tree.fit(X_train, y_train)\n",
    "y_tree = best_tree.predict(X_test)"
   ]
  },
  {
   "cell_type": "code",
   "execution_count": 15,
   "metadata": {},
   "outputs": [
    {
     "name": "stdout",
     "output_type": "stream",
     "text": [
      "ROC_AUC of best tree model  0.8856149500217297\n"
     ]
    }
   ],
   "source": [
    "print(\"ROC_AUC of best tree model \", roc_auc_score(y_test, y_tree))"
   ]
  },
  {
   "cell_type": "code",
   "execution_count": 16,
   "metadata": {},
   "outputs": [
    {
     "data": {
      "text/plain": [
       "[Text(207.04736842105262, 199.32, 'X[52] <= 0.056\\ngini = 0.474\\nsamples = 3680\\nvalue = [2257, 1423]'),\n",
       " Text(127.75263157894737, 163.07999999999998, 'X[6] <= 0.065\\ngini = 0.35\\nsamples = 2779\\nvalue = [2150, 629]'),\n",
       " Text(70.48421052631579, 126.83999999999999, 'X[51] <= 0.251\\ngini = 0.265\\nsamples = 2523\\nvalue = [2127, 396]'),\n",
       " Text(35.242105263157896, 90.6, 'X[15] <= 0.04\\ngini = 0.155\\nsamples = 2101\\nvalue = [1923, 178]'),\n",
       " Text(17.621052631578948, 54.359999999999985, 'X[23] <= 0.02\\ngini = 0.109\\nsamples = 1882\\nvalue = [1773, 109]'),\n",
       " Text(8.810526315789474, 18.119999999999976, 'gini = 0.096\\nsamples = 1844\\nvalue = [1751, 93]'),\n",
       " Text(26.431578947368422, 18.119999999999976, 'gini = 0.488\\nsamples = 38\\nvalue = [22, 16]'),\n",
       " Text(52.863157894736844, 54.359999999999985, 'X[24] <= 0.075\\ngini = 0.432\\nsamples = 219\\nvalue = [150, 69]'),\n",
       " Text(44.05263157894737, 18.119999999999976, 'gini = 0.488\\nsamples = 159\\nvalue = [92, 67]'),\n",
       " Text(61.67368421052632, 18.119999999999976, 'gini = 0.064\\nsamples = 60\\nvalue = [58, 2]'),\n",
       " Text(105.72631578947369, 90.6, 'X[54] <= 2.654\\ngini = 0.499\\nsamples = 422\\nvalue = [204, 218]'),\n",
       " Text(88.10526315789474, 54.359999999999985, 'X[15] <= 0.065\\ngini = 0.406\\nsamples = 237\\nvalue = [170, 67]'),\n",
       " Text(79.29473684210527, 18.119999999999976, 'gini = 0.285\\nsamples = 186\\nvalue = [154, 32]'),\n",
       " Text(96.91578947368421, 18.119999999999976, 'gini = 0.431\\nsamples = 51\\nvalue = [16, 35]'),\n",
       " Text(123.34736842105264, 54.359999999999985, 'X[34] <= 0.26\\ngini = 0.3\\nsamples = 185\\nvalue = [34, 151]'),\n",
       " Text(114.53684210526316, 18.119999999999976, 'gini = 0.244\\nsamples = 176\\nvalue = [25, 151]'),\n",
       " Text(132.1578947368421, 18.119999999999976, 'gini = 0.0\\nsamples = 9\\nvalue = [9, 0]'),\n",
       " Text(185.02105263157895, 126.83999999999999, 'X[26] <= 0.15\\ngini = 0.164\\nsamples = 256\\nvalue = [23, 233]'),\n",
       " Text(176.21052631578948, 90.6, 'X[45] <= 0.115\\ngini = 0.1\\nsamples = 246\\nvalue = [13, 233]'),\n",
       " Text(158.58947368421053, 54.359999999999985, 'X[32] <= 1.505\\ngini = 0.072\\nsamples = 240\\nvalue = [9, 231]'),\n",
       " Text(149.77894736842106, 18.119999999999976, 'gini = 0.065\\nsamples = 239\\nvalue = [8, 231]'),\n",
       " Text(167.4, 18.119999999999976, 'gini = 0.0\\nsamples = 1\\nvalue = [1, 0]'),\n",
       " Text(193.83157894736843, 54.359999999999985, 'X[17] <= 0.115\\ngini = 0.444\\nsamples = 6\\nvalue = [4, 2]'),\n",
       " Text(185.02105263157895, 18.119999999999976, 'gini = 0.0\\nsamples = 2\\nvalue = [0, 2]'),\n",
       " Text(202.6421052631579, 18.119999999999976, 'gini = 0.0\\nsamples = 4\\nvalue = [4, 0]'),\n",
       " Text(193.83157894736843, 90.6, 'gini = 0.0\\nsamples = 10\\nvalue = [10, 0]'),\n",
       " Text(286.3421052631579, 163.07999999999998, 'X[24] <= 0.4\\ngini = 0.209\\nsamples = 901\\nvalue = [107, 794]'),\n",
       " Text(255.50526315789475, 126.83999999999999, 'X[55] <= 6.5\\ngini = 0.13\\nsamples = 846\\nvalue = [59, 787]'),\n",
       " Text(237.8842105263158, 90.6, 'X[6] <= 0.51\\ngini = 0.34\\nsamples = 23\\nvalue = [18, 5]'),\n",
       " Text(229.07368421052632, 54.359999999999985, 'X[54] <= 1.121\\ngini = 0.1\\nsamples = 19\\nvalue = [18, 1]'),\n",
       " Text(220.26315789473685, 18.119999999999976, 'gini = 0.0\\nsamples = 1\\nvalue = [0, 1]'),\n",
       " Text(237.8842105263158, 18.119999999999976, 'gini = 0.0\\nsamples = 18\\nvalue = [18, 0]'),\n",
       " Text(246.69473684210527, 54.359999999999985, 'gini = 0.0\\nsamples = 4\\nvalue = [0, 4]'),\n",
       " Text(273.12631578947367, 90.6, 'X[45] <= 0.7\\ngini = 0.095\\nsamples = 823\\nvalue = [41, 782]'),\n",
       " Text(264.3157894736842, 54.359999999999985, 'X[26] <= 0.21\\ngini = 0.076\\nsamples = 814\\nvalue = [32, 782]'),\n",
       " Text(255.50526315789475, 18.119999999999976, 'gini = 0.065\\nsamples = 809\\nvalue = [27, 782]'),\n",
       " Text(273.12631578947367, 18.119999999999976, 'gini = 0.0\\nsamples = 5\\nvalue = [5, 0]'),\n",
       " Text(281.93684210526317, 54.359999999999985, 'gini = 0.0\\nsamples = 9\\nvalue = [9, 0]'),\n",
       " Text(317.17894736842106, 126.83999999999999, 'X[17] <= 0.285\\ngini = 0.222\\nsamples = 55\\nvalue = [48, 7]'),\n",
       " Text(308.36842105263156, 90.6, 'X[6] <= 0.485\\ngini = 0.04\\nsamples = 49\\nvalue = [48, 1]'),\n",
       " Text(299.5578947368421, 54.359999999999985, 'gini = 0.0\\nsamples = 48\\nvalue = [48, 0]'),\n",
       " Text(317.17894736842106, 54.359999999999985, 'gini = 0.0\\nsamples = 1\\nvalue = [0, 1]'),\n",
       " Text(325.98947368421057, 90.6, 'gini = 0.0\\nsamples = 6\\nvalue = [0, 6]')]"
      ]
     },
     "execution_count": 16,
     "metadata": {},
     "output_type": "execute_result"
    },
    {
     "data": {
      "image/png": "[encoded data removed]",
      "text/plain": [
       "<Figure size 432x288 with 1 Axes>"
      ]
     },
     "metadata": {
      "needs_background": "light"
     },
     "output_type": "display_data"
    }
   ],
   "source": [
    "plot_tree(best_tree)"
   ]
  },
  {
   "cell_type": "markdown",
   "metadata": {},
   "source": [
    "# Random Forest Classifier"
   ]
  },
  {
   "cell_type": "code",
   "execution_count": 17,
   "metadata": {},
   "outputs": [],
   "source": [
    "from sklearn.ensemble import RandomForestClassifier"
   ]
  },
  {
   "cell_type": "code",
   "execution_count": 18,
   "metadata": {},
   "outputs": [],
   "source": [
    "rfc = RandomForestClassifier()"
   ]
  },
  {
   "cell_type": "code",
   "execution_count": 19,
   "metadata": {},
   "outputs": [
    {
     "name": "stdout",
     "output_type": "stream",
     "text": [
      "Best parameters are:  {'max_depth': 14, 'n_estimators': 40}\n",
      "Best score are:  0.9845715323979688\n"
     ]
    }
   ],
   "source": [
    "params = {'n_estimators':[1,2,4,6,8,10,20,30,40,50,60], 'max_depth' : [5,7,9,10,12,14]}\n",
    "tune = GridSearchCV(rfc, params, cv =10, scoring ='roc_auc').fit(X_train, y_train)\n",
    "print('Best parameters are: ', tune.best_params_)\n",
    "print('Best score are: ', tune.best_score_)"
   ]
  },
  {
   "cell_type": "code",
   "execution_count": 21,
   "metadata": {},
   "outputs": [],
   "source": [
    "auc_score = []\n",
    "for i in [1,2,4,6,8,10,20,30,40,50,60] :\n",
    "    rfc= RandomForestClassifier(n_estimators = i)\n",
    "    rfc.fit(X_train, y_train)\n",
    "    y_rfc = rfc.predict(X_test)\n",
    "    auc_score.append(roc_auc_score(y_test, y_rfc))"
   ]
  },
  {
   "cell_type": "code",
   "execution_count": 25,
   "metadata": {},
   "outputs": [
    {
     "data": {
      "image/png": "[encoded data removed]",
      "text/plain": [
       "<Figure size 432x288 with 1 Axes>"
      ]
     },
     "metadata": {
      "needs_background": "light"
     },
     "output_type": "display_data"
    }
   ],
   "source": [
    "i = [1,2,4,6,8,10,20,30,40,50,60]\n",
    "plt.plot(i, auc_score, linewidth =5)\n",
    "plt.xlabel(\"Number of trees\")\n",
    "plt.ylabel('ROC Area Under Curve')\n",
    "plt.show()"
   ]
  },
  {
   "cell_type": "code",
   "execution_count": 27,
   "metadata": {},
   "outputs": [
    {
     "name": "stdout",
     "output_type": "stream",
     "text": [
      "ROC area under the curve of Random Forest Classifer is 0.9453715775749674\n"
     ]
    }
   ],
   "source": [
    "#Best random Forest model\n",
    "best_rfc = RandomForestClassifier(n_estimators = 40, max_depth =14)\n",
    "best_rfc.fit(X_train,y_train)\n",
    "y_rfc = best_rfc.predict(X_test)\n",
    "print(\"ROC area under the curve of Random Forest Classifer is\", roc_auc_score(y_test, y_rfc))"
   ]
  },
  {
   "cell_type": "code",
   "execution_count": 28,
   "metadata": {},
   "outputs": [
    {
     "name": "stdout",
     "output_type": "stream",
     "text": [
      "Based on ROC AUC scoring matrix, Random Forest Classifier outperformed Single Decision Tree Classifier in this Spam Email Classification task\n"
     ]
    }
   ],
   "source": [
    "print(\"Based on ROC AUC scoring matrix, Random Forest Classifier outperformed Single Decision Tree Classifier in this Spam Email Classification task\")"
   ]
  },
  {
   "cell_type": "code",
   "execution_count": null,
   "metadata": {},
   "outputs": [],
   "source": []
  }
 ],
 "metadata": {
  "kernelspec": {
   "display_name": "Python 3",
   "language": "python",
   "name": "python3"
  },
  "language_info": {
   "codemirror_mode": {
    "name": "ipython",
    "version": 3
   },
   "file_extension": ".py",
   "mimetype": "text/x-python",
   "name": "python",
   "nbconvert_exporter": "python",
   "pygments_lexer": "ipython3",
   "version": "3.7.4"
  }
 },
 "nbformat": 4,
 "nbformat_minor": 2
}
