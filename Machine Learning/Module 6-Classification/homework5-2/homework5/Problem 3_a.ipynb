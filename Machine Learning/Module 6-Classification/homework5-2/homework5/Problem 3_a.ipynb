{
 "cells": [
  {
   "cell_type": "code",
   "execution_count": 67,
   "metadata": {},
   "outputs": [],
   "source": [
    "import numpy as np\n",
    "import pandas as pd\n",
    "import matplotlib.pyplot as plt\n",
    "from sklearn.naive_bayes import GaussianNB\n",
    "from sklearn.linear_model import LogisticRegression\n",
    "from sklearn.neighbors import KNeighborsClassifier\n",
    "from sklearn.model_selection import train_test_split,cross_val_score, GridSearchCV, cross_validate, train_test_split\n",
    "\n",
    "\n",
    "import warnings\n",
    "warnings.simplefilter('ignore')\n",
    "%matplotlib inline"
   ]
  },
  {
   "cell_type": "code",
   "execution_count": 68,
   "metadata": {},
   "outputs": [],
   "source": [
    "df = pd.read_csv('q3.csv', header =None)"
   ]
  },
  {
   "cell_type": "code",
   "execution_count": 69,
   "metadata": {},
   "outputs": [],
   "source": [
    "X = np.array(df.iloc[:,:-1])"
   ]
  },
  {
   "cell_type": "code",
   "execution_count": 70,
   "metadata": {},
   "outputs": [],
   "source": [
    "y =np.array(df.iloc[:, -1])"
   ]
  },
  {
   "cell_type": "code",
   "execution_count": 71,
   "metadata": {},
   "outputs": [],
   "source": [
    "X_train, X_test, y_train, y_test = train_test_split(X,y, test_size =0.2, random_state = 42)"
   ]
  },
  {
   "cell_type": "code",
   "execution_count": 72,
   "metadata": {},
   "outputs": [],
   "source": [
    "naive_bayes = GaussianNB()\n",
    "lr = LogisticRegression()\n",
    "knn = KNeighborsClassifier()"
   ]
  },
  {
   "cell_type": "code",
   "execution_count": 73,
   "metadata": {},
   "outputs": [],
   "source": [
    "naive_bayes.fit(X_train, y_train)\n",
    "y_nb = naive_bayes.predict(X_test)"
   ]
  },
  {
   "cell_type": "code",
   "execution_count": 74,
   "metadata": {},
   "outputs": [],
   "source": [
    "lr.fit(X_train, y_train)\n",
    "y_lr = lr.predict(X_test)"
   ]
  },
  {
   "cell_type": "code",
   "execution_count": 75,
   "metadata": {},
   "outputs": [],
   "source": [
    "knn.fit(X_train, y_train)\n",
    "y_knn = knn.predict(X_test)"
   ]
  },
  {
   "cell_type": "code",
   "execution_count": 76,
   "metadata": {},
   "outputs": [],
   "source": [
    "from sklearn.metrics import accuracy_score, confusion_matrix, auc"
   ]
  },
  {
   "cell_type": "code",
   "execution_count": 77,
   "metadata": {},
   "outputs": [
    {
     "name": "stdout",
     "output_type": "stream",
     "text": [
      "Accuracy score of  Naive Bayes model 0.97\n",
      "Accuracy score of  Logistic Regression model 0.97\n",
      "Accuracy score of  KNN model 0.97\n"
     ]
    }
   ],
   "source": [
    "print(\"Accuracy score of  Naive Bayes model\", round(accuracy_score(y_test, y_nb),2))\n",
    "print(\"Accuracy score of  Logistic Regression model\", round(accuracy_score(y_test, y_lr),2))\n",
    "print(\"Accuracy score of  KNN model\", round(accuracy_score(y_test, y_knn),2))"
   ]
  },
  {
   "cell_type": "code",
   "execution_count": 78,
   "metadata": {},
   "outputs": [
    {
     "data": {
      "text/plain": [
       "' All three models performed comparatively well compared to each other'"
      ]
     },
     "execution_count": 78,
     "metadata": {},
     "output_type": "execute_result"
    }
   ],
   "source": [
    "\"\"\" All three models performed comparatively well compared to each other\"\"\""
   ]
  },
  {
   "cell_type": "code",
   "execution_count": 79,
   "metadata": {},
   "outputs": [],
   "source": [
    "## Using first 2 features to predicts "
   ]
  },
  {
   "cell_type": "code",
   "execution_count": 82,
   "metadata": {},
   "outputs": [],
   "source": [
    "X_train, X_test, y_train, y_test = train_test_split(X[:, 0:2], y,  test_size = 0.2, random_state =42)"
   ]
  },
  {
   "cell_type": "markdown",
   "metadata": {},
   "source": [
    "# Naive Bayes"
   ]
  },
  {
   "cell_type": "code",
   "execution_count": 83,
   "metadata": {},
   "outputs": [],
   "source": [
    "# No hyperparameter to tune\n",
    "naive_bayes = GaussianNB()\n",
    "\n",
    "naive_bayes.fit(X_train,y_train)\n",
    "y_nb = naive_bayes.predict(X_test)"
   ]
  },
  {
   "cell_type": "code",
   "execution_count": 84,
   "metadata": {},
   "outputs": [
    {
     "name": "stdout",
     "output_type": "stream",
     "text": [
      "Best parameters are:  {'C': 1.0, 'penalty': 'l1'}\n",
      "Best score are:  0.9044117647058824\n"
     ]
    }
   ],
   "source": [
    "# Hyperparameters tuning for Logistic Regression\n",
    "lr = LogisticRegression()\n",
    "parameters = {'penalty':['l1', 'l2'] , 'C': np.linspace(1,20, 100)}\n",
    "tune = GridSearchCV(lr, parameters, cv =5).fit(X_train, y_train)\n",
    "print('Best parameters are: ', tune.best_params_)\n",
    "print('Best score are: ', tune.best_score_)\n",
    "\n",
    "\n"
   ]
  },
  {
   "cell_type": "code",
   "execution_count": 89,
   "metadata": {},
   "outputs": [],
   "source": [
    "##Training and Fitting Data\n",
    "best_lr = LogisticRegression(penalty ='l1', C =1)\n",
    "best_lr.fit(X_train, y_train)\n",
    "y_lr = best_lr.predict(X_test)"
   ]
  },
  {
   "cell_type": "code",
   "execution_count": 94,
   "metadata": {},
   "outputs": [
    {
     "name": "stdout",
     "output_type": "stream",
     "text": [
      "Best parameters are:  {'n_neighbors': 12, 'p': 2, 'weights': 'uniform'}\n",
      "Best score are:  0.9117647058823529\n"
     ]
    }
   ],
   "source": [
    "#HyperParameters Tuning for KNN\n",
    "knn = KNeighborsClassifier()\n",
    "parameters_knn ={'n_neighbors': range(3,50), 'p':[1,2], 'weights':['uniform', 'distance']}\n",
    "tune_knn = GridSearchCV(knn, parameters_knn, cv=5).fit(X_train, y_train)\n",
    "print('Best parameters are: ', tune_knn.best_params_)\n",
    "print('Best score are: ', tune_knn.best_score_)\n"
   ]
  },
  {
   "cell_type": "code",
   "execution_count": 101,
   "metadata": {},
   "outputs": [],
   "source": [
    "best_knn = KNeighborsClassifier(n_neighbors =12, p=2)\n",
    "best_knn.fit(X_train,y_train)\n",
    "y_knn = best_knn.predict(X_test)"
   ]
  },
  {
   "cell_type": "code",
   "execution_count": 102,
   "metadata": {},
   "outputs": [
    {
     "name": "stdout",
     "output_type": "stream",
     "text": [
      "Accuracy score of  Naive Bayes model 0.91\n",
      "Accuracy score of  Logistic Regression model 0.91\n",
      "Accuracy score of  KNN model 0.91\n"
     ]
    }
   ],
   "source": [
    "print(\"Accuracy score of  Naive Bayes model\", round(accuracy_score(y_test, y_nb),2))\n",
    "print(\"Accuracy score of  Logistic Regression model\", round(accuracy_score(y_test, y_lr),2))\n",
    "print(\"Accuracy score of  KNN model\", round(accuracy_score(y_test, y_knn),2))"
   ]
  },
  {
   "cell_type": "code",
   "execution_count": null,
   "metadata": {},
   "outputs": [],
   "source": []
  }
 ],
 "metadata": {
  "kernelspec": {
   "display_name": "Python 3",
   "language": "python",
   "name": "python3"
  },
  "language_info": {
   "codemirror_mode": {
    "name": "ipython",
    "version": 3
   },
   "file_extension": ".py",
   "mimetype": "text/x-python",
   "name": "python",
   "nbconvert_exporter": "python",
   "pygments_lexer": "ipython3",
   "version": "3.7.4"
  }
 },
 "nbformat": 4,
 "nbformat_minor": 2
}
