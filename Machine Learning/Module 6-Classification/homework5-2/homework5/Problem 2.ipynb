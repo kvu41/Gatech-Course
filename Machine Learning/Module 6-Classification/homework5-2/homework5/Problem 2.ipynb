{
 "cells": [
  {
   "cell_type": "code",
   "execution_count": 1,
   "metadata": {},
   "outputs": [],
   "source": [
    "import numpy as np\n",
    "import matplotlib.pyplot as plt\n",
    "import pandas as pd"
   ]
  },
  {
   "cell_type": "code",
   "execution_count": 2,
   "metadata": {},
   "outputs": [],
   "source": [
    "V =['secret', 'offer', 'low', 'price', 'valued', 'customer', 'today', 'dollar', 'million', 'sport', \n",
    "    'is', 'for', 'play', 'healthy', 'pizza']"
   ]
  },
  {
   "cell_type": "code",
   "execution_count": 3,
   "metadata": {},
   "outputs": [
    {
     "data": {
      "text/plain": [
       "15"
      ]
     },
     "execution_count": 3,
     "metadata": {},
     "output_type": "execute_result"
    }
   ],
   "source": [
    "len(V)"
   ]
  },
  {
   "cell_type": "code",
   "execution_count": 4,
   "metadata": {},
   "outputs": [],
   "source": [
    "M=['million dollar offer', 'secret offer today', 'secret is secret', 'low price for valued customer', 'play secret sports today',\n",
    "  'sport is healthy', 'low price pizza']"
   ]
  },
  {
   "cell_type": "code",
   "execution_count": 5,
   "metadata": {},
   "outputs": [
    {
     "data": {
      "text/plain": [
       "[['million', 'dollar', 'offer'],\n",
       " ['secret', 'offer', 'today'],\n",
       " ['secret', 'is', 'secret'],\n",
       " ['low', 'price', 'for', 'valued', 'customer'],\n",
       " ['play', 'secret', 'sports', 'today'],\n",
       " ['sport', 'is', 'healthy'],\n",
       " ['low', 'price', 'pizza']]"
      ]
     },
     "execution_count": 5,
     "metadata": {},
     "output_type": "execute_result"
    }
   ],
   "source": [
    "word_lists = [M[i].split() for i in range(len(M))]\n",
    "word_lists"
   ]
  },
  {
   "cell_type": "code",
   "execution_count": 6,
   "metadata": {},
   "outputs": [],
   "source": [
    "X = np.zeros((len(word_lists), len(V)))\n",
    "\n",
    "for i in range(len(word_lists)):\n",
    "    for j in range(len(word_lists[i])):\n",
    "        if word_lists[i][j] in V:\n",
    "            X[i,V.index(word_lists[i][j])] +=1"
   ]
  },
  {
   "cell_type": "code",
   "execution_count": 7,
   "metadata": {},
   "outputs": [],
   "source": [
    "y = np.array([1,1,1,0,0,0,0])"
   ]
  },
  {
   "cell_type": "code",
   "execution_count": 8,
   "metadata": {},
   "outputs": [],
   "source": [
    "\"\"\"Probability of spam email\"\"\"\n",
    "y_spam = np.sum(y)/len(y)\n",
    "\n",
    "y_non_spam = 1 - y_spam"
   ]
  },
  {
   "cell_type": "code",
   "execution_count": 9,
   "metadata": {},
   "outputs": [
    {
     "name": "stdout",
     "output_type": "stream",
     "text": [
      "[[0. 1. 0. 0. 0. 0. 0. 1. 1. 0. 0. 0. 0. 0. 0.]\n",
      " [1. 1. 0. 0. 0. 0. 1. 0. 0. 0. 0. 0. 0. 0. 0.]\n",
      " [2. 0. 0. 0. 0. 0. 0. 0. 0. 0. 1. 0. 0. 0. 0.]]\n"
     ]
    }
   ],
   "source": [
    "\"Feature Vector for spam quotes\"\n",
    "X_spam = X[0:3, :]\n",
    "print(X_spam)"
   ]
  },
  {
   "cell_type": "code",
   "execution_count": 10,
   "metadata": {
    "scrolled": true
   },
   "outputs": [
    {
     "name": "stdout",
     "output_type": "stream",
     "text": [
      "[[0. 0. 1. 1. 1. 1. 0. 0. 0. 0. 0. 1. 0. 0. 0.]\n",
      " [1. 0. 0. 0. 0. 0. 1. 0. 0. 0. 0. 0. 1. 0. 0.]\n",
      " [0. 0. 0. 0. 0. 0. 0. 0. 0. 1. 1. 0. 0. 1. 0.]\n",
      " [0. 0. 1. 1. 0. 0. 0. 0. 0. 0. 0. 0. 0. 0. 1.]]\n"
     ]
    }
   ],
   "source": [
    "\"Feature Vector for non-spam quotes\"\n",
    "X_non_spam = X[3:, :]\n",
    "print(X_non_spam)"
   ]
  },
  {
   "cell_type": "code",
   "execution_count": null,
   "metadata": {},
   "outputs": [],
   "source": []
  },
  {
   "cell_type": "code",
   "execution_count": 11,
   "metadata": {},
   "outputs": [],
   "source": [
    "theta_spam = np.sum(X_spam, axis =0)"
   ]
  },
  {
   "cell_type": "code",
   "execution_count": 12,
   "metadata": {},
   "outputs": [
    {
     "data": {
      "text/plain": [
       "array([3., 2., 0., 0., 0., 0., 1., 1., 1., 0., 1., 0., 0., 0., 0.])"
      ]
     },
     "execution_count": 12,
     "metadata": {},
     "output_type": "execute_result"
    }
   ],
   "source": [
    "theta_spam"
   ]
  },
  {
   "cell_type": "code",
   "execution_count": 21,
   "metadata": {},
   "outputs": [],
   "source": [
    "theta_nonspam = np.sum(X_non_spam, axis =0)\n",
    "theta = np.sum(X, axis =0)"
   ]
  },
  {
   "cell_type": "code",
   "execution_count": 44,
   "metadata": {},
   "outputs": [],
   "source": [
    "## Applying addictive smoothing to avoid  probability is 0 with alpha = 0.1 and d =15\n",
    "add_spam =(np.sum(X_spam, axis =0) +0.1)/(np.sum(X_spam)+0.1*15)"
   ]
  },
  {
   "cell_type": "code",
   "execution_count": 45,
   "metadata": {},
   "outputs": [
    {
     "data": {
      "text/plain": [
       "array([0.2952381 , 0.2       , 0.00952381, 0.00952381, 0.00952381,\n",
       "       0.00952381, 0.1047619 , 0.1047619 , 0.1047619 , 0.00952381,\n",
       "       0.1047619 , 0.00952381, 0.00952381, 0.00952381, 0.00952381])"
      ]
     },
     "execution_count": 45,
     "metadata": {},
     "output_type": "execute_result"
    }
   ],
   "source": [
    "add_spam"
   ]
  },
  {
   "cell_type": "code",
   "execution_count": 47,
   "metadata": {},
   "outputs": [
    {
     "data": {
      "text/plain": [
       "array([0.07096774, 0.00645161, 0.13548387, 0.13548387, 0.07096774,\n",
       "       0.07096774, 0.07096774, 0.00645161, 0.00645161, 0.07096774,\n",
       "       0.07096774, 0.07096774, 0.07096774, 0.07096774, 0.07096774])"
      ]
     },
     "execution_count": 47,
     "metadata": {},
     "output_type": "execute_result"
    }
   ],
   "source": [
    "add_nonspam =(np.sum(X_non_spam, axis =0) +0.1)/(np.sum(X_non_spam)+0.1*15)\n",
    "add_nonspam"
   ]
  },
  {
   "cell_type": "code",
   "execution_count": 25,
   "metadata": {},
   "outputs": [],
   "source": [
    "add_X = (np.sum(X, axis =0) +0.1)/(np.sum(X)+0.1*15)"
   ]
  },
  {
   "cell_type": "code",
   "execution_count": 49,
   "metadata": {},
   "outputs": [
    {
     "name": "stdout",
     "output_type": "stream",
     "text": [
      "Theta_0_1 is equal 0.07096774193548387\n",
      "Theta_0_7 is equal 0.07096774193548387\n",
      "Theta_1_1 is equal 0.29523809523809524\n",
      "Theta_1_15 is equal 0.07096774193548387\n"
     ]
    }
   ],
   "source": [
    "print(\"Theta_0_1 is equal\", add_nonspam[0])\n",
    "print(\"Theta_0_7 is equal\", add_nonspam[6])\n",
    "print(\"Theta_1_1 is equal\", add_spam[0])\n",
    "print(\"Theta_1_15 is equal\", add_nonspam[14])"
   ]
  },
  {
   "cell_type": "code",
   "execution_count": 74,
   "metadata": {},
   "outputs": [],
   "source": [
    "## Part D: Vectorizing the message\n",
    "message ='today is secret'\n",
    "message = message.split()\n",
    "vec =np.zeros((1,15))\n",
    "for i in range(len(message)):\n",
    "    if message[i] in V:\n",
    "        vec[0,V.index(message[i])] +=1"
   ]
  },
  {
   "cell_type": "code",
   "execution_count": 75,
   "metadata": {},
   "outputs": [],
   "source": [
    "##Calculate un-normalized probability of the message being spam\n",
    "Pmess_spam = 1\n",
    "for i in range(len(vec)):\n",
    "    Pmess_spam = Pmess_spam*add_spam[i]**vec[0,i]"
   ]
  },
  {
   "cell_type": "code",
   "execution_count": 76,
   "metadata": {},
   "outputs": [],
   "source": [
    "##Calculate un-normalized probability of the message being non-spam\n",
    "Pmess_nonspam = 1\n",
    "for i in range(len(vec)):\n",
    "    Pmess_nonspam = Pmess_nonspam*add_nonspam[i]**vec[0,i]"
   ]
  },
  {
   "cell_type": "code",
   "execution_count": 80,
   "metadata": {},
   "outputs": [
    {
     "data": {
      "text/plain": [
       "0.8062080536912751"
      ]
     },
     "execution_count": 80,
     "metadata": {},
     "output_type": "execute_result"
    }
   ],
   "source": [
    "#Normalized Probability of the message being spam\n",
    "nom_pspam = (Pmess_spam)/(Pmess_spam+Pmess_nonspam)\n",
    "nom_pspam"
   ]
  },
  {
   "cell_type": "code",
   "execution_count": 82,
   "metadata": {},
   "outputs": [
    {
     "data": {
      "text/plain": [
       "\"The message 'today is secret' is classified as spam text\""
      ]
     },
     "execution_count": 82,
     "metadata": {},
     "output_type": "execute_result"
    }
   ],
   "source": [
    "\"\"\"The message 'today is secret' is classified as spam text\"\"\""
   ]
  },
  {
   "cell_type": "code",
   "execution_count": null,
   "metadata": {},
   "outputs": [],
   "source": []
  }
 ],
 "metadata": {
  "kernelspec": {
   "display_name": "Python 3",
   "language": "python",
   "name": "python3"
  },
  "language_info": {
   "codemirror_mode": {
    "name": "ipython",
    "version": 3
   },
   "file_extension": ".py",
   "mimetype": "text/x-python",
   "name": "python",
   "nbconvert_exporter": "python",
   "pygments_lexer": "ipython3",
   "version": "3.7.4"
  }
 },
 "nbformat": 4,
 "nbformat_minor": 2
}
