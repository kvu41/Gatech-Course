{
 "cells": [
  {
   "cell_type": "code",
   "execution_count": 35,
   "metadata": {},
   "outputs": [],
   "source": [
    "import numpy as np\n",
    "import scipy.io as sio\n",
    "import pandas as pd\n",
    "import matplotlib.pyplot as plt\n",
    "from sklearn.naive_bayes import GaussianNB\n",
    "from sklearn.linear_model import LogisticRegression\n",
    "from sklearn.neighbors import KNeighborsClassifier\n",
    "from sklearn.model_selection import train_test_split,cross_val_score, GridSearchCV, cross_validate\n",
    "from sklearn.metrics import accuracy_score\n",
    "\n",
    "\n",
    "import warnings\n",
    "warnings.simplefilter('ignore')\n",
    "%matplotlib inline"
   ]
  },
  {
   "cell_type": "code",
   "execution_count": 2,
   "metadata": {},
   "outputs": [],
   "source": [
    "data = sio.loadmat('data.mat')\n",
    "label = sio.loadmat('label.mat')"
   ]
  },
  {
   "cell_type": "code",
   "execution_count": 10,
   "metadata": {},
   "outputs": [],
   "source": [
    "X = data['data'].T\n",
    "y = label['trueLabel']"
   ]
  },
  {
   "cell_type": "code",
   "execution_count": 20,
   "metadata": {},
   "outputs": [],
   "source": [
    "y_true = []\n",
    "for i in range(y.shape[1]):\n",
    "    if y[0,i] == 2:\n",
    "        y_true.append(0)\n",
    "    else:\n",
    "        y_true.append(1)"
   ]
  },
  {
   "cell_type": "code",
   "execution_count": 24,
   "metadata": {},
   "outputs": [],
   "source": [
    "y_true = np.array(y_true)"
   ]
  },
  {
   "cell_type": "code",
   "execution_count": 31,
   "metadata": {},
   "outputs": [],
   "source": [
    "X_train, X_test, y_train, y_test = train_test_split(X,y_true, test_size = 0.2, random_state =42)"
   ]
  },
  {
   "cell_type": "markdown",
   "metadata": {},
   "source": [
    "# Naive Bayes"
   ]
  },
  {
   "cell_type": "code",
   "execution_count": 32,
   "metadata": {},
   "outputs": [
    {
     "name": "stdout",
     "output_type": "stream",
     "text": [
      "Accuracy of Naive Bayes Model 0.8065326633165829\n"
     ]
    }
   ],
   "source": [
    "naive_bayes = GaussianNB()\n",
    "naive_bayes.fit(X_train,y_train)\n",
    "y_nb = naive_bayes.predict(X_test)\n",
    "print('Accuracy of Naive Bayes Model', accuracy_score(y_test, y_nb))"
   ]
  },
  {
   "cell_type": "markdown",
   "metadata": {},
   "source": [
    "# Logistic Regression"
   ]
  },
  {
   "cell_type": "code",
   "execution_count": 36,
   "metadata": {},
   "outputs": [
    {
     "name": "stdout",
     "output_type": "stream",
     "text": [
      "Best parameters are:  {'C': 1, 'penalty': 'l2'}\n",
      "Best score are:  0.9780150753768844\n"
     ]
    }
   ],
   "source": [
    "lr = LogisticRegression()\n",
    "parameters = {'penalty':['l1', 'l2'], 'C': range(1,50,50)}\n",
    "tune_lr = GridSearchCV(lr, parameters , cv =5).fit(X_train,y_train)\n",
    "print('Best parameters are: ', tune_lr.best_params_)\n",
    "print('Best score are: ', tune_lr.best_score_)"
   ]
  },
  {
   "cell_type": "code",
   "execution_count": 40,
   "metadata": {},
   "outputs": [
    {
     "name": "stdout",
     "output_type": "stream",
     "text": [
      "Best score of Logistic Regression model 0.9824120603015075\n"
     ]
    }
   ],
   "source": [
    "best_lr = LogisticRegression(C =1,penalty = 'l2')\n",
    "best_lr.fit(X_train,y_train)\n",
    "y_lr = best_lr.predict(X_test)\n",
    "\n",
    "print(\"Best score of Logistic Regression model\", accuracy_score(y_test, y_lr))"
   ]
  },
  {
   "cell_type": "markdown",
   "metadata": {},
   "source": [
    "# KNN"
   ]
  },
  {
   "cell_type": "code",
   "execution_count": 42,
   "metadata": {},
   "outputs": [
    {
     "name": "stdout",
     "output_type": "stream",
     "text": [
      "Best parameters are:  {'n_neighbors': 3, 'p': 1, 'weights': 'uniform'}\n",
      "Best score are:  0.9943467336683417\n"
     ]
    }
   ],
   "source": [
    "#HyperParameters Tuning for KNN\n",
    "knn = KNeighborsClassifier()\n",
    "parameters_knn ={'n_neighbors': range(3,50), 'p':[1,2], 'weights':['uniform', 'distance']}\n",
    "tune_knn = GridSearchCV(knn, parameters_knn, cv=5).fit(X_train, y_train)\n",
    "print('Best parameters are: ', tune_knn.best_params_)\n",
    "print('Best score are: ', tune_knn.best_score_)\n"
   ]
  },
  {
   "cell_type": "code",
   "execution_count": null,
   "metadata": {},
   "outputs": [],
   "source": [
    "best_knn = KNeighborsClassifier(n_neighbors =12, p=2)\n",
    "best_knn.fit(X_train,y_train)\n",
    "y_knn = best_knn.predict(X_test)"
   ]
  },
  {
   "cell_type": "code",
   "execution_count": null,
   "metadata": {},
   "outputs": [],
   "source": []
  }
 ],
 "metadata": {
  "kernelspec": {
   "display_name": "Python 3",
   "language": "python",
   "name": "python3"
  },
  "language_info": {
   "codemirror_mode": {
    "name": "ipython",
    "version": 3
   },
   "file_extension": ".py",
   "mimetype": "text/x-python",
   "name": "python",
   "nbconvert_exporter": "python",
   "pygments_lexer": "ipython3",
   "version": "3.7.4"
  }
 },
 "nbformat": 4,
 "nbformat_minor": 2
}
